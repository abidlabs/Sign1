{
 "cells": [
  {
   "cell_type": "markdown",
   "metadata": {},
   "source": [
    "# Test of OpenCV + FastAI for video capture"
   ]
  },
  {
   "cell_type": "code",
   "execution_count": 37,
   "metadata": {
    "execution": {
     "iopub.execute_input": "2020-09-22T10:58:58.289231Z",
     "iopub.status.busy": "2020-09-22T10:58:58.289040Z",
     "iopub.status.idle": "2020-09-22T10:58:58.293499Z",
     "shell.execute_reply": "2020-09-22T10:58:58.292803Z",
     "shell.execute_reply.started": "2020-09-22T10:58:58.289209Z"
    }
   },
   "outputs": [],
   "source": [
    "# !pip install -Uqq fastbook\n",
    "import fastbook\n",
    "fastbook.setup_book()\n",
    "\n",
    "from fastbook import *\n",
    "from fastai.vision.widgets import *\n",
    "import fastai\n",
    "\n",
    "import numpy as np\n",
    "import cv2 as cv\n",
    "\n",
    "import os"
   ]
  },
  {
   "cell_type": "markdown",
   "metadata": {},
   "source": [
    "<br>\n",
    "<br>\n",
    "\n",
    "## Load the model"
   ]
  },
  {
   "cell_type": "code",
   "execution_count": 2,
   "metadata": {
    "execution": {
     "iopub.execute_input": "2020-09-22T06:11:09.284429Z",
     "iopub.status.busy": "2020-09-22T06:11:09.284338Z",
     "iopub.status.idle": "2020-09-22T06:11:10.208254Z",
     "shell.execute_reply": "2020-09-22T06:11:10.207827Z",
     "shell.execute_reply.started": "2020-09-22T06:11:09.284417Z"
    }
   },
   "outputs": [],
   "source": [
    "path = Path('../models')\n",
    "learn_inf = load_learner(path/'200921-0435-FALL-lrfoc4-ulrfoc6')\n",
    "# learn_inf = load_learner(path/'200921-0600-FALL-lrfoc4-ulrfoc6-F-lrfoc4-ulrfoc6')"
   ]
  },
  {
   "cell_type": "markdown",
   "metadata": {},
   "source": [
    "<br>\n",
    "<br>\n",
    "\n",
    "## Function definitions"
   ]
  },
  {
   "cell_type": "code",
   "execution_count": 50,
   "metadata": {
    "execution": {
     "iopub.execute_input": "2020-09-22T11:25:19.211801Z",
     "iopub.status.busy": "2020-09-22T11:25:19.211578Z",
     "iopub.status.idle": "2020-09-22T11:25:19.220616Z",
     "shell.execute_reply": "2020-09-22T11:25:19.220074Z",
     "shell.execute_reply.started": "2020-09-22T11:25:19.211775Z"
    }
   },
   "outputs": [],
   "source": [
    "def setup_camera() -> cv.VideoCapture:\n",
    "    '''\n",
    "    Set up the camera source\n",
    "    '''\n",
    "#     cap = cv.VideoCapture(0)\n",
    "    # cap = cv.VideoCapture('http://127.0.0.1:4747/video')\n",
    "    cap = cv.VideoCapture('http://10.0.0.75:4747/video')\n",
    "    # cap = cv.VideoCapture('Droidcam')\n",
    "    # cap = cv.VideoCapture('http://10.0.0.145:4747/video')\n",
    "    \n",
    "    print(f'Autofocus status: {cap.set(cv.CAP_PROP_AUTOFOCUS, 0)}')\n",
    "    print(f'Manual focus to shortest distance: {cap.set(cv.CAP_PROP_FOCUS, 0)}')\n",
    "\n",
    "    # Check if camera opened successfully\n",
    "    if not cap.isOpened:\n",
    "        print(\"Error opening video stream or file!\")\n",
    "    \n",
    "    return cap\n",
    "\n",
    "\n",
    "\n",
    "\n",
    "def close_camera():\n",
    "    '''\n",
    "    Close all capture devices and destroy open capture windows\n",
    "    '''\n",
    "    cap.release()\n",
    "    cv.destroyAllWindows()\n",
    "    \n",
    "    \n",
    "\n",
    "\n",
    "def print_stats():\n",
    "    '''\n",
    "    Print some basic stats to stdout\n",
    "    '''\n",
    "    \n",
    "    print(f'Frame shape = {frame.shape}')\n",
    "    print(f'Total number of Frames = {nframe}')\n",
    "    print(f'Number of frames processed = {n_proc_frames // PROC_NTH_FRAME}')\n",
    "    \n",
    "    \n",
    "    \n",
    "# @TODO: Factor out the directory creation logic - slow/redundant    \n",
    "def save_images(frame, prframe):\n",
    "    '''\n",
    "    write small and large images to jpeg\n",
    "    '''\n",
    "    maindir = 'frank-ledlights'\n",
    "    symbol_dir = SYMBOL\n",
    "    fprefix = 'oldwebcam'\n",
    "    \n",
    "    #seperate the directory path\n",
    "    datadir_small = f'../data/{maindir}-S/{symbol_dir}'\n",
    "    datadir_large = f'../data/{maindir}-L/{symbol_dir}'\n",
    "\n",
    "    # build the entire directory structure if it doesn't exist\n",
    "    if not os.path.isdir(datadir_small):\n",
    "        os.mkdirs(datadir_small)\n",
    "        \n",
    "    if not os.path.isdir(datadir_large):\n",
    "        os.mkdirs(datadir_large)\n",
    "    \n",
    "    # create a directory+filename template\n",
    "    ftemplate_small = f'{datadir_small}/{fprefix}-{n_proc_frames}.jpg'\n",
    "    ftemplate_large = f'{datadir_large}/{fprefix}-{n_proc_frames}.jpg'\n",
    "    \n",
    "    # write the image to a file\n",
    "#     cv.imwrite(ftemplate_small, prframe)\n",
    "    cv.imwrite(ftemplate_large, frame)\n",
    "    \n",
    "    frame = cv.putText(frame, f'Saved Frame #{n_proc_frames}', \n",
    "                   org=(20,40), fontFace=cv.FONT_HERSHEY_PLAIN, \n",
    "                   fontScale=2, color=(0,255,255), thickness=2,\n",
    "                   lineType=cv.LINE_AA) \n",
    "    \n",
    "    # Display the frame with the writing on it\n",
    "    cv.imshow('What the Camera Sees:',frame)\n",
    "    \n",
    "    \n",
    "    \n",
    "    \n"
   ]
  },
  {
   "cell_type": "markdown",
   "metadata": {},
   "source": [
    "<br>\n",
    "<br>\n",
    "\n",
    "## Open the video camera, loop for every Frame, massage the image and make a prediction.  "
   ]
  },
  {
   "cell_type": "markdown",
   "metadata": {},
   "source": [
    "#### This is the main code cel."
   ]
  },
  {
   "cell_type": "code",
   "execution_count": 51,
   "metadata": {
    "execution": {
     "iopub.execute_input": "2020-09-22T11:25:20.939216Z",
     "iopub.status.busy": "2020-09-22T11:25:20.939002Z",
     "iopub.status.idle": "2020-09-22T11:25:26.599269Z",
     "shell.execute_reply": "2020-09-22T11:25:26.598726Z",
     "shell.execute_reply.started": "2020-09-22T11:25:20.939190Z"
    }
   },
   "outputs": [
    {
     "name": "stdout",
     "output_type": "stream",
     "text": [
      "Autofocus status: False\n",
      "Manual focus to shortest distance: False\n"
     ]
    },
    {
     "name": "stdin",
     "output_type": "stream",
     "text": [
      "Enter Symbol of interest:  K\n"
     ]
    },
    {
     "name": "stdout",
     "output_type": "stream",
     "text": [
      "Frame shape = (480, 640, 3)\n",
      "Total number of Frames = 91\n",
      "Number of frames processed = 0\n"
     ]
    }
   ],
   "source": [
    "PROC_NTH_FRAME = 2  # Skip every N-1 frames\n",
    "SAVE_IMAGES_TO_FILE = True  # flag if we want to capture the image to disk\n",
    "\n",
    "n_proc_frames, nframe = 0,0  # number of frames\n",
    "\n",
    "# declare here to widen scope\n",
    "pred, pred_idx, probs = \" \", 0, [0.0,0.0,0.0]\n",
    "\n",
    "cap = setup_camera()\n",
    "\n",
    "\n",
    "if SAVE_IMAGES_TO_FILE:\n",
    "    SYMBOL = input('Enter Symbol of interest: ')[0]\n",
    "\n",
    "# \"Game\" Loop ... for every frame\n",
    "while(cap.isOpened()):\n",
    "    \n",
    "    nframe += 1\n",
    "    ret, frame = cap.read()  # Capture frame\n",
    "    wait_ret = cv.waitKey(5)  # key char value if any\n",
    "\n",
    "    # Break out of the loop if the user presses 'Q'\n",
    "    if wait_ret & 0xFF == ord('q'):\n",
    "        print_stats()\n",
    "        break\n",
    "    \n",
    "    # only process the rest if the capture was successful\n",
    "    if not ret:\n",
    "        print(\"Can't read frame from capture source!\")\n",
    "        break  # break out of loop to let the camera close\n",
    "\n",
    "    # crop the original 640x480 image down to a centered square 480x480\n",
    "    frame = frame[:, 80:-80]\n",
    "\n",
    "    # mirror the image horizontally\n",
    "    frame = cv.flip(frame, 1)\n",
    "\n",
    "\n",
    "    # process only if the space key is hit and\n",
    "    # only process every PROC_NTH_FRAME frames \n",
    "    if wait_ret & 0xFF == ord(' ') and (nframe % PROC_NTH_FRAME == 0):\n",
    "        n_proc_frames +=1  # num processed frames\n",
    "\n",
    "        # resize the image to 128x128 after \"zooming in\"\n",
    "        prframe = cv.resize(frame[60:-60, 60:-60], (128,128))\n",
    "\n",
    "        # Display the frame that we pass through the predictor\n",
    "        cv.imshow('What the Predictor Sees:', prframe)\n",
    "\n",
    "        if SAVE_IMAGES_TO_FILE :\n",
    "            save_images(frame, prframe)\n",
    "            continue  # no need to predict\n",
    "\n",
    "        # create the prediction\n",
    "        pred,pred_idx,probs = learn_inf.predict(prframe)\n",
    "\n",
    "\n",
    "    # write the prediction as text on the frame\n",
    "    if probs[pred_idx] > 0.75:\n",
    "        frame = cv.putText(frame, f'Predict: {pred}, prob: {probs[pred_idx]:.02f}', \n",
    "                           org=(20,40), fontFace=cv.FONT_HERSHEY_PLAIN, \n",
    "                           fontScale=2, color=(0,255,255), thickness=2,\n",
    "                           lineType=cv.LINE_AA) \n",
    "\n",
    "    # Display the original frame\n",
    "    cv.imshow('What the Camera Sees:',frame)\n",
    "\n",
    "# Release the capture object\n",
    "close_camera()\n"
   ]
  },
  {
   "cell_type": "markdown",
   "metadata": {
    "execution": {
     "iopub.execute_input": "2020-09-22T06:32:57.594505Z",
     "iopub.status.busy": "2020-09-22T06:32:57.594224Z",
     "iopub.status.idle": "2020-09-22T06:32:57.600047Z",
     "shell.execute_reply": "2020-09-22T06:32:57.599566Z",
     "shell.execute_reply.started": "2020-09-22T06:32:57.594474Z"
    }
   },
   "source": [
    "cap.release()\n",
    "cv.destroyAllWindows()                     "
   ]
  },
  {
   "cell_type": "markdown",
   "metadata": {
    "execution": {
     "iopub.execute_input": "2020-09-19T09:52:40.639847Z",
     "iopub.status.busy": "2020-09-19T09:52:40.639632Z",
     "iopub.status.idle": "2020-09-19T09:52:40.642608Z",
     "shell.execute_reply": "2020-09-19T09:52:40.642059Z",
     "shell.execute_reply.started": "2020-09-19T09:52:40.639824Z"
    }
   },
   "source": [
    "<br>\n",
    "<br>\n",
    "<br>\n",
    "<br>\n",
    "<br>\n",
    "\n",
    "\n",
    "# The rest of this file is for reference only.  \n",
    "\n",
    "<br>\n",
    "<br>\n",
    "<br>\n",
    "\n"
   ]
  },
  {
   "cell_type": "markdown",
   "metadata": {},
   "source": [
    "<br>\n",
    "<br>\n",
    "<br>\n",
    "<br>\n",
    "<br>\n",
    "<br>\n",
    "<br>\n",
    "<br>\n",
    "\n",
    "\n",
    "# Snippets\n",
    "\n",
    "```python\n",
    "# rotate the image\n",
    "frame = cv.rotate(frame, cv.ROTATE_90_COUNTERCLOCKWISE)\n",
    "```"
   ]
  },
  {
   "cell_type": "code",
   "execution_count": null,
   "metadata": {},
   "outputs": [],
   "source": []
  }
 ],
 "metadata": {
  "kernelspec": {
   "display_name": "Python 3",
   "language": "python",
   "name": "python3"
  },
  "language_info": {
   "codemirror_mode": {
    "name": "ipython",
    "version": 3
   },
   "file_extension": ".py",
   "mimetype": "text/x-python",
   "name": "python",
   "nbconvert_exporter": "python",
   "pygments_lexer": "ipython3",
   "version": "3.7.9"
  }
 },
 "nbformat": 4,
 "nbformat_minor": 4
}
