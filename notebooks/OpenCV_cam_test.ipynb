{
 "cells": [
  {
   "cell_type": "markdown",
   "metadata": {},
   "source": [
    "# Test of OpenCV + FastAI for video capture"
   ]
  },
  {
   "cell_type": "code",
   "execution_count": 1,
   "metadata": {
    "execution": {
     "iopub.execute_input": "2020-09-20T10:22:14.871197Z",
     "iopub.status.busy": "2020-09-20T10:22:14.870905Z",
     "iopub.status.idle": "2020-09-20T10:22:15.843991Z",
     "shell.execute_reply": "2020-09-20T10:22:15.843568Z",
     "shell.execute_reply.started": "2020-09-20T10:22:14.871114Z"
    }
   },
   "outputs": [],
   "source": [
    "# !pip install -Uqq fastbook\n",
    "import fastbook\n",
    "fastbook.setup_book()\n",
    "\n",
    "from fastbook import *\n",
    "from fastai.vision.widgets import *\n",
    "import fastai\n",
    "\n",
    "import numpy as np\n",
    "import cv2 as cv"
   ]
  },
  {
   "cell_type": "markdown",
   "metadata": {},
   "source": [
    "<br>\n",
    "<br>\n",
    "\n",
    "## Load the model"
   ]
  },
  {
   "cell_type": "code",
   "execution_count": 2,
   "metadata": {
    "execution": {
     "iopub.execute_input": "2020-09-20T10:22:16.174949Z",
     "iopub.status.busy": "2020-09-20T10:22:16.174739Z",
     "iopub.status.idle": "2020-09-20T10:22:17.047154Z",
     "shell.execute_reply": "2020-09-20T10:22:17.046723Z",
     "shell.execute_reply.started": "2020-09-20T10:22:16.174924Z"
    }
   },
   "outputs": [],
   "source": [
    "path = Path('../models')\n",
    "learn_inf = load_learner(path/'export-resnet101-tune10un-tune2ft.pkl')"
   ]
  },
  {
   "cell_type": "markdown",
   "metadata": {},
   "source": [
    "<br>\n",
    "<br>\n",
    "\n",
    "## Open the video camera, loop for every Frame, massage the image and make a prediction.  "
   ]
  },
  {
   "cell_type": "code",
   "execution_count": 15,
   "metadata": {
    "execution": {
     "iopub.execute_input": "2020-09-20T11:08:24.397914Z",
     "iopub.status.busy": "2020-09-20T11:08:24.397652Z",
     "iopub.status.idle": "2020-09-20T11:08:24.410636Z",
     "shell.execute_reply": "2020-09-20T11:08:24.410040Z",
     "shell.execute_reply.started": "2020-09-20T11:08:24.397881Z"
    }
   },
   "outputs": [
    {
     "name": "stdout",
     "output_type": "stream",
     "text": [
      "Error opening video stream or file\n"
     ]
    }
   ],
   "source": [
    "PROC_NTH_FRAME = 8\n",
    "\n",
    "# cap = cv.VideoCapture('http://127.0.0.1:4747/video')\n",
    "# cap = cv.VideoCapture('http://10.0.0.145:4747/video')\n",
    "# cap = cv.VideoCapture('Droidcam')\n",
    "cap = cv.VideoCapture('http://10.0.0.145:4747/video')\n",
    "\n",
    "\n",
    "# Check if camera opened successfully\n",
    "if (cap.isOpened()== False): \n",
    "  print(\"Error opening video stream or file\")\n",
    "\n",
    "nframe = 0  # number of frames\n",
    "\n",
    "\n",
    "\n",
    "# \"Game\" Loop ... for every frame\n",
    "while(cap.isOpened()):\n",
    "    # declare here to widen scope\n",
    "#     pred, pred_idx, probs = \" \", 0, [0.0,0.0,0.0]\n",
    "    try: pred\n",
    "    except NameError: pred = \"\"\n",
    "    \n",
    "    try: pred_idx\n",
    "    except NameError: pred_idx = 0\n",
    "    \n",
    "    try: probs\n",
    "    except NameError: probs = [0.0,0.0,0.0]\n",
    "        \n",
    "    nframe+=1\n",
    "    \n",
    "    # Capture frame-by-frame\n",
    "    ret, frame = cap.read()\n",
    "    \n",
    "    # only process the rest if the capture was successful\n",
    "    if ret == True:\n",
    "\n",
    "        # crop the original 640x480 image down to a centered square 480x480\n",
    "        frame = frame[:, 80:-80]\n",
    "\n",
    "        # mirror the image horizontally\n",
    "        frame = cv.flip(frame, 1)\n",
    "\n",
    "\n",
    "        # process only if the space key is hit and\n",
    "        # only process every PROC_NTH_FRAME frames \n",
    "        if (cv.waitKey(20) & 0xFF == ord(' ')) and (nframe % PROC_NTH_FRAME == 0):\n",
    "\n",
    "            # resize the image to 128x128 \n",
    "            # renamed as prframe so that we have a copy to go through the predictor\n",
    "            # @TODO: accomplish this while reading the camera\n",
    "            prframe = cv.resize(frame, (128,128))\n",
    "\n",
    "            # Display the frame that we pass through the predictor\n",
    "            cv.imshow('What the Predictor Sees:', prframe)\n",
    "\n",
    "            # create the prediction\n",
    "            pred,pred_idx,probs = learn_inf.predict(prframe)\n",
    "\n",
    "            # for now just print it to the console (only if it's a sufficiently high guess)\n",
    "#             if probs[pred_idx] > 0.75:\n",
    "#                 print(f'Prediction: {pred}; Probability: {probs[pred_idx]:.04f}')\n",
    "\n",
    "                \n",
    "                \n",
    "                \n",
    "        # write the prediction as text on the frame\n",
    "        if probs[pred_idx] > 0.75:\n",
    "            frame = cv.putText(frame, f'Predict: {pred}, prob: {probs[pred_idx]:.04f}', \n",
    "                               org=(20,40), fontFace=cv.FONT_HERSHEY_PLAIN, \n",
    "                               fontScale=2, color=(0,255,255), thickness=2,\n",
    "                               lineType=cv.LINE_AA) \n",
    "\n",
    "\n",
    "        # Display the original frame\n",
    "        cv.imshow('What the Camera Sees:',frame)\n",
    "\n",
    "        # Break out of the loop if the user presses 'Q'\n",
    "        if cv.waitKey(20) & 0xFF == ord('q'):\n",
    "\n",
    "            # Display some basic stats\n",
    "            print(f'Frame shape = {frame.shape}')\n",
    "            print(f'Total number of Frames = {nframe}')\n",
    "            print(f'Number of frames processed = {nframe // PROC_NTH_FRAME}')\n",
    "            break\n",
    "\n",
    "\n",
    "# When everything done, release the capture\n",
    "cap.release()\n",
    "cv.destroyAllWindows()"
   ]
  },
  {
   "cell_type": "code",
   "execution_count": null,
   "metadata": {},
   "outputs": [],
   "source": [
    "cap.release()\n",
    "cv.destroyAllWindows()"
   ]
  },
  {
   "cell_type": "markdown",
   "metadata": {
    "execution": {
     "iopub.execute_input": "2020-09-19T09:52:40.639847Z",
     "iopub.status.busy": "2020-09-19T09:52:40.639632Z",
     "iopub.status.idle": "2020-09-19T09:52:40.642608Z",
     "shell.execute_reply": "2020-09-19T09:52:40.642059Z",
     "shell.execute_reply.started": "2020-09-19T09:52:40.639824Z"
    }
   },
   "source": [
    "<br>\n",
    "<br>\n",
    "<br>\n",
    "<br>\n",
    "<br>\n",
    "\n",
    "\n",
    "# The rest of this file is for reference only.  \n",
    "\n",
    "<br>\n",
    "<br>\n",
    "<br>\n",
    "\n",
    "#### The code here is more complete than my prototype and I'll want to add it back later."
   ]
  },
  {
   "cell_type": "code",
   "execution_count": null,
   "metadata": {},
   "outputs": [],
   "source": [
    "import cv\n",
    "import numpy as np\n",
    "\n",
    "# Create a VideoCapture object and read from input file\n",
    "# If the input is the camera, pass 0 instead of the video file name\n",
    "cap = cv.VideoCapture('Chaplin.mp4')\n",
    "\n",
    "# Check if camera opened successfully\n",
    "if (cap.isOpened()== False): \n",
    "  print(\"Error opening video stream or file\")\n",
    "\n",
    "# Read until video is completed\n",
    "while(cap.isOpened()):\n",
    "  # Capture frame-by-frame\n",
    "  ret, frame = cap.read()\n",
    "  if ret == True:\n",
    "\n",
    "    # Display the resulting frame\n",
    "    cv.imshow('Frame',frame)\n",
    "\n",
    "    # Press Q on keyboard to  exit\n",
    "    if cv.waitKey(25) & 0xFF == ord('q'):\n",
    "      break\n",
    "\n",
    "  # Break the loop\n",
    "  else: \n",
    "    break\n",
    "\n",
    "# When everything done, release the video capture object\n",
    "cap.release()\n",
    "\n",
    "# Closes all the frames\n",
    "cv.destroyAllWindows()\n",
    "\n"
   ]
  },
  {
   "cell_type": "markdown",
   "metadata": {},
   "source": [
    "<br>\n",
    "<br>\n",
    "<br>\n",
    "<br>\n",
    "<br>\n",
    "<br>\n",
    "<br>\n",
    "<br>\n",
    "\n",
    "\n",
    "# Snippets\n",
    "\n",
    "```python\n",
    "# rotate the image\n",
    "frame = cv.rotate(frame, cv.ROTATE_90_COUNTERCLOCKWISE)\n",
    "```"
   ]
  },
  {
   "cell_type": "code",
   "execution_count": null,
   "metadata": {},
   "outputs": [],
   "source": []
  }
 ],
 "metadata": {
  "kernelspec": {
   "display_name": "Python 3",
   "language": "python",
   "name": "python3"
  },
  "language_info": {
   "codemirror_mode": {
    "name": "ipython",
    "version": 3
   },
   "file_extension": ".py",
   "mimetype": "text/x-python",
   "name": "python",
   "nbconvert_exporter": "python",
   "pygments_lexer": "ipython3",
   "version": "3.7.9"
  }
 },
 "nbformat": 4,
 "nbformat_minor": 4
}
