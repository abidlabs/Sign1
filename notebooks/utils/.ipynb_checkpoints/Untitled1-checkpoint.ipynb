{
 "cells": [
  {
   "cell_type": "markdown",
   "id": "virgin-nickel",
   "metadata": {},
   "source": [
    "# Temporary Util script to view and/or extract parts of a dataset"
   ]
  },
  {
   "cell_type": "code",
   "execution_count": 1,
   "id": "recovered-nickel",
   "metadata": {
    "execution": {
     "iopub.execute_input": "2021-03-09T01:15:49.729204Z",
     "iopub.status.busy": "2021-03-09T01:15:49.728840Z",
     "iopub.status.idle": "2021-03-09T01:15:51.287162Z",
     "shell.execute_reply": "2021-03-09T01:15:51.286740Z",
     "shell.execute_reply.started": "2021-03-09T01:15:49.729124Z"
    }
   },
   "outputs": [],
   "source": [
    "import pyforest\n",
    "import fastai\n",
    "from fastai.vision import *\n",
    "from fastai.vision.all import *\n",
    "import numpy as np\n",
    "\n",
    "\n",
    "from string import ascii_uppercase"
   ]
  },
  {
   "cell_type": "code",
   "execution_count": 6,
   "id": "increasing-reality",
   "metadata": {
    "execution": {
     "iopub.execute_input": "2021-03-09T01:22:51.670246Z",
     "iopub.status.busy": "2021-03-09T01:22:51.669981Z",
     "iopub.status.idle": "2021-03-09T01:22:51.782578Z",
     "shell.execute_reply": "2021-03-09T01:22:51.782033Z",
     "shell.execute_reply.started": "2021-03-09T01:22:51.670224Z"
    },
    "tags": []
   },
   "outputs": [],
   "source": [
    "files = get_image_files('../../data/external_culled_1400')"
   ]
  },
  {
   "cell_type": "code",
   "execution_count": 7,
   "id": "mechanical-profit",
   "metadata": {
    "execution": {
     "iopub.execute_input": "2021-03-09T01:22:52.046642Z",
     "iopub.status.busy": "2021-03-09T01:22:52.046394Z",
     "iopub.status.idle": "2021-03-09T01:22:52.050091Z",
     "shell.execute_reply": "2021-03-09T01:22:52.049560Z",
     "shell.execute_reply.started": "2021-03-09T01:22:52.046619Z"
    },
    "tags": []
   },
   "outputs": [
    {
     "data": {
      "text/plain": [
       "(#33600) [Path('../../data/external_culled_1400/Training_Set/Q/color_16_0154 (5).png'),Path('../../data/external_culled_1400/Training_Set/Q/color_16_0467.png'),Path('../../data/external_culled_1400/Training_Set/Q/color_16_0452 (5).png'),Path('../../data/external_culled_1400/Training_Set/Q/color_16_0245 (5).png'),Path('../../data/external_culled_1400/Training_Set/Q/color_16_0430 (3).png'),Path('../../data/external_culled_1400/Training_Set/Q/color_16_0233 (5).png'),Path('../../data/external_culled_1400/Training_Set/Q/color_16_0549.png'),Path('../../data/external_culled_1400/Training_Set/Q/Q722.jpg'),Path('../../data/external_culled_1400/Training_Set/Q/Q433.jpg'),Path('../../data/external_culled_1400/Training_Set/Q/color_16_0153.png')...]"
      ]
     },
     "execution_count": 7,
     "metadata": {},
     "output_type": "execute_result"
    }
   ],
   "source": [
    "files"
   ]
  },
  {
   "cell_type": "code",
   "execution_count": 8,
   "id": "efficient-corner",
   "metadata": {
    "execution": {
     "iopub.execute_input": "2021-03-09T01:23:24.924281Z",
     "iopub.status.busy": "2021-03-09T01:23:24.924021Z",
     "iopub.status.idle": "2021-03-09T01:23:24.928153Z",
     "shell.execute_reply": "2021-03-09T01:23:24.927671Z",
     "shell.execute_reply.started": "2021-03-09T01:23:24.924258Z"
    }
   },
   "outputs": [
    {
     "data": {
      "text/plain": [
       "list"
      ]
     },
     "execution_count": 8,
     "metadata": {},
     "output_type": "execute_result"
    }
   ],
   "source": [
    "files = list(files)\n",
    "type(files)"
   ]
  },
  {
   "cell_type": "code",
   "execution_count": 16,
   "id": "second-harvey",
   "metadata": {
    "execution": {
     "iopub.execute_input": "2021-03-09T01:27:03.594775Z",
     "iopub.status.busy": "2021-03-09T01:27:03.594506Z",
     "iopub.status.idle": "2021-03-09T01:27:03.607580Z",
     "shell.execute_reply": "2021-03-09T01:27:03.607188Z",
     "shell.execute_reply.started": "2021-03-09T01:27:03.594750Z"
    },
    "tags": []
   },
   "outputs": [
    {
     "name": "stdout",
     "output_type": "stream",
     "text": [
      "3068\n"
     ]
    }
   ],
   "source": [
    "count = 0\n",
    "\n",
    "for f in files:\n",
    "    if 'color' not in str(f):\n",
    "        count +=1\n",
    "        \n",
    "print(count)"
   ]
  },
  {
   "cell_type": "code",
   "execution_count": 15,
   "id": "urban-fellowship",
   "metadata": {
    "execution": {
     "iopub.execute_input": "2021-03-09T01:25:47.806905Z",
     "iopub.status.busy": "2021-03-09T01:25:47.806679Z",
     "iopub.status.idle": "2021-03-09T01:25:47.811731Z",
     "shell.execute_reply": "2021-03-09T01:25:47.810994Z",
     "shell.execute_reply.started": "2021-03-09T01:25:47.806886Z"
    }
   },
   "outputs": [
    {
     "data": {
      "text/plain": [
       "33600"
      ]
     },
     "execution_count": 15,
     "metadata": {},
     "output_type": "execute_result"
    }
   ],
   "source": [
    "len(files)"
   ]
  },
  {
   "cell_type": "code",
   "execution_count": null,
   "id": "stretch-control",
   "metadata": {},
   "outputs": [],
   "source": []
  }
 ],
 "metadata": {
  "kernelspec": {
   "display_name": "Python 3",
   "language": "python",
   "name": "python3"
  },
  "language_info": {
   "codemirror_mode": {
    "name": "ipython",
    "version": 3
   },
   "file_extension": ".py",
   "mimetype": "text/x-python",
   "name": "python",
   "nbconvert_exporter": "python",
   "pygments_lexer": "ipython3",
   "version": "3.8.6"
  },
  "widgets": {
   "application/vnd.jupyter.widget-state+json": {
    "state": {},
    "version_major": 2,
    "version_minor": 0
   }
  }
 },
 "nbformat": 4,
 "nbformat_minor": 5
}
