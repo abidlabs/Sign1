{
 "cells": [
  {
   "cell_type": "markdown",
   "id": "subsequent-professional",
   "metadata": {},
   "source": [
    "# Utility to make directories by character name"
   ]
  },
  {
   "cell_type": "code",
   "execution_count": 1,
   "id": "varied-element",
   "metadata": {
    "execution": {
     "iopub.execute_input": "2021-03-06T00:34:53.681051Z",
     "iopub.status.busy": "2021-03-06T00:34:53.680724Z",
     "iopub.status.idle": "2021-03-06T00:34:53.684105Z",
     "shell.execute_reply": "2021-03-06T00:34:53.683678Z",
     "shell.execute_reply.started": "2021-03-06T00:34:53.680978Z"
    },
    "tags": []
   },
   "outputs": [],
   "source": [
    "import pyforest\n",
    "\n",
    "from string import ascii_uppercase\n",
    "import glob\n",
    "import os\n",
    "\n",
    "dname = '../../data/fwinwhite'"
   ]
  },
  {
   "cell_type": "code",
   "execution_count": 2,
   "id": "straight-object",
   "metadata": {
    "execution": {
     "iopub.execute_input": "2021-03-06T00:34:54.103408Z",
     "iopub.status.busy": "2021-03-06T00:34:54.103101Z",
     "iopub.status.idle": "2021-03-06T00:34:54.107626Z",
     "shell.execute_reply": "2021-03-06T00:34:54.106950Z",
     "shell.execute_reply.started": "2021-03-06T00:34:54.103374Z"
    },
    "tags": []
   },
   "outputs": [],
   "source": [
    "for char in ascii_uppercase:\n",
    "    if char=='J': continue\n",
    "    if char=='Z': continue\n",
    "      \n",
    "    os.mkdir(f'{dname}/{char}')\n",
    "    \n",
    "os.mkdir(f'{dname}/space')"
   ]
  },
  {
   "cell_type": "code",
   "execution_count": null,
   "id": "narrow-edinburgh",
   "metadata": {},
   "outputs": [],
   "source": []
  }
 ],
 "metadata": {
  "kernelspec": {
   "display_name": "Python 3",
   "language": "python",
   "name": "python3"
  },
  "language_info": {
   "codemirror_mode": {
    "name": "ipython",
    "version": 3
   },
   "file_extension": ".py",
   "mimetype": "text/x-python",
   "name": "python",
   "nbconvert_exporter": "python",
   "pygments_lexer": "ipython3",
   "version": "3.8.6"
  },
  "widgets": {
   "application/vnd.jupyter.widget-state+json": {
    "state": {},
    "version_major": 2,
    "version_minor": 0
   }
  }
 },
 "nbformat": 4,
 "nbformat_minor": 5
}
