{
 "cells": [
  {
   "cell_type": "code",
   "execution_count": 1,
   "id": "jewish-starter",
   "metadata": {
    "execution": {
     "iopub.execute_input": "2021-03-06T22:53:45.912203Z",
     "iopub.status.busy": "2021-03-06T22:53:45.912085Z",
     "iopub.status.idle": "2021-03-06T22:53:46.658042Z",
     "shell.execute_reply": "2021-03-06T22:53:46.657699Z",
     "shell.execute_reply.started": "2021-03-06T22:53:45.912174Z"
    },
    "tags": []
   },
   "outputs": [],
   "source": [
    "import pyforest\n",
    "import fastai\n",
    "from fastai.vision import *\n",
    "from fastai.vision.all import *\n",
    "import numpy as np\n",
    "\n",
    "\n",
    "from string import ascii_uppercase\n",
    "\n",
    "datapath = Path('../../data/nohand')\n",
    "NSAMPLES = 2000\n",
    "culled_path = f'{str(datapath)}_culled_{NSAMPLES}'\n"
   ]
  },
  {
   "cell_type": "code",
   "execution_count": 2,
   "id": "moving-danish",
   "metadata": {
    "execution": {
     "iopub.execute_input": "2021-03-06T22:53:46.658652Z",
     "iopub.status.busy": "2021-03-06T22:53:46.658542Z",
     "iopub.status.idle": "2021-03-06T22:53:46.676406Z",
     "shell.execute_reply": "2021-03-06T22:53:46.676054Z",
     "shell.execute_reply.started": "2021-03-06T22:53:46.658640Z"
    },
    "tags": []
   },
   "outputs": [
    {
     "name": "stdout",
     "output_type": "stream",
     "text": [
      "number of images originally in ../../data/nohand is: 4098\n",
      "Chosen Sample Size: 2000\n"
     ]
    }
   ],
   "source": [
    "      \n",
    "files = get_image_files(datapath)\n",
    "print(f'number of images originally in {datapath} is: {len(files)}')\n",
    "print(f'Chosen Sample Size: {NSAMPLES}')\n",
    "\n",
    "    "
   ]
  },
  {
   "cell_type": "code",
   "execution_count": 3,
   "id": "cosmetic-beverage",
   "metadata": {
    "execution": {
     "iopub.execute_input": "2021-03-06T22:53:46.676980Z",
     "iopub.status.busy": "2021-03-06T22:53:46.676871Z",
     "iopub.status.idle": "2021-03-06T22:53:46.976332Z",
     "shell.execute_reply": "2021-03-06T22:53:46.975992Z",
     "shell.execute_reply.started": "2021-03-06T22:53:46.676968Z"
    },
    "tags": []
   },
   "outputs": [],
   "source": [
    "files_sam = random.sample(files, NSAMPLES)\n",
    "\n",
    "os.makedirs(culled_path, exist_ok=False)  # stop execution if dest dir exists\n",
    "\n",
    "for f in files_sam:\n",
    "    shutil.copyfile(f, f'{culled_path}/{str(f).split(\"/\")[-1]}')"
   ]
  },
  {
   "cell_type": "code",
   "execution_count": null,
   "id": "quick-somewhere",
   "metadata": {},
   "outputs": [],
   "source": []
  }
 ],
 "metadata": {
  "kernelspec": {
   "display_name": "Python 3",
   "language": "python",
   "name": "python3"
  },
  "language_info": {
   "codemirror_mode": {
    "name": "ipython",
    "version": 3
   },
   "file_extension": ".py",
   "mimetype": "text/x-python",
   "name": "python",
   "nbconvert_exporter": "python",
   "pygments_lexer": "ipython3",
   "version": "3.8.6"
  },
  "widgets": {
   "application/vnd.jupyter.widget-state+json": {
    "state": {},
    "version_major": 2,
    "version_minor": 0
   }
  }
 },
 "nbformat": 4,
 "nbformat_minor": 5
}
