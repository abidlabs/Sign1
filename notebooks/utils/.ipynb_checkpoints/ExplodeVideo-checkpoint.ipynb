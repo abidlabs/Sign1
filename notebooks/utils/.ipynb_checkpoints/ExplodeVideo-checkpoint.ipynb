{
 "cells": [
  {
   "cell_type": "markdown",
   "id": "collect-crowd",
   "metadata": {},
   "source": [
    "# utility to recursively convert videos into frames and save as jpeg\n",
    "\n",
    "1. Put 1 video in each character directory\n",
    "2. set `fdir` to the root"
   ]
  },
  {
   "cell_type": "code",
   "execution_count": 5,
   "id": "rocky-intention",
   "metadata": {
    "execution": {
     "iopub.execute_input": "2021-03-06T23:05:15.993255Z",
     "iopub.status.busy": "2021-03-06T23:05:15.993007Z",
     "iopub.status.idle": "2021-03-06T23:05:15.996281Z",
     "shell.execute_reply": "2021-03-06T23:05:15.995817Z",
     "shell.execute_reply.started": "2021-03-06T23:05:15.993233Z"
    },
    "tags": []
   },
   "outputs": [],
   "source": [
    "import pyforest\n",
    "import cv2\n",
    "from string import ascii_uppercase\n",
    "\n",
    "dname = 'fdoororange/D'"
   ]
  },
  {
   "cell_type": "code",
   "execution_count": 7,
   "id": "prostate-regular",
   "metadata": {
    "execution": {
     "iopub.execute_input": "2021-03-06T23:05:23.096806Z",
     "iopub.status.busy": "2021-03-06T23:05:23.096548Z",
     "iopub.status.idle": "2021-03-06T23:05:37.340913Z",
     "shell.execute_reply": "2021-03-06T23:05:37.340589Z",
     "shell.execute_reply.started": "2021-03-06T23:05:23.096783Z"
    },
    "tags": []
   },
   "outputs": [
    {
     "data": {
      "application/javascript": [
       "\n",
       "        if (window._pyforest_update_imports_cell) { window._pyforest_update_imports_cell('import glob'); }\n",
       "    "
      ],
      "text/plain": [
       "<IPython.core.display.Javascript object>"
      ]
     },
     "metadata": {},
     "output_type": "display_data"
    },
    {
     "name": "stdout",
     "output_type": "stream",
     "text": [
      "fname: ../../data/fdoororange/D/20210306_145952.mp4  ...  done - 555\n",
      "SUCCESS\n"
     ]
    }
   ],
   "source": [
    "\n",
    "for char in ascii_uppercase:\n",
    "# for i in range(1):\n",
    "#     if char!='O': continue\n",
    "    if char == 'J': continue\n",
    "    if char == 'Z': continue\n",
    "    fdir = f'../../data/{dname}/{char}'    \n",
    "    fname = glob.glob(f'{fdir}/*.mp4')[0]\n",
    "    vidcap = cv2.VideoCapture(fname)\n",
    "    success,image = vidcap.read()\n",
    "    count = 0\n",
    "    success = True\n",
    "    count = 0\n",
    "    \n",
    "    print(f'fname: {fname}', end='  ...  ')\n",
    "    \n",
    "    while success:\n",
    "        success,image = vidcap.read()\n",
    "        if not success: print(f'done - {count}'); continue\n",
    "        cv2.imwrite(f\"{fname[:-4]}-frame%d.jpg\" % count, image)     # save frame as JPEG file\n",
    "        if cv2.waitKey(10) == 27:                     # exit if Escape is hit\n",
    "            break\n",
    "        count += 1\n",
    "        \n",
    "    print('SUCCESS')"
   ]
  },
  {
   "cell_type": "code",
   "execution_count": null,
   "id": "threaded-evaluation",
   "metadata": {},
   "outputs": [],
   "source": []
  }
 ],
 "metadata": {
  "kernelspec": {
   "display_name": "Python 3",
   "language": "python",
   "name": "python3"
  },
  "language_info": {
   "codemirror_mode": {
    "name": "ipython",
    "version": 3
   },
   "file_extension": ".py",
   "mimetype": "text/x-python",
   "name": "python",
   "nbconvert_exporter": "python",
   "pygments_lexer": "ipython3",
   "version": "3.8.6"
  },
  "widgets": {
   "application/vnd.jupyter.widget-state+json": {
    "state": {},
    "version_major": 2,
    "version_minor": 0
   }
  }
 },
 "nbformat": 4,
 "nbformat_minor": 5
}
