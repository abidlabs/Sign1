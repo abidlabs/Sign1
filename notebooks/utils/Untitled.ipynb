{
 "cells": [
  {
   "cell_type": "code",
   "execution_count": 3,
   "id": "hearing-demand",
   "metadata": {
    "execution": {
     "iopub.execute_input": "2021-03-07T12:13:01.578390Z",
     "iopub.status.busy": "2021-03-07T12:13:01.578122Z",
     "iopub.status.idle": "2021-03-07T12:13:01.585966Z",
     "shell.execute_reply": "2021-03-07T12:13:01.585258Z",
     "shell.execute_reply.started": "2021-03-07T12:13:01.578366Z"
    },
    "tags": []
   },
   "outputs": [
    {
     "ename": "SyntaxError",
     "evalue": "invalid syntax (<ipython-input-3-ebd4a5d5ca45>, line 29)",
     "output_type": "error",
     "traceback": [
      "\u001b[0;36m  File \u001b[0;32m\"<ipython-input-3-ebd4a5d5ca45>\"\u001b[0;36m, line \u001b[0;32m29\u001b[0m\n\u001b[0;31m    A.OpticalDistortion(p=0.3, distort_limit=0.15. sjoft+),\u001b[0m\n\u001b[0m                                                         ^\u001b[0m\n\u001b[0;31mSyntaxError\u001b[0m\u001b[0;31m:\u001b[0m invalid syntax\n"
     ]
    }
   ],
   "source": [
    "import albumentations as A\n",
    "\n",
    "def get_train_aug(RESOLUTION=300): \n",
    "    return A.Compose([\n",
    "        A.SmallestMaxSize(max_size=RESOLUTION*2, interpolation=cv2.INTER_CUBIC, \\\n",
    "                         always_apply=True),\n",
    "        A.RandomResizedCrop(RESOLUTION,RESOLUTION, scale=(0.7, 1), \\\n",
    "                            interpolation=cv2.INTER_CUBIC),\n",
    "        A.Resize(RESOLUTION, RESOLUTION, p=1.0, interpolation=cv2.INTER_CUBIC),\n",
    "        A.FancyPCA(p=0.8, alpha=0.5),\n",
    "#         A.Transpose(p=0.7),\n",
    "        A.HorizontalFlip(p=0.5),\n",
    "        A.VerticalFlip(p=0.1),\n",
    "        A.ShiftScaleRotate(p=0.7),\n",
    "        A.HueSaturationValue(\n",
    "            always_apply=False, p=0.3, \n",
    "            hue_shift_limit=(-20, 20), \n",
    "            sat_shift_limit=(-30, 30), \n",
    "            val_shift_limit=(-20, 20)),\n",
    "\n",
    "#         A.HueSaturationValue(\n",
    "#             hue_shift_limit=0.4, #.3\n",
    "#             sat_shift_limit=0.4, #.3\n",
    "#             val_shift_limit=0.4, #.3\n",
    "#             p=0.7\n",
    "#         ),\n",
    "        A.RandomBrightnessContrast(\n",
    "            brightness_limit=(-0.5,0.5), #-.2,.2\n",
    "            contrast_limit=(-0.4, 0.4),  #-.2,.2\n",
    "            p=0.6\n",
    "        ),\n",
    "        A.CoarseDropout(p=0.8, max_holes=30),\n",
    "        A.Cutout(p=0.8, max_h_size=40, max_w_size=40),\n",
    "        A.OneOf([\n",
    "                A.OpticalDistortion(p=0.5, distort_limit=0.15. shift_limit=0.15),\n",
    "#                 A.GridDistortion(p=0.5, distort_limit=0.5),\n",
    "                A.GridDistortion(always_apply=False, p=1.0, \n",
    "                                 num_steps=6, distort_limit=(-0.4599999785423279, 0.5), \n",
    "                                 interpolation=0, border_mode=0, \n",
    "                                 value=(0, 0, 0), mask_value=None),\n",
    "\n",
    "                A.IAAPiecewiseAffine(p=0.5, scale=(0.1, 0.14)),\n",
    "                ], p=0.6),\n",
    "        A.Sharpen(p=1.0, alpha=(0.1,0.3), lightness=(0.3, 0.9)),\n",
    "        A.GaussNoise(var_limit=(429.2799987792969, 500.0), p=0.4),\n",
    "        A.ISONoise(always_apply=False, p=0.4, \n",
    "                   intensity=(0.10000000149011612, 1.399999976158142), \n",
    "                   color_shift=(0.009999999776482582, 0.4000000059604645)),\n",
    "\n",
    "        A.OneOf([\n",
    "            A.Equalize(always_apply=False, p=1.0, mode='cv', by_channels=True),\n",
    "            A.Solarize(always_apply=False, p=1.0, threshold=(67, 120)),\n",
    "            A.IAAAdditiveGaussianNoise(p=1.0),\n",
    "            A.GaussNoise(p=1.0),\n",
    "            A.MotionBlur(always_apply=False, p=1.0, blur_limit=(5, 20))\n",
    "            ], p=0.5),\n",
    "        ], p=1.0)"
   ]
  },
  {
   "cell_type": "code",
   "execution_count": null,
   "id": "august-contributor",
   "metadata": {},
   "outputs": [],
   "source": []
  }
 ],
 "metadata": {
  "kernelspec": {
   "display_name": "Python 3",
   "language": "python",
   "name": "python3"
  },
  "language_info": {
   "codemirror_mode": {
    "name": "ipython",
    "version": 3
   },
   "file_extension": ".py",
   "mimetype": "text/x-python",
   "name": "python",
   "nbconvert_exporter": "python",
   "pygments_lexer": "ipython3",
   "version": "3.8.6"
  },
  "widgets": {
   "application/vnd.jupyter.widget-state+json": {
    "state": {},
    "version_major": 2,
    "version_minor": 0
   }
  }
 },
 "nbformat": 4,
 "nbformat_minor": 5
}
