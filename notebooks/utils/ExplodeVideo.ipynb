{
 "cells": [
  {
   "cell_type": "markdown",
   "id": "blocked-outline",
   "metadata": {},
   "source": [
    "# utility to recursively convert videos into frames and save as jpeg\n",
    "\n",
    "1. Put 1 video in each character directory\n",
    "2. set `fdir` to the root"
   ]
  },
  {
   "cell_type": "code",
   "execution_count": 1,
   "id": "russian-thought",
   "metadata": {
    "execution": {
     "iopub.execute_input": "2021-03-12T22:35:26.139294Z",
     "iopub.status.busy": "2021-03-12T22:35:26.139050Z",
     "iopub.status.idle": "2021-03-12T22:35:26.195633Z",
     "shell.execute_reply": "2021-03-12T22:35:26.195222Z",
     "shell.execute_reply.started": "2021-03-12T22:35:26.139232Z"
    },
    "tags": []
   },
   "outputs": [],
   "source": [
    "import pyforest\n",
    "import cv2\n",
    "from string import ascii_uppercase\n",
    "\n",
    "dname = 'overflow/1'"
   ]
  },
  {
   "cell_type": "code",
   "execution_count": 3,
   "id": "cleared-toilet",
   "metadata": {
    "execution": {
     "iopub.execute_input": "2021-03-12T22:36:38.166615Z",
     "iopub.status.busy": "2021-03-12T22:36:38.166357Z",
     "iopub.status.idle": "2021-03-12T22:37:15.196415Z",
     "shell.execute_reply": "2021-03-12T22:37:15.195981Z",
     "shell.execute_reply.started": "2021-03-12T22:36:38.166590Z"
    },
    "tags": []
   },
   "outputs": [
    {
     "data": {
      "application/javascript": [
       "\n",
       "        if (window._pyforest_update_imports_cell) { window._pyforest_update_imports_cell('import glob'); }\n",
       "    "
      ],
      "text/plain": [
       "<IPython.core.display.Javascript object>"
      ]
     },
     "metadata": {},
     "output_type": "display_data"
    },
    {
     "name": "stdout",
     "output_type": "stream",
     "text": [
      "fname: ../../data/overflow/1/W/20210312_141737.mp4  ...  done - 1518  ...  SUCCESS\n"
     ]
    }
   ],
   "source": [
    "\n",
    "for char in ascii_uppercase:\n",
    "# for i in range(1):\n",
    "    if char!='W': continue\n",
    "    if char == 'J': continue\n",
    "    if char == 'Z': continue\n",
    "    fdir = f'../../data/{dname}/{char}'  \n",
    "    for fname in glob.glob(f'{fdir}/*.mp4'):\n",
    "        vidcap = cv2.VideoCapture(fname)\n",
    "        success,image = vidcap.read()\n",
    "        count = 0\n",
    "        success = True\n",
    "        count = 0\n",
    "\n",
    "        print(f'fname: {fname}', end='  ...  ')\n",
    "\n",
    "        while success:\n",
    "            success,image = vidcap.read()\n",
    "            if not success: print(f'done - {count}', end='  ...  '); continue\n",
    "            cv2.imwrite(f\"{fname[:-4]}-frame%d.jpg\" % count, image)     # save frame as JPEG file\n",
    "            if cv2.waitKey(10) == 27:                     # exit if Escape is hit\n",
    "                break\n",
    "            count += 1\n",
    "\n",
    "        print('SUCCESS')"
   ]
  },
  {
   "cell_type": "code",
   "execution_count": null,
   "id": "helpful-injury",
   "metadata": {},
   "outputs": [],
   "source": []
  }
 ],
 "metadata": {
  "kernelspec": {
   "display_name": "Python 3",
   "language": "python",
   "name": "python3"
  },
  "language_info": {
   "codemirror_mode": {
    "name": "ipython",
    "version": 3
   },
   "file_extension": ".py",
   "mimetype": "text/x-python",
   "name": "python",
   "nbconvert_exporter": "python",
   "pygments_lexer": "ipython3",
   "version": "3.8.6"
  },
  "widgets": {
   "application/vnd.jupyter.widget-state+json": {
    "state": {},
    "version_major": 2,
    "version_minor": 0
   }
  }
 },
 "nbformat": 4,
 "nbformat_minor": 5
}
