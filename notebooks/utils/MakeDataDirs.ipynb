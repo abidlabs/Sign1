{
 "cells": [
  {
   "cell_type": "markdown",
   "id": "introductory-elevation",
   "metadata": {},
   "source": [
    "# Utility to make directories by character name"
   ]
  },
  {
   "cell_type": "code",
   "execution_count": 1,
   "id": "seeing-disease",
   "metadata": {
    "execution": {
     "iopub.execute_input": "2021-03-08T08:52:06.952352Z",
     "iopub.status.busy": "2021-03-08T08:52:06.952111Z",
     "iopub.status.idle": "2021-03-08T08:52:06.959185Z",
     "shell.execute_reply": "2021-03-08T08:52:06.958794Z",
     "shell.execute_reply.started": "2021-03-08T08:52:06.952290Z"
    },
    "tags": []
   },
   "outputs": [],
   "source": [
    "import pyforest\n",
    "\n",
    "from string import ascii_uppercase\n",
    "import glob\n",
    "import os\n",
    "\n",
    "dname = '../../data/backhand'"
   ]
  },
  {
   "cell_type": "code",
   "execution_count": 2,
   "id": "statistical-bedroom",
   "metadata": {
    "execution": {
     "iopub.execute_input": "2021-03-08T08:52:06.959799Z",
     "iopub.status.busy": "2021-03-08T08:52:06.959680Z",
     "iopub.status.idle": "2021-03-08T08:52:06.963941Z",
     "shell.execute_reply": "2021-03-08T08:52:06.963594Z",
     "shell.execute_reply.started": "2021-03-08T08:52:06.959787Z"
    },
    "tags": []
   },
   "outputs": [],
   "source": [
    "for char in ascii_uppercase:\n",
    "    if char=='J': continue\n",
    "    if char=='Z': continue\n",
    "      \n",
    "    os.mkdir(f'{dname}/{char}')\n",
    "    \n",
    "os.mkdir(f'{dname}/space')"
   ]
  },
  {
   "cell_type": "code",
   "execution_count": null,
   "id": "reverse-mountain",
   "metadata": {},
   "outputs": [],
   "source": []
  }
 ],
 "metadata": {
  "kernelspec": {
   "display_name": "Python 3",
   "language": "python",
   "name": "python3"
  },
  "language_info": {
   "codemirror_mode": {
    "name": "ipython",
    "version": 3
   },
   "file_extension": ".py",
   "mimetype": "text/x-python",
   "name": "python",
   "nbconvert_exporter": "python",
   "pygments_lexer": "ipython3",
   "version": "3.8.6"
  },
  "widgets": {
   "application/vnd.jupyter.widget-state+json": {
    "state": {},
    "version_major": 2,
    "version_minor": 0
   }
  }
 },
 "nbformat": 4,
 "nbformat_minor": 5
}
