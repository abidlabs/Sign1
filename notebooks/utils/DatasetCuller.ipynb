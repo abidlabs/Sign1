{
 "cells": [
  {
   "cell_type": "markdown",
   "id": "indonesian-stable",
   "metadata": {},
   "source": [
    "# Dataset Culler\n",
    "\n",
    "#### Used to create a new dataset by culling the current dataset down to a specific sample size"
   ]
  },
  {
   "cell_type": "code",
   "execution_count": null,
   "id": "resistant-range",
   "metadata": {},
   "outputs": [],
   "source": []
  },
  {
   "cell_type": "code",
   "execution_count": 1,
   "id": "rapid-timing",
   "metadata": {
    "execution": {
     "iopub.execute_input": "2021-03-08T09:34:45.943262Z",
     "iopub.status.busy": "2021-03-08T09:34:45.943145Z",
     "iopub.status.idle": "2021-03-08T09:34:46.856822Z",
     "shell.execute_reply": "2021-03-08T09:34:46.856444Z",
     "shell.execute_reply.started": "2021-03-08T09:34:45.943232Z"
    },
    "tags": []
   },
   "outputs": [],
   "source": [
    "from datetime import datetime\n",
    "from fastbook import *\n",
    "from fastai.vision.all import *\n",
    "from fastai.vision.widgets import *\n",
    "import fastai\n",
    "\n",
    "import os\n",
    "import shutil\n",
    "\n",
    "\n",
    "\n",
    "\n",
    "CHOSEN_SAMPLE_SIZE = 160  #use this to control per-category sample sizes # 1000\n",
    "\n",
    "\n",
    "orig_dir = 'fdoororange'\n",
    "culled_dir = f'{orig_dir}_culled_{CHOSEN_SAMPLE_SIZE}'\n",
    "\n",
    "import matplotlib.pyplot as plt\n",
    "%matplotlib inline\n",
    "plt.rcParams['figure.figsize'] = [10, 6]\n",
    "plt.rcParams['figure.dpi'] = 120\n",
    "plt.style.use('dark_background')\n",
    "\n"
   ]
  },
  {
   "cell_type": "code",
   "execution_count": 2,
   "id": "after-russell",
   "metadata": {
    "execution": {
     "iopub.execute_input": "2021-03-08T09:34:46.857378Z",
     "iopub.status.busy": "2021-03-08T09:34:46.857270Z",
     "iopub.status.idle": "2021-03-08T09:34:46.859474Z",
     "shell.execute_reply": "2021-03-08T09:34:46.859131Z",
     "shell.execute_reply.started": "2021-03-08T09:34:46.857366Z"
    },
    "tags": []
   },
   "outputs": [],
   "source": [
    "# path = '../data/external/Training_Set'\n",
    "path = f'../../data/{orig_dir}'\n",
    "# path2 = '../data/frank-ledlights-L'\n",
    "culled_path = f'../../data/{culled_dir}/Training_Set'\n",
    "\n",
    "os.makedirs(culled_path, exist_ok=True)  # stop execution if dest dir exists"
   ]
  },
  {
   "cell_type": "markdown",
   "id": "noted-arrow",
   "metadata": {},
   "source": [
    "<br>\n",
    "<br>"
   ]
  },
  {
   "cell_type": "markdown",
   "id": "broadband-mentor",
   "metadata": {},
   "source": [
    "### Check for Dataset Imbalance"
   ]
  },
  {
   "cell_type": "code",
   "execution_count": 3,
   "id": "proper-container",
   "metadata": {
    "execution": {
     "iopub.execute_input": "2021-03-08T09:34:46.860014Z",
     "iopub.status.busy": "2021-03-08T09:34:46.859904Z",
     "iopub.status.idle": "2021-03-08T09:34:47.010582Z",
     "shell.execute_reply": "2021-03-08T09:34:47.010122Z",
     "shell.execute_reply.started": "2021-03-08T09:34:46.860003Z"
    },
    "tags": []
   },
   "outputs": [
    {
     "name": "stdout",
     "output_type": "stream",
     "text": [
      "\n",
      "Character with the most images:   D,   with 555 images\n",
      "Character with the least images:  C,   with 160 images\n",
      "Average number of images:         248\n"
     ]
    }
   ],
   "source": [
    "from string import ascii_uppercase\n",
    "import numpy as np\n",
    "import operator\n",
    "import matplotlib.pyplot as plt\n",
    "import matplotlib.ticker as ticker\n",
    "\n",
    "\n",
    "image_files = {}\n",
    "image_files_qty = {}\n",
    "\n",
    "# loop through all the characters to build dictionaries of image files and quartity of each category\n",
    "for c, i in zip(ascii_uppercase, np.arange(len(ascii_uppercase))):\n",
    "    image_files[c] = get_image_files(path + f'/{c}')\n",
    "#     print(path + f'/{c}')\n",
    "    l = len(image_files[c])\n",
    "    image_files_qty[c] = l\n",
    "    \n",
    "# custom code since we don't use 'Z'\n",
    "image_files.pop('J')\n",
    "image_files_qty.pop('J')\n",
    "image_files.pop('Z')\n",
    "image_files_qty.pop('Z')\n",
    "\n",
    "# Get the character with the largest and smallest number of entries\n",
    "maxqc = max(image_files_qty, key=image_files_qty.get)\n",
    "minqc = min(image_files_qty, key=image_files_qty.get)\n",
    "\n",
    "\n",
    "print()\n",
    "print(f'Character with the most images:   {maxqc},   with {image_files_qty[maxqc]} images')\n",
    "print(f'Character with the least images:  {minqc},   with {image_files_qty[minqc]} images')\n",
    "print(f'Average number of images:         {round(np.mean(list(image_files_qty.values())))}')\n",
    "\n"
   ]
  },
  {
   "cell_type": "markdown",
   "id": "nervous-storm",
   "metadata": {},
   "source": [
    "<br>\n",
    "<br>"
   ]
  },
  {
   "cell_type": "markdown",
   "id": "signal-minutes",
   "metadata": {},
   "source": [
    "## Display the number of image files for each category"
   ]
  },
  {
   "cell_type": "code",
   "execution_count": 4,
   "id": "collected-spelling",
   "metadata": {
    "execution": {
     "iopub.execute_input": "2021-03-08T09:34:47.011395Z",
     "iopub.status.busy": "2021-03-08T09:34:47.011226Z",
     "iopub.status.idle": "2021-03-08T09:34:47.141705Z",
     "shell.execute_reply": "2021-03-08T09:34:47.141399Z",
     "shell.execute_reply.started": "2021-03-08T09:34:47.011377Z"
    },
    "tags": []
   },
   "outputs": [
    {
     "data": {
      "image/png": "[encoded data removed]",
      "text/plain": [
       "<Figure size 720x360 with 1 Axes>"
      ]
     },
     "metadata": {},
     "output_type": "display_data"
    }
   ],
   "source": [
    "# plt.hist(image_files_qty.items)\n",
    "plt.figure(figsize=(6,3))\n",
    "plt.bar(image_files_qty.keys(), image_files_qty.values())\n",
    "plt.axhline(CHOSEN_SAMPLE_SIZE, ls='--', color='r', label='Per-Category Sample Size')\n",
    "plt.xlabel('Hand Sign Categories')\n",
    "plt.ylabel('Sample Size')\n",
    "plt.legend();"
   ]
  },
  {
   "cell_type": "code",
   "execution_count": 5,
   "id": "ordered-interface",
   "metadata": {
    "execution": {
     "iopub.execute_input": "2021-03-08T09:34:47.142278Z",
     "iopub.status.busy": "2021-03-08T09:34:47.142167Z",
     "iopub.status.idle": "2021-03-08T09:35:34.983612Z",
     "shell.execute_reply": "2021-03-08T09:35:34.982901Z",
     "shell.execute_reply.started": "2021-03-08T09:34:47.142266Z"
    },
    "tags": []
   },
   "outputs": [],
   "source": [
    "import pandas as pd\n",
    "import os\n",
    "\n",
    "maxq = image_files_qty[maxqc] # the quantity of the largest category\n",
    "minq = image_files_qty[minqc] # the quantity of the smallest category\n",
    "\n",
    "# all_image_files = pd.DataFrame(columns=[0])  # holds all the image files in one dataframe\n",
    "culled_image_files = {}\n",
    "\n",
    "for char, q in iter(image_files_qty.items()):\n",
    "#     if char != 'O': continue\n",
    "    df = pd.DataFrame(data=list(image_files[char]), columns=[0])  # create a dataframe from each list\n",
    "    \n",
    "\n",
    "    # undersample or over sample as needed\n",
    "    if len(df) >= CHOSEN_SAMPLE_SIZE:\n",
    "        df = df.sample(CHOSEN_SAMPLE_SIZE, replace=False)  # undersample\n",
    "    else:\n",
    "        delta = CHOSEN_SAMPLE_SIZE - len(df)\n",
    "        df = pd.concat([df, df.sample(delta, replace=False)], ignore_index=True)  # oversample\n",
    "        \n",
    "    os.makedirs(f'{culled_path}/{char}', exist_ok=True)\n",
    "\n",
    "    for f in df[0]: \n",
    "        if os.path.isfile(f'{culled_path}/{char}/{str(f).split(\"/\")[-1]}'):\n",
    "#             print('isfile')\n",
    "            shutil.copyfile(f, f'{culled_path}/{char}/_{str(f).split(\"/\")[-1]}')\n",
    "        else:\n",
    "            shutil.copyfile(f, f'{culled_path}/{char}/{str(f).split(\"/\")[-1]}')\n"
   ]
  },
  {
   "cell_type": "code",
   "execution_count": null,
   "id": "accomplished-austin",
   "metadata": {},
   "outputs": [],
   "source": []
  },
  {
   "cell_type": "code",
   "execution_count": null,
   "id": "compound-kennedy",
   "metadata": {},
   "outputs": [],
   "source": []
  }
 ],
 "metadata": {
  "kernelspec": {
   "display_name": "Python 3",
   "language": "python",
   "name": "python3"
  },
  "language_info": {
   "codemirror_mode": {
    "name": "ipython",
    "version": 3
   },
   "file_extension": ".py",
   "mimetype": "text/x-python",
   "name": "python",
   "nbconvert_exporter": "python",
   "pygments_lexer": "ipython3",
   "version": "3.8.6"
  },
  "widgets": {
   "application/vnd.jupyter.widget-state+json": {
    "state": {},
    "version_major": 2,
    "version_minor": 0
   }
  }
 },
 "nbformat": 4,
 "nbformat_minor": 5
}
