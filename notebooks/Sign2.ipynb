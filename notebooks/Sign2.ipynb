{
 "cells": [
  {
   "cell_type": "markdown",
   "metadata": {},
   "source": [
    "# ASL Alphabet Classifier Test #1"
   ]
  },
  {
   "cell_type": "markdown",
   "metadata": {},
   "source": [
    "#### Datasource: \n",
    "<a href=\"https://www.kaggle.com/grassknoted/asl-alphabet\">https://www.kaggle.com/grassknoted/asl-alphabet</a>\n",
    "\n",
    "<br>\n",
    "\n",
    "This is a prototype, playing with FastAI using Resnet34 to classify American Sign Language alphabet.  It's basically Notebook #2 from the MOOC on a \"clean\" dataset.  We get great results ... but the data is really contrived.  It's highly likely the model will be overfitted, however it's a good test of the library.\n",
    "<br>\n",
    "<br>\n",
    "<br>"
   ]
  },
  {
   "cell_type": "code",
   "execution_count": 3,
   "metadata": {
    "execution": {
     "iopub.execute_input": "2020-09-30T04:30:37.068231Z",
     "iopub.status.busy": "2020-09-30T04:30:37.068045Z",
     "iopub.status.idle": "2020-09-30T04:30:43.098688Z",
     "shell.execute_reply": "2020-09-30T04:30:43.098263Z",
     "shell.execute_reply.started": "2020-09-30T04:30:37.068211Z"
    }
   },
   "outputs": [
    {
     "name": "stderr",
     "output_type": "stream",
     "text": [
      "\u001b[34m\u001b[1mwandb\u001b[0m: Currently logged in as: \u001b[33mcogsci2\u001b[0m (use `wandb login --relogin` to force relogin)\n",
      "\u001b[34m\u001b[1mwandb\u001b[0m: wandb version 0.10.4 is available!  To upgrade, please run:\n",
      "\u001b[34m\u001b[1mwandb\u001b[0m:  $ pip install wandb --upgrade\n",
      "\u001b[34m\u001b[1mwandb\u001b[0m: Tracking run with wandb version 0.10.2\n",
      "\u001b[34m\u001b[1mwandb\u001b[0m: Run data is saved locally in wandb/run-20200929_213037-3rrwznzz\n",
      "\u001b[34m\u001b[1mwandb\u001b[0m: Syncing run \u001b[33mfanciful-pond-1\u001b[0m\n"
     ]
    },
    {
     "data": {
      "text/html": [
       "\n",
       "                Logging results to <a href=\"https://wandb.com\" target=\"_blank\">Weights & Biases</a> <a href=\"https://docs.wandb.com/integrations/jupyter.html\" target=\"_blank\">(Documentation)</a>.<br/>\n",
       "                Project page: <a href=\"https://wandb.ai/cogsci2/asl-sign-language-recognition\" target=\"_blank\">https://wandb.ai/cogsci2/asl-sign-language-recognition</a><br/>\n",
       "                Run page: <a href=\"https://wandb.ai/cogsci2/asl-sign-language-recognition/runs/3rrwznzz\" target=\"_blank\">https://wandb.ai/cogsci2/asl-sign-language-recognition/runs/3rrwznzz</a><br/>\n",
       "            "
      ],
      "text/plain": [
       "<IPython.core.display.HTML object>"
      ]
     },
     "metadata": {},
     "output_type": "display_data"
    },
    {
     "name": "stdout",
     "output_type": "stream",
     "text": [
      "\n"
     ]
    },
    {
     "data": {
      "text/html": [
       "<h1>Run(3rrwznzz)</h1><p></p><iframe src=\"https://wandb.ai/cogsci2/asl-sign-language-recognition/runs/3rrwznzz\" style=\"border:none;width:100%;height:400px\"></iframe>"
      ],
      "text/plain": [
       "<wandb.sdk.wandb_run.Run at 0x7fc5fc529d90>"
      ]
     },
     "execution_count": 3,
     "metadata": {},
     "output_type": "execute_result"
    }
   ],
   "source": [
    "# !pip install -Uqq fastbook\n",
    "import fastbook\n",
    "fastbook.setup_book()\n",
    "\n",
    "from fastbook import *\n",
    "from fastai.vision.widgets import *\n",
    "import fastai\n",
    "# import mlflow.fastai  # currently does not work with FastAI2\n",
    "# plt.style.use('dark')\n",
    "# trying weights and biases \n",
    "import wandb\n",
    "from fastai.callback.wandb import *\n",
    "\n",
    "wandb.init(project=\"asl-sign-language-recognition\")\n"
   ]
  },
  {
   "cell_type": "code",
   "execution_count": 4,
   "metadata": {
    "execution": {
     "iopub.execute_input": "2020-09-30T04:30:50.757972Z",
     "iopub.status.busy": "2020-09-30T04:30:50.757723Z",
     "iopub.status.idle": "2020-09-30T04:30:50.761809Z",
     "shell.execute_reply": "2020-09-30T04:30:50.761061Z",
     "shell.execute_reply.started": "2020-09-30T04:30:50.757940Z"
    }
   },
   "outputs": [],
   "source": [
    "path = '../data/external/Training Set'"
   ]
  },
  {
   "cell_type": "markdown",
   "metadata": {},
   "source": [
    "<br>\n",
    "\n",
    "### Create the DataBlock"
   ]
  },
  {
   "cell_type": "code",
   "execution_count": 5,
   "metadata": {
    "execution": {
     "iopub.execute_input": "2020-09-30T04:30:53.950437Z",
     "iopub.status.busy": "2020-09-30T04:30:53.950207Z",
     "iopub.status.idle": "2020-09-30T04:30:53.955265Z",
     "shell.execute_reply": "2020-09-30T04:30:53.954806Z",
     "shell.execute_reply.started": "2020-09-30T04:30:53.950410Z"
    }
   },
   "outputs": [],
   "source": [
    "signs = DataBlock(\n",
    "    blocks=(ImageBlock, CategoryBlock), \n",
    "    get_items=get_image_files, \n",
    "    splitter=RandomSplitter(valid_pct=0.2, seed=42),\n",
    "    get_y=parent_label)\n",
    "\n",
    "# learn_inf = load_learner('../models/export-resnet101-tune10un-tune2ft.pkl')\n",
    "\n"
   ]
  },
  {
   "cell_type": "markdown",
   "metadata": {},
   "source": [
    "<br>\n",
    "\n",
    "## Resize and add basic image augmentation"
   ]
  },
  {
   "cell_type": "code",
   "execution_count": 6,
   "metadata": {
    "execution": {
     "iopub.execute_input": "2020-09-30T04:30:55.207230Z",
     "iopub.status.busy": "2020-09-30T04:30:55.206999Z",
     "iopub.status.idle": "2020-09-30T04:30:55.211744Z",
     "shell.execute_reply": "2020-09-30T04:30:55.211279Z",
     "shell.execute_reply.started": "2020-09-30T04:30:55.207202Z"
    }
   },
   "outputs": [],
   "source": [
    "# signs = signs.new(item_tfms=Resize(128), batch_tfms=aug_transforms(mult=2))\n",
    "signs = signs.new(item_tfms=Resize(384, method=ResizeMethod.Squish))\n",
    "\n",
    "# signs.apply_tfms(Image.flip)\n"
   ]
  },
  {
   "cell_type": "markdown",
   "metadata": {},
   "source": [
    "<br>\n",
    "\n",
    "### Load the data by path"
   ]
  },
  {
   "cell_type": "code",
   "execution_count": 7,
   "metadata": {
    "execution": {
     "iopub.execute_input": "2020-09-30T04:30:56.207994Z",
     "iopub.status.busy": "2020-09-30T04:30:56.207765Z",
     "iopub.status.idle": "2020-09-30T04:31:02.252901Z",
     "shell.execute_reply": "2020-09-30T04:31:02.252523Z",
     "shell.execute_reply.started": "2020-09-30T04:30:56.207967Z"
    }
   },
   "outputs": [],
   "source": [
    "dls = signs.dataloaders(path, bs=12)\n"
   ]
  },
  {
   "cell_type": "markdown",
   "metadata": {},
   "source": [
    "<br>\n",
    "\n",
    "### Verify the Training and Validation Batches"
   ]
  },
  {
   "cell_type": "code",
   "execution_count": 8,
   "metadata": {
    "execution": {
     "iopub.execute_input": "2020-09-30T04:31:02.268112Z",
     "iopub.status.busy": "2020-09-30T04:31:02.268003Z",
     "iopub.status.idle": "2020-09-30T04:31:02.270130Z",
     "shell.execute_reply": "2020-09-30T04:31:02.269800Z",
     "shell.execute_reply.started": "2020-09-30T04:31:02.268099Z"
    }
   },
   "outputs": [],
   "source": [
    "# dls.train.show_batch(max_n=4, nrows=1)"
   ]
  },
  {
   "cell_type": "code",
   "execution_count": 9,
   "metadata": {
    "execution": {
     "iopub.execute_input": "2020-09-30T04:31:02.270612Z",
     "iopub.status.busy": "2020-09-30T04:31:02.270528Z",
     "iopub.status.idle": "2020-09-30T04:31:02.276672Z",
     "shell.execute_reply": "2020-09-30T04:31:02.276386Z",
     "shell.execute_reply.started": "2020-09-30T04:31:02.270600Z"
    }
   },
   "outputs": [],
   "source": [
    "# dls.valid.show_batch(max_n=4, nrows=1)"
   ]
  },
  {
   "cell_type": "markdown",
   "metadata": {},
   "source": [
    "<br>\n",
    "\n",
    "### Define the model (Resnet34) and fit"
   ]
  },
  {
   "cell_type": "code",
   "execution_count": 17,
   "metadata": {
    "execution": {
     "iopub.execute_input": "2020-09-30T04:31:37.703943Z",
     "iopub.status.busy": "2020-09-30T04:31:37.703716Z",
     "iopub.status.idle": "2020-09-30T04:31:38.621828Z",
     "shell.execute_reply": "2020-09-30T04:31:38.621445Z",
     "shell.execute_reply.started": "2020-09-30T04:31:37.703916Z"
    }
   },
   "outputs": [],
   "source": [
    "learn = cnn_learner(dls, resnet101 , metrics=error_rate, cbs=[WandbCallback(log_dataset=True, log_model=True), SaveModelCallback()])\n",
    "# learn = cnn_learner(data, models.densenet121, metrics=[accuracy, top_k_accuracy], callback_fns=[WandbCallback])"
   ]
  },
  {
   "cell_type": "markdown",
   "metadata": {},
   "source": [
    "<br>\n",
    "<br>\n",
    "<br>\n",
    "\n",
    "## Manually find a learning rate between the shoulder and the steepest drop."
   ]
  },
  {
   "cell_type": "code",
   "execution_count": 18,
   "metadata": {
    "execution": {
     "iopub.execute_input": "2020-09-30T04:31:39.313067Z",
     "iopub.status.busy": "2020-09-30T04:31:39.312843Z",
     "iopub.status.idle": "2020-09-30T04:31:39.316109Z",
     "shell.execute_reply": "2020-09-30T04:31:39.315558Z",
     "shell.execute_reply.started": "2020-09-30T04:31:39.313040Z"
    }
   },
   "outputs": [],
   "source": [
    "# lr_min,lr_steep = learn.lr_find()"
   ]
  },
  {
   "cell_type": "code",
   "execution_count": 19,
   "metadata": {
    "execution": {
     "iopub.execute_input": "2020-09-30T04:31:39.594429Z",
     "iopub.status.busy": "2020-09-30T04:31:39.594177Z",
     "iopub.status.idle": "2020-09-30T04:31:39.597408Z",
     "shell.execute_reply": "2020-09-30T04:31:39.596932Z",
     "shell.execute_reply.started": "2020-09-30T04:31:39.594398Z"
    }
   },
   "outputs": [],
   "source": [
    "# print(f\"Minimum/10: {lr_min:.2e}, steepest point: {lr_steep:.2e}\")"
   ]
  },
  {
   "cell_type": "markdown",
   "metadata": {
    "execution": {
     "iopub.execute_input": "2020-09-26T12:47:39.994667Z",
     "iopub.status.busy": "2020-09-26T12:47:39.994388Z",
     "iopub.status.idle": "2020-09-26T12:47:39.999492Z",
     "shell.execute_reply": "2020-09-26T12:47:39.998668Z",
     "shell.execute_reply.started": "2020-09-26T12:47:39.994592Z"
    }
   },
   "source": [
    "<br>\n",
    "<br>\n",
    "<br>\n",
    "\n",
    "## Create an Early Stopping Callback"
   ]
  },
  {
   "cell_type": "code",
   "execution_count": 20,
   "metadata": {
    "execution": {
     "iopub.execute_input": "2020-09-30T04:31:40.561046Z",
     "iopub.status.busy": "2020-09-30T04:31:40.560797Z",
     "iopub.status.idle": "2020-09-30T04:31:40.565194Z",
     "shell.execute_reply": "2020-09-30T04:31:40.564496Z",
     "shell.execute_reply.started": "2020-09-30T04:31:40.561016Z"
    }
   },
   "outputs": [],
   "source": [
    "early_stop = EarlyStoppingCallback(monitor='error_rate', min_delta=0.1, patience=2)"
   ]
  },
  {
   "cell_type": "markdown",
   "metadata": {},
   "source": [
    "<br>\n",
    "<br>\n",
    "\n",
    "## Fit the last layer, unfreeze, fit the whole net, with a descriminant LR, all in one go.\n",
    "Model architecture: resnet101 @ 384px <br>\n",
    "Filename: ../models/200929-0130-RESNET101-384px-FALL-ft1.pkl\n"
   ]
  },
  {
   "cell_type": "code",
   "execution_count": 21,
   "metadata": {
    "execution": {
     "iopub.execute_input": "2020-09-30T04:31:41.565400Z",
     "iopub.status.busy": "2020-09-30T04:31:41.565178Z",
     "iopub.status.idle": "2020-09-30T05:45:26.875750Z",
     "shell.execute_reply": "2020-09-30T05:45:26.875161Z",
     "shell.execute_reply.started": "2020-09-30T04:31:41.565373Z"
    }
   },
   "outputs": [
    {
     "data": {
      "text/html": [
       "<table border=\"1\" class=\"dataframe\">\n",
       "  <thead>\n",
       "    <tr style=\"text-align: left;\">\n",
       "      <th>epoch</th>\n",
       "      <th>train_loss</th>\n",
       "      <th>valid_loss</th>\n",
       "      <th>error_rate</th>\n",
       "      <th>time</th>\n",
       "    </tr>\n",
       "  </thead>\n",
       "  <tbody>\n",
       "    <tr>\n",
       "      <td>0</td>\n",
       "      <td>1.154880</td>\n",
       "      <td>0.558451</td>\n",
       "      <td>0.171220</td>\n",
       "      <td>30:42</td>\n",
       "    </tr>\n",
       "  </tbody>\n",
       "</table>"
      ],
      "text/plain": [
       "<IPython.core.display.HTML object>"
      ]
     },
     "metadata": {},
     "output_type": "display_data"
    },
    {
     "data": {
      "text/html": [
       "<table border=\"1\" class=\"dataframe\">\n",
       "  <thead>\n",
       "    <tr style=\"text-align: left;\">\n",
       "      <th>epoch</th>\n",
       "      <th>train_loss</th>\n",
       "      <th>valid_loss</th>\n",
       "      <th>error_rate</th>\n",
       "      <th>time</th>\n",
       "    </tr>\n",
       "  </thead>\n",
       "  <tbody>\n",
       "    <tr>\n",
       "      <td>0</td>\n",
       "      <td>0.137994</td>\n",
       "      <td>0.042080</td>\n",
       "      <td>0.012601</td>\n",
       "      <td>43:02</td>\n",
       "    </tr>\n",
       "  </tbody>\n",
       "</table>"
      ],
      "text/plain": [
       "<IPython.core.display.HTML object>"
      ]
     },
     "metadata": {},
     "output_type": "display_data"
    }
   ],
   "source": [
    "# Enable auto logging\n",
    "# mlflow.fastai.autolog()\n",
    "\n",
    "# Start MLflow session\n",
    "# with mlflow.start_run():\n",
    "    # Train and fit with default or supplied command line arguments\n",
    "# learn.fine_tune(7, freeze_epochs=4, base_lr=1e-4, bs=12, cbs=early_stop)\n",
    "learn.fine_tune(2, base_lr=1e-4, bs=12)"
   ]
  },
  {
   "cell_type": "markdown",
   "metadata": {},
   "source": [
    "<br>\n",
    "<br>\n",
    "<br>\n",
    "\n",
    "## ~~Fit the last layer to our data~~"
   ]
  },
  {
   "cell_type": "code",
   "execution_count": null,
   "metadata": {
    "execution": {
     "iopub.status.busy": "2020-09-30T03:05:18.682467Z",
     "iopub.status.idle": "2020-09-30T03:05:18.682591Z"
    }
   },
   "outputs": [],
   "source": [
    "#learn.fit_one_cycle(2, 4e-2)"
   ]
  },
  {
   "cell_type": "markdown",
   "metadata": {},
   "source": [
    "<br>\n",
    "<br>\n",
    "<br>\n",
    "\n",
    "## ~~Unfreeze the rest of the layers and find a new learning rate for the whole net.~~"
   ]
  },
  {
   "cell_type": "code",
   "execution_count": null,
   "metadata": {
    "execution": {
     "iopub.status.busy": "2020-09-30T03:05:18.682882Z",
     "iopub.status.idle": "2020-09-30T03:05:18.683007Z"
    }
   },
   "outputs": [],
   "source": [
    "#learn.unfreeze()"
   ]
  },
  {
   "cell_type": "code",
   "execution_count": null,
   "metadata": {
    "execution": {
     "iopub.status.busy": "2020-09-30T03:05:18.683338Z",
     "iopub.status.idle": "2020-09-30T03:05:18.683512Z"
    }
   },
   "outputs": [],
   "source": [
    "#learn.lr_find()"
   ]
  },
  {
   "cell_type": "markdown",
   "metadata": {},
   "source": [
    "<br>\n",
    "<br>\n",
    "<br>\n",
    "\n",
    "## ~~Fit the whole network at an appropriate learning rate~~"
   ]
  },
  {
   "cell_type": "code",
   "execution_count": null,
   "metadata": {
    "execution": {
     "iopub.status.busy": "2020-09-30T03:05:18.683960Z",
     "iopub.status.idle": "2020-09-30T03:05:18.684108Z"
    }
   },
   "outputs": [],
   "source": [
    "#learn.fit_one_cycle(2, lr_max=5e-5)"
   ]
  },
  {
   "cell_type": "code",
   "execution_count": null,
   "metadata": {
    "execution": {
     "iopub.status.busy": "2020-09-30T03:05:18.684433Z",
     "iopub.status.idle": "2020-09-30T03:05:18.684564Z"
    }
   },
   "outputs": [],
   "source": [
    "learn.recorder.plot_loss()"
   ]
  },
  {
   "cell_type": "markdown",
   "metadata": {},
   "source": [
    "<br>\n",
    "\n",
    "### Visualize with a confusion Matrix"
   ]
  },
  {
   "cell_type": "code",
   "execution_count": null,
   "metadata": {
    "execution": {
     "iopub.status.busy": "2020-09-30T03:05:18.684870Z",
     "iopub.status.idle": "2020-09-30T03:05:18.684997Z"
    }
   },
   "outputs": [],
   "source": [
    "interp = ClassificationInterpretation.from_learner(learn)\n",
    "interp.plot_confusion_matrix(figsize=(8,8))"
   ]
  },
  {
   "cell_type": "markdown",
   "metadata": {},
   "source": [
    "<br>\n",
    "\n",
    "### Show the top 5 most error prone images"
   ]
  },
  {
   "cell_type": "code",
   "execution_count": null,
   "metadata": {
    "execution": {
     "iopub.status.busy": "2020-09-30T03:05:18.685312Z",
     "iopub.status.idle": "2020-09-30T03:05:18.685440Z"
    }
   },
   "outputs": [],
   "source": [
    "interp.plot_top_losses(15, nrows=3)"
   ]
  },
  {
   "cell_type": "markdown",
   "metadata": {},
   "source": [
    "<br>\n",
    "\n",
    "### Clean the images that were hard to interpret and obviously bad"
   ]
  },
  {
   "cell_type": "code",
   "execution_count": null,
   "metadata": {
    "execution": {
     "iopub.status.busy": "2020-09-30T03:05:18.685752Z",
     "iopub.status.idle": "2020-09-30T03:05:18.685879Z"
    }
   },
   "outputs": [],
   "source": [
    "# cleaner = ImageClassifierCleaner(learn)\n",
    "# cleaner"
   ]
  },
  {
   "cell_type": "markdown",
   "metadata": {},
   "source": [
    "<br>\n",
    "<br>\n",
    "<hr>\n",
    "<br>\n",
    "<br>\n",
    "\n",
    "## Persist the Model\n",
    "\n"
   ]
  },
  {
   "cell_type": "code",
   "execution_count": null,
   "metadata": {
    "execution": {
     "iopub.status.busy": "2020-09-30T03:05:18.686185Z",
     "iopub.status.idle": "2020-09-30T03:05:18.686331Z"
    }
   },
   "outputs": [],
   "source": [
    "learn.export('../models/200929-0130-RESNET101-384px-FALL-ft1.pkl')\n",
    "path = Path('../models')\n",
    "path.ls(file_exts='.pkl')"
   ]
  },
  {
   "cell_type": "code",
   "execution_count": null,
   "metadata": {
    "execution": {
     "iopub.status.busy": "2020-09-30T03:05:18.686636Z",
     "iopub.status.idle": "2020-09-30T03:05:18.686767Z"
    }
   },
   "outputs": [],
   "source": [
    "# %cd ..\n",
    "# learn_inf.save('save/200921-0201-export-resnet101-FALL-tune2ft-tune6un-tune2ft-F-t2ft-ut3-t2ft-t2ft')\n",
    "# %cd notebooks"
   ]
  },
  {
   "cell_type": "markdown",
   "metadata": {},
   "source": [
    "<br>\n",
    "<br>\n",
    "<br>\n",
    "<hr>\n",
    "<br>\n",
    "\n",
    "# Log\n",
    "\n",
    "* started to plot the learning rates and started to use that information while fitting.\n",
    "* Downgraded to resnet34 @ 300px in order to increase the resolution fed to the model from 128px to 300px - this made a major difference.\n",
    "* Decreased the number of training epochs to 6 after experimenting to find the sweet spot. - also positive change\n",
    "* Changed to exclusively use fine-tune() with it's built in freeze_epochs parameter\n",
    "* Changed the Batch Size in order to bring the arch back to resnet101 @300px\n",
    "* Cleaned up the markdown, removed cells and reordered the rest.\n",
    "* Added an Early Stop.  Starting with 0.01 delta.  \n",
    "* Now moving to 0.1 delta\n",
    "* Integrated wandb to keep track of experiments.\n",
    "\n",
    "** Attempting a batch size of 12 and 384px with resnet101.  long training times.\n",
    "** Also increased the epochs to 4 on the final layer and 7 on the rest.\n",
    "    "
   ]
  },
  {
   "cell_type": "code",
   "execution_count": null,
   "metadata": {},
   "outputs": [],
   "source": []
  }
 ],
 "metadata": {
  "kernelspec": {
   "display_name": "Python 3",
   "language": "python",
   "name": "python3"
  },
  "language_info": {
   "codemirror_mode": {
    "name": "ipython",
    "version": 3
   },
   "file_extension": ".py",
   "mimetype": "text/x-python",
   "name": "python",
   "nbconvert_exporter": "python",
   "pygments_lexer": "ipython3",
   "version": "3.7.9"
  }
 },
 "nbformat": 4,
 "nbformat_minor": 4
}
