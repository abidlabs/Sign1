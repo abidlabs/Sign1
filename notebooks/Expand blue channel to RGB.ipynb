{
 "cells": [
  {
   "cell_type": "code",
   "execution_count": 6,
   "id": "regional-isaac",
   "metadata": {
    "execution": {
     "iopub.execute_input": "2021-02-03T08:37:18.817269Z",
     "iopub.status.busy": "2021-02-03T08:37:18.817200Z",
     "iopub.status.idle": "2021-02-03T08:37:37.727681Z",
     "shell.execute_reply": "2021-02-03T08:37:37.727633Z",
     "shell.execute_reply.started": "2021-02-03T08:37:18.817247Z"
    }
   },
   "outputs": [],
   "source": [
    "import cv2\n",
    "# import PIL\n",
    "import glob\n",
    "from string import ascii_uppercase\n",
    "import numpy as np\n",
    "import matplotlib as plt\n",
    "import os\n",
    "\n",
    "\n",
    "datadir = '../data/frank-proc2-L_culled_300'\n",
    "newdir = f'{datadir}_B2RGB'\n",
    "\n",
    "for c, i in zip(ascii_uppercase, np.arange(len(ascii_uppercase))):\n",
    "    if c == 'J' or c =='Z': continue\n",
    "\n",
    "    # ensure the directory structure exists\n",
    "    os.makedirs(f'{newdir}/Training_Set/{c}', exist_ok=True)\n",
    "    \n",
    "    for f in glob.glob(f'{datadir}/Training_Set/{c}/*'):      \n",
    "        img = cv2.imread(f)\n",
    "        blue = img[:,:,0]\n",
    "        img = cv2.cvtColor(blue, cv2.COLOR_GRAY2BGR)\n",
    "        cv2.imwrite(f'{newdir}/Training_Set/{c}/{f.split(\"/\")[-1]}', img)\n",
    "\n"
   ]
  },
  {
   "cell_type": "code",
   "execution_count": null,
   "id": "veterinary-issue",
   "metadata": {},
   "outputs": [],
   "source": []
  }
 ],
 "metadata": {
  "kernelspec": {
   "display_name": "Python [conda env:learn] *",
   "language": "python",
   "name": "conda-env-learn-xpython"
  },
  "language_info": {
   "file_extension": ".py",
   "mimetype": "text/x-python",
   "name": "python",
   "version": "3.8.6"
  },
  "widgets": {
   "application/vnd.jupyter.widget-state+json": {
    "state": {},
    "version_major": 2,
    "version_minor": 0
   }
  }
 },
 "nbformat": 4,
 "nbformat_minor": 5
}
