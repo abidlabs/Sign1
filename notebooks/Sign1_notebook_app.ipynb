{
 "cells": [
  {
   "cell_type": "code",
   "execution_count": 3,
   "metadata": {
    "execution": {
     "iopub.execute_input": "2020-09-19T09:56:44.436875Z",
     "iopub.status.busy": "2020-09-19T09:56:44.436628Z",
     "iopub.status.idle": "2020-09-19T09:56:44.440406Z",
     "shell.execute_reply": "2020-09-19T09:56:44.439898Z",
     "shell.execute_reply.started": "2020-09-19T09:56:44.436845Z"
    }
   },
   "outputs": [],
   "source": [
    "# !pip install -Uqq fastbook\n",
    "import fastbook\n",
    "fastbook.setup_book()\n",
    "\n",
    "from fastbook import *\n",
    "from fastai.vision.widgets import *\n",
    "import fastai"
   ]
  },
  {
   "cell_type": "markdown",
   "metadata": {},
   "source": [
    "<br>\n",
    "<br>\n",
    "\n",
    "## Load the Model\n",
    "\n",
    "<br>"
   ]
  },
  {
   "cell_type": "code",
   "execution_count": 4,
   "metadata": {
    "execution": {
     "iopub.execute_input": "2020-09-19T09:56:48.499613Z",
     "iopub.status.busy": "2020-09-19T09:56:48.499395Z",
     "iopub.status.idle": "2020-09-19T09:56:49.332494Z",
     "shell.execute_reply": "2020-09-19T09:56:49.332042Z",
     "shell.execute_reply.started": "2020-09-19T09:56:48.499588Z"
    }
   },
   "outputs": [],
   "source": [
    "path = Path('../models')\n",
    "learn_inf = load_learner(path/'export-resnet18-tune4.pkl')"
   ]
  },
  {
   "cell_type": "markdown",
   "metadata": {},
   "source": [
    "<br>\n",
    "\n",
    "### Predict something arbitrary to test the loaded model"
   ]
  },
  {
   "cell_type": "code",
   "execution_count": 5,
   "metadata": {
    "execution": {
     "iopub.execute_input": "2020-09-19T09:56:49.505018Z",
     "iopub.status.busy": "2020-09-19T09:56:49.504801Z",
     "iopub.status.idle": "2020-09-19T09:56:49.557559Z",
     "shell.execute_reply": "2020-09-19T09:56:49.557228Z",
     "shell.execute_reply.started": "2020-09-19T09:56:49.504993Z"
    }
   },
   "outputs": [
    {
     "data": {
      "text/html": [],
      "text/plain": [
       "<IPython.core.display.HTML object>"
      ]
     },
     "metadata": {},
     "output_type": "display_data"
    },
    {
     "data": {
      "application/vnd.jupyter.widget-view+json": {
       "model_id": "af2914d9136a4902a28bc95d3bfcdddf",
       "version_major": 2,
       "version_minor": 0
      },
      "text/plain": [
       "Label(value='Prediction: A; Probability: 0.9974')"
      ]
     },
     "metadata": {},
     "output_type": "display_data"
    }
   ],
   "source": [
    "pred,pred_idx,probs = learn_inf.predict('../data/raw/darktable_exported/aA2.jpg')\n",
    "\n",
    "lbl_pred = widgets.Label()\n",
    "lbl_pred.value = f'Prediction: {pred}; Probability: {probs[pred_idx]:.04f}'\n",
    "lbl_pred"
   ]
  },
  {
   "cell_type": "markdown",
   "metadata": {},
   "source": [
    "<br>\n",
    "<br>\n",
    "\n",
    "## Create a Notebook App\n",
    "\n",
    "<br>"
   ]
  },
  {
   "cell_type": "code",
   "execution_count": 6,
   "metadata": {
    "execution": {
     "iopub.execute_input": "2020-09-19T09:56:50.663193Z",
     "iopub.status.busy": "2020-09-19T09:56:50.662976Z",
     "iopub.status.idle": "2020-09-19T09:56:50.682597Z",
     "shell.execute_reply": "2020-09-19T09:56:50.682077Z",
     "shell.execute_reply.started": "2020-09-19T09:56:50.663166Z"
    }
   },
   "outputs": [],
   "source": [
    "btn_upload = widgets.FileUpload()\n",
    "btn_run = widgets.Button(description='Classify')\n",
    "lbl_pred = widgets.Label()\n",
    "out_pl = widgets.Output()\n",
    "out_pl.clear_output()"
   ]
  },
  {
   "cell_type": "code",
   "execution_count": 7,
   "metadata": {
    "execution": {
     "iopub.execute_input": "2020-09-19T09:56:51.134806Z",
     "iopub.status.busy": "2020-09-19T09:56:51.134588Z",
     "iopub.status.idle": "2020-09-19T09:56:51.139247Z",
     "shell.execute_reply": "2020-09-19T09:56:51.138807Z",
     "shell.execute_reply.started": "2020-09-19T09:56:51.134780Z"
    }
   },
   "outputs": [],
   "source": [
    "def on_click_classify(change):\n",
    "    img = PILImage.create(btn_upload.data[-1])\n",
    "    out_pl.clear_output()\n",
    "\n",
    "    img_resiz = img.resize((128,128), Image.BICUBIC)\n",
    "#     img_resiz = img.resize((128,128), method=ResizeMethod.Squish)\n",
    "\n",
    "    img_resiz = fastai.vision.core.PILImage(img_resiz)\n",
    "    with out_pl: display(img_resiz)\n",
    "    pred,pred_idx,probs = learn_inf.predict(img_resiz)\n",
    "    lbl_pred.value = f'Prediction: {pred}; Probability: {probs[pred_idx]:.04f}'\n",
    "    \n",
    "btn_run.on_click(on_click_classify)"
   ]
  },
  {
   "cell_type": "code",
   "execution_count": 8,
   "metadata": {
    "execution": {
     "iopub.execute_input": "2020-09-19T09:56:52.711807Z",
     "iopub.status.busy": "2020-09-19T09:56:52.711585Z",
     "iopub.status.idle": "2020-09-19T09:56:52.721445Z",
     "shell.execute_reply": "2020-09-19T09:56:52.720868Z",
     "shell.execute_reply.started": "2020-09-19T09:56:52.711780Z"
    }
   },
   "outputs": [],
   "source": [
    "#hide\n",
    "#Putting back btn_upload to a widget for next cell\n",
    "btn_upload = widgets.FileUpload()"
   ]
  },
  {
   "cell_type": "code",
   "execution_count": 9,
   "metadata": {
    "execution": {
     "iopub.execute_input": "2020-09-19T09:56:53.435332Z",
     "iopub.status.busy": "2020-09-19T09:56:53.435116Z",
     "iopub.status.idle": "2020-09-19T09:56:53.452541Z",
     "shell.execute_reply": "2020-09-19T09:56:53.452033Z",
     "shell.execute_reply.started": "2020-09-19T09:56:53.435306Z"
    }
   },
   "outputs": [
    {
     "data": {
      "application/vnd.jupyter.widget-view+json": {
       "model_id": "82e139eada154347afb9597bdbc4785c",
       "version_major": 2,
       "version_minor": 0
      },
      "text/plain": [
       "VBox(children=(Label(value='Select an image:'), FileUpload(value={}, description='Upload'), Button(description…"
      ]
     },
     "metadata": {},
     "output_type": "display_data"
    }
   ],
   "source": [
    "VBox([widgets.Label('Select an image:'), \n",
    "      btn_upload, btn_run, out_pl, lbl_pred])"
   ]
  },
  {
   "cell_type": "code",
   "execution_count": null,
   "metadata": {},
   "outputs": [],
   "source": []
  },
  {
   "cell_type": "code",
   "execution_count": null,
   "metadata": {},
   "outputs": [],
   "source": []
  }
 ],
 "metadata": {
  "kernelspec": {
   "display_name": "Python 3",
   "language": "python",
   "name": "python3"
  },
  "language_info": {
   "codemirror_mode": {
    "name": "ipython",
    "version": 3
   },
   "file_extension": ".py",
   "mimetype": "text/x-python",
   "name": "python",
   "nbconvert_exporter": "python",
   "pygments_lexer": "ipython3",
   "version": "3.7.9"
  }
 },
 "nbformat": 4,
 "nbformat_minor": 4
}
