{
 "cells": [
  {
   "cell_type": "markdown",
   "metadata": {},
   "source": [
    "# Test of OpenCV + FastAI for video capture\n",
    "\n",
    "<br>\n",
    "<br>\n",
    "\n",
    "### For reference:\n",
    "<img src='https://i.pinimg.com/originals/fa/bb/70/fabb7087b0cffe30530e7df9ec1d0b88.png' width=\"400\" height=\"500\"></img>\n",
    "<br>\n",
    "<br>"
   ]
  },
  {
   "cell_type": "code",
   "execution_count": 1,
   "metadata": {
    "execution": {
     "iopub.execute_input": "2021-01-16T02:07:56.886823Z",
     "iopub.status.busy": "2021-01-16T02:07:56.886580Z",
     "iopub.status.idle": "2021-01-16T02:07:58.079950Z",
     "shell.execute_reply": "2021-01-16T02:07:58.079498Z",
     "shell.execute_reply.started": "2021-01-16T02:07:56.886767Z"
    }
   },
   "outputs": [],
   "source": [
    "# !pip install -Uqq fastbook\n",
    "# import fastbook\n",
    "# fastbook.setup_book()\n",
    "\n",
    "# RUN_NAME = '20210112 - resnet34 2 run new data a_add2'\n",
    "# RUN_NAME = '20210113 - resnet34 2 run new data a-rerun_add2'\n",
    "# RUN_NAME = '20210112 - resnet34 2 run new data b_ft-1-3'\n",
    "# RUN_NAME = '20210112 - resnet50 sample(500) b_ft-1-3'\n",
    "# RUN_NAME = '20210112 - resnet50 sample(1000) b_ft-1-4'\n",
    "# RUN_NAME = '20210113-1729 - architecture=resnet101 - cat_samples=1000 frozen=1 epochs=4 bs=16 res=300'\n",
    "# RUN_NAME = '20210113-2110 - architecture=resnet101 - cat_samples=1000 frozen=1 epochs=4 bs=16 res=300'\n",
    "# RUN_NAME = '20210114-0055 - arch=resnet34 - samples=300 frozen=1 epochs=4 bs=16 res=240 _throwaway'\n",
    "# RUN_NAME = '20210114-0129 - arch=resnet101 - samples=1000 frozen=1 epochs=4 bs=16 res=300 _throwaway'\n",
    "# RUN_NAME = '20210114-0539 - arch=resnet101 - samples=4000 frozen=1 epochs=3 bs=16 res=300 _throwaway'\n",
    "# RUN_NAME = '20210114-1202 - arch=resnet101 - samples=4000 frozen=1 epochs=2 bs=16 res=300 _throwaway'\n",
    "# RUN_NAME = '20210114-1202 - arch=resnet101 - samples=4000 frozen=1 epochs=2 bs=16 res=300 _throwaway'\n",
    "# RUN_NAME = '20210115-1744 - arch=resnet18 - samples=800 frozen=1 epochs=2 bs=30 res=300 _throwaway'\n",
    "RUN_NAME = '20210115-1754 - arch=resnet18 - samples=1600 frozen=1 epochs=2 bs=30 res=300 _throwaway'\n",
    "\n",
    "\n",
    "\n",
    "\n",
    "\n",
    "\n",
    "SAVE_IMAGES_TO_FILE = False  # flag if we want to capture the image to disk\n",
    "\n",
    "SYMBOL = None\n",
    "\n",
    "RESOLUTION = 400\n",
    "\n",
    "\n",
    "# from fastbook import *\n",
    "from fastai.vision.widgets import *\n",
    "import fastai.vision\n",
    "import fastai\n",
    "from fastai.learner import *\n",
    "import fastprogress\n",
    "\n",
    "import numpy as np\n",
    "import cv2 as cv\n",
    "\n",
    "import os\n",
    "\n",
    "import wandb\n",
    "from fastai.callback.wandb import *\n",
    "\n",
    "# wandb.init(project=\"asl-sign-language-recognition\")\n",
    "# wandb.run.name = RUN_NAME\n",
    "# wandb.run.save()"
   ]
  },
  {
   "cell_type": "markdown",
   "metadata": {},
   "source": [
    "<br>\n",
    "<br>\n",
    "\n",
    "## Load the model"
   ]
  },
  {
   "cell_type": "code",
   "execution_count": 2,
   "metadata": {
    "execution": {
     "iopub.execute_input": "2021-01-16T02:07:58.080783Z",
     "iopub.status.busy": "2021-01-16T02:07:58.080672Z",
     "iopub.status.idle": "2021-01-16T02:08:01.172184Z",
     "shell.execute_reply": "2021-01-16T02:08:01.171811Z",
     "shell.execute_reply.started": "2021-01-16T02:07:58.080770Z"
    }
   },
   "outputs": [],
   "source": [
    "path = '../models'\n",
    "# learn_inf = load_learner(path/'200922-0716-FALL-lrfoc4-ulrfoc2-ulrfoc2')\n",
    "# learn_inf = load_learner(f'{path}/200925-1745-RESNET101-384px-FONLY-ft3f3.pkl', cpu=False)\n",
    "# learn_inf = wandb.restore('models/model.h5.pth', run_path=\"cogsci2/asl-sign-language-recognition/2qwhjdvy\")\n",
    "# best_model = wandb.restore('run-2qwhjdvy-model', run_path=\"cogsci2/asl-sign-language-recognition/2qwhjdvy\")\n",
    "\n",
    "\n",
    "# learn_inf = load_learner(path/'200921-0600-FALL-lrfoc4-ulrfoc6-F-lrfoc4-ulrfoc6')\n",
    "\n",
    "learn_inf = load_learner(f'../models/{RUN_NAME}.pkl', cpu=False)"
   ]
  },
  {
   "cell_type": "code",
   "execution_count": 3,
   "metadata": {
    "execution": {
     "iopub.execute_input": "2021-01-16T02:08:01.172959Z",
     "iopub.status.busy": "2021-01-16T02:08:01.172847Z",
     "iopub.status.idle": "2021-01-16T02:08:01.175322Z",
     "shell.execute_reply": "2021-01-16T02:08:01.174799Z",
     "shell.execute_reply.started": "2021-01-16T02:08:01.172947Z"
    }
   },
   "outputs": [],
   "source": [
    "# learn_inf = load_learner('wandb/run-20210103_052735-2qwhjdvy/files/20210103.h5.pth', cpu=False)"
   ]
  },
  {
   "cell_type": "code",
   "execution_count": 4,
   "metadata": {
    "execution": {
     "iopub.execute_input": "2021-01-16T02:08:01.175850Z",
     "iopub.status.busy": "2021-01-16T02:08:01.175745Z",
     "iopub.status.idle": "2021-01-16T02:08:01.177939Z",
     "shell.execute_reply": "2021-01-16T02:08:01.177459Z",
     "shell.execute_reply.started": "2021-01-16T02:08:01.175839Z"
    }
   },
   "outputs": [],
   "source": [
    "# learn_inf = wandb.restore('wandb/run-20210103_052735-2qwhjdvy/files/20210103.h5.pth')"
   ]
  },
  {
   "cell_type": "markdown",
   "metadata": {},
   "source": [
    "<br>\n",
    "<br>\n",
    "\n",
    "## Function definitions"
   ]
  },
  {
   "cell_type": "code",
   "execution_count": 5,
   "metadata": {
    "execution": {
     "iopub.execute_input": "2021-01-16T02:08:01.178833Z",
     "iopub.status.busy": "2021-01-16T02:08:01.178552Z",
     "iopub.status.idle": "2021-01-16T02:08:01.185133Z",
     "shell.execute_reply": "2021-01-16T02:08:01.184740Z",
     "shell.execute_reply.started": "2021-01-16T02:08:01.178812Z"
    }
   },
   "outputs": [],
   "source": [
    "def setup_camera() -> cv.VideoCapture:\n",
    "    '''\n",
    "    Set up the camera source\n",
    "    '''\n",
    "#     cap = cv.VideoCapture(0)\n",
    "    # cap = cv.VideoCapture('http://127.0.0.1:4747/video')\n",
    "    cap = cv.VideoCapture('http://10.0.0.67:4747/video')  # S7\n",
    "#     cap = cv.VideoCapture('http://10.0.0.74:4747/video')  # N10\n",
    "\n",
    "    # cap = cv.VideoCapture('Droidcam')\n",
    "#     cap = cv.VideoCapture('http://10.0.0.144:4747/video')  # N8\n",
    "    \n",
    "    print(f'Autofocus status: {cap.set(cv.CAP_PROP_AUTOFOCUS, 0)}')\n",
    "    print(f'Manual focus to shortest distance: {cap.set(cv.CAP_PROP_FOCUS, 0)}')\n",
    "\n",
    "    # Check if camera opened successfully\n",
    "    if not cap.isOpened():\n",
    "        print(\"Error opening video stream or file!\")\n",
    "    \n",
    "    return cap\n",
    "\n",
    "\n",
    "\n",
    "\n",
    "def close_camera():\n",
    "    '''\n",
    "    Close all capture devices and destroy open capture windows\n",
    "    '''\n",
    "    cap.release()\n",
    "    cv.destroyAllWindows()\n",
    "    \n",
    "    \n",
    "\n",
    "\n",
    "def print_stats():\n",
    "    '''\n",
    "    Print some basic stats to stdout\n",
    "    '''\n",
    "    \n",
    "    print(f'Frame shape = {frame.shape}')\n",
    "    print(f'Total number of Frames = {nframe}')\n",
    "    print(f'Number of frames processed = {n_proc_frames // PROC_NTH_FRAME}')\n",
    "    \n",
    "    \n",
    "    \n",
    "# @TODO: Factor out the directory creation logic - slow/redundant    \n",
    "def save_images(frame, prframe):\n",
    "    '''\n",
    "    write small and large images to jpeg\n",
    "    '''\n",
    "    symbol_dir = SYMBOL\n",
    "    \n",
    "    #seperate the directory path\n",
    "    datadir_small = f'../data/{maindir}-S/{symbol_dir}'\n",
    "    datadir_large = f'../data/{maindir}-L/{symbol_dir}'\n",
    "\n",
    "    # build the entire directory structure if it doesn't exist\n",
    "    if not os.path.isdir(datadir_small):\n",
    "        os.makedirs(datadir_small)\n",
    "        \n",
    "    if not os.path.isdir(datadir_large):\n",
    "        os.makedirs(datadir_large)\n",
    "    \n",
    "    # create a directory+filename template\n",
    "    ftemplate_small = f'{datadir_small}/{file_prefix}-{n_save_frames}.jpg'\n",
    "    ftemplate_large = f'{datadir_large}/{file_prefix}-{n_save_frames}.jpg'\n",
    "    \n",
    "    # write the image to a file\n",
    "#     cv.imwrite(ftemplate_small, prframe)\n",
    "    cv.imwrite(ftemplate_large, frame)\n",
    "    \n",
    "    frame = cv.putText(frame, f'Saved Frame {SYMBOL} #{n_save_frames}', \n",
    "                   org=(20,40), fontFace=cv.FONT_HERSHEY_PLAIN, \n",
    "                   fontScale=2, color=(0,255,255), thickness=2,\n",
    "                   lineType=cv.LINE_AA) \n",
    "    \n",
    "    # Display the frame with the writing on it\n",
    "    cv.imshow('What the Camera Sees:',frame)\n",
    "    \n",
    "    \n",
    "    \n",
    "# def disable_progress():\n",
    "#     fastprogress.fastprogress.NO_BAR = True\n",
    "#     master_bar, progress_bar = fastprogress.fastprogress.force_console_behavior()\n",
    "# #     fastai.basic_train.master_bar, fastai.basic_train.progress_bar = master_bar, progress_bar\n",
    "    \n",
    "# # def enable_progress():\n",
    "# #     fastai.basic_train.master_bar, fastai.basic_train.progress_bar = fastprogress.master_bar, fastprogress.progress_bar\n",
    "    \n"
   ]
  },
  {
   "cell_type": "markdown",
   "metadata": {},
   "source": [
    "<br>\n",
    "<br>\n",
    "\n",
    "## Open the video camera, loop for every Frame, massage the image and make a prediction.  "
   ]
  },
  {
   "cell_type": "markdown",
   "metadata": {},
   "source": [
    "#### This is the main code cel.  It has 2 purposes. When you hit the spacebar, it will either:\n",
    "1. Make an ASL alphabet translation or \n",
    "2. If SAVE_IMAGES_TO_FILE is True, it will save an image to the data dir "
   ]
  },
  {
   "cell_type": "code",
   "execution_count": 6,
   "metadata": {
    "execution": {
     "iopub.execute_input": "2021-01-16T02:08:01.185655Z",
     "iopub.status.busy": "2021-01-16T02:08:01.185551Z",
     "iopub.status.idle": "2021-01-16T02:09:24.340181Z",
     "shell.execute_reply": "2021-01-16T02:09:24.339822Z",
     "shell.execute_reply.started": "2021-01-16T02:08:01.185645Z"
    }
   },
   "outputs": [
    {
     "name": "stdout",
     "output_type": "stream",
     "text": [
      "Autofocus status: False\n",
      "Manual focus to shortest distance: False\n",
      "Frame shape = (480, 640, 3)\n",
      "Total number of Frames = 1422\n",
      "Number of frames processed = 56\n"
     ]
    }
   ],
   "source": [
    "PROC_NTH_FRAME = 5  # Skip every N-1 frames - increase this if your computer lags\n",
    "\n",
    "maindir = 'frank-ledlights'  # these are image saving parameters dir/file\n",
    "file_prefix = 'oldwebcam_leds'\n",
    "\n",
    "n_proc_frames, nframe = 0,0  # number of frames\n",
    "n_save_frames = 0  # number of captured frames for saving to file\n",
    "\n",
    "# declare here to widen scope\n",
    "pred, probs, pred_idx = [0], [0], 0\n",
    "frame, prframe = None, None\n",
    "\n",
    "if SAVE_IMAGES_TO_FILE:\n",
    "    SYMBOL = input('Enter Symbol of interest: ')[0]\n",
    "    \n",
    "cap = setup_camera()\n",
    "\n",
    "\n",
    "# \"Game\" Loop ... for every frame\n",
    "while(cap.isOpened()):\n",
    "    nframe += 1\n",
    "    ret, frame = cap.read()  # Capture frame\n",
    "    wait_ret = cv.waitKey(2)  # key char value if any\n",
    "\n",
    "    # Break out of the loop if the user presses 'Q'\n",
    "    if wait_ret & 0xFF == ord('q'):\n",
    "        print_stats()\n",
    "        break\n",
    "    \n",
    "    # only process the rest if the capture was successful\n",
    "    if not ret:\n",
    "        print(\"Can't read frame from capture source!\")\n",
    "        break  # break out of loop to let the camera close\n",
    "\n",
    "    # crop the original 640x480 image down to a centered square 480x480\n",
    "    frame = frame[:, 80:-80]\n",
    "\n",
    "    # mirror the image horizontally\n",
    "    frame = cv.flip(frame, 1)\n",
    "\n",
    "\n",
    "    # process only if the space key is hit and\n",
    "    # only process every PROC_NTH_FRAME frames \n",
    "    if (nframe % PROC_NTH_FRAME == 0):  # and wait_ret & 0xFF == ord(' ')  \n",
    "        n_proc_frames +=1  # num processed frames\n",
    "\n",
    "        # resize the image to 128x128 after \"zooming in\"\n",
    "#         prframe = cv.resize(frame[60:-60, 60:-60], (128,128))\n",
    "\n",
    "        # this version for resnet34 w/ 300px image\n",
    "        prframe = cv.resize(frame[60:-60, 60:-60], (RESOLUTION, RESOLUTION))\n",
    "\n",
    "        # this version for resnet34 w/ 300px image\n",
    "#         prframe = cv.resize(frame[60:-60, 60:-60], (384,384))\n",
    "        \n",
    "        # Display the frame that we pass through the predictor\n",
    "        cv.imshow('What the Predictor Sees:', prframe)\n",
    "\n",
    "        if SAVE_IMAGES_TO_FILE :\n",
    "            if wait_ret & 0xFF == ord(' '):\n",
    "                n_save_frames = n_save_frames + 1\n",
    "                save_images(frame, prframe)\n",
    "            continue  # no need to predict\n",
    "\n",
    "        # create the prediction\n",
    "        with learn_inf.no_bar():\n",
    "            pred,pred_idx,probs = learn_inf.predict(prframe)\n",
    "\n",
    "\n",
    "    # write the prediction as text on the frame\n",
    "    if probs[pred_idx] > 0.3:\n",
    "        frame = cv.putText(frame, f'Predict: {pred}, confidence: {probs[pred_idx]:.02f}', \n",
    "                           org=(20,40), fontFace=cv.FONT_HERSHEY_PLAIN, \n",
    "                           fontScale=2, color=(0,255,255), thickness=2,\n",
    "                           lineType=cv.LINE_AA) \n",
    "\n",
    "    # Display the original frame\n",
    "    cv.imshow('What the Camera Sees:',frame)\n",
    "\n",
    "# Release the capture object\n",
    "close_camera()\n"
   ]
  },
  {
   "cell_type": "code",
   "execution_count": 7,
   "metadata": {
    "execution": {
     "iopub.execute_input": "2021-01-16T02:09:24.341397Z",
     "iopub.status.busy": "2021-01-16T02:09:24.341104Z",
     "iopub.status.idle": "2021-01-16T02:09:24.345304Z",
     "shell.execute_reply": "2021-01-16T02:09:24.344830Z",
     "shell.execute_reply.started": "2021-01-16T02:09:24.341369Z"
    }
   },
   "outputs": [],
   "source": [
    "cap.release()\n",
    "cv.destroyAllWindows()                     "
   ]
  },
  {
   "cell_type": "markdown",
   "metadata": {
    "execution": {
     "iopub.execute_input": "2020-09-19T09:52:40.639847Z",
     "iopub.status.busy": "2020-09-19T09:52:40.639632Z",
     "iopub.status.idle": "2020-09-19T09:52:40.642608Z",
     "shell.execute_reply": "2020-09-19T09:52:40.642059Z",
     "shell.execute_reply.started": "2020-09-19T09:52:40.639824Z"
    }
   },
   "source": [
    "<br>\n",
    "<br>\n",
    "<br>\n",
    "<br>\n",
    "<br>\n",
    "\n",
    "\n",
    "# The rest of this file is for reference only.  \n",
    "\n",
    "<br>\n",
    "<br>\n",
    "<br>\n",
    "\n"
   ]
  },
  {
   "cell_type": "markdown",
   "metadata": {},
   "source": [
    "<br>\n",
    "<br>\n",
    "<br>\n",
    "<br>\n",
    "<br>\n",
    "<br>\n",
    "<br>\n",
    "<br>\n",
    "\n",
    "\n",
    "# Snippets\n",
    "\n",
    "```python\n",
    "# rotate the image\n",
    "frame = cv.rotate(frame, cv.ROTATE_90_COUNTERCLOCKWISE)\n",
    "```"
   ]
  },
  {
   "cell_type": "markdown",
   "metadata": {},
   "source": []
  },
  {
   "cell_type": "code",
   "execution_count": 8,
   "metadata": {
    "execution": {
     "iopub.execute_input": "2021-01-16T02:09:24.346587Z",
     "iopub.status.busy": "2021-01-16T02:09:24.346368Z",
     "iopub.status.idle": "2021-01-16T02:09:24.348552Z",
     "shell.execute_reply": "2021-01-16T02:09:24.348101Z",
     "shell.execute_reply.started": "2021-01-16T02:09:24.346570Z"
    }
   },
   "outputs": [],
   "source": [
    "# learn.export(f'../models/{RUN_NAME}.pkl')\n",
    "# path = Path('../models')\n",
    "# path.ls(file_exts='.pkl')"
   ]
  }
 ],
 "metadata": {
  "kernelspec": {
   "display_name": "Python 3",
   "language": "python",
   "name": "python3"
  },
  "language_info": {
   "codemirror_mode": {
    "name": "ipython",
    "version": 3
   },
   "file_extension": ".py",
   "mimetype": "text/x-python",
   "name": "python",
   "nbconvert_exporter": "python",
   "pygments_lexer": "ipython3",
   "version": "3.8.6"
  },
  "widgets": {
   "application/vnd.jupyter.widget-state+json": {
    "state": {},
    "version_major": 2,
    "version_minor": 0
   }
  }
 },
 "nbformat": 4,
 "nbformat_minor": 4
}
