{
 "cells": [
  {
   "cell_type": "markdown",
   "metadata": {},
   "source": [
    "# Webcam Deployment - \"Realtime\" video\n",
    "\n",
    "<br>\n",
    "<br>\n",
    "\n",
    "### For reference:\n",
    "<img src='https://i.pinimg.com/originals/fa/bb/70/fabb7087b0cffe30530e7df9ec1d0b88.png' width=\"400\" height=\"500\"></img>\n",
    "<br>\n",
    "<br>"
   ]
  },
  {
   "cell_type": "code",
   "execution_count": 1,
   "metadata": {
    "execution": {
     "iopub.execute_input": "2021-03-07T22:20:48.496427Z",
     "iopub.status.busy": "2021-03-07T22:20:48.496191Z",
     "iopub.status.idle": "2021-03-07T22:20:48.503139Z",
     "shell.execute_reply": "2021-03-07T22:20:48.502655Z",
     "shell.execute_reply.started": "2021-03-07T22:20:48.496366Z"
    }
   },
   "outputs": [],
   "source": [
    "import warnings\n",
    "warnings.filterwarnings('ignore')  # or 'once'  "
   ]
  },
  {
   "cell_type": "code",
   "execution_count": 2,
   "metadata": {
    "execution": {
     "iopub.execute_input": "2021-03-07T22:20:48.503730Z",
     "iopub.status.busy": "2021-03-07T22:20:48.503637Z",
     "iopub.status.idle": "2021-03-07T22:20:50.639503Z",
     "shell.execute_reply": "2021-03-07T22:20:50.639083Z",
     "shell.execute_reply.started": "2021-03-07T22:20:48.503720Z"
    },
    "tags": []
   },
   "outputs": [],
   "source": [
    "import sys\n",
    "sys.path.append('utils')\n",
    "\n",
    "# !pip install -Uqq fastbook\n",
    "# import fastbook\n",
    "# fastbook.setup_book()\n",
    "\n",
    "# RUN_NAME = '20210116-2147 - arch=xresnet50 - samples=1000 frozen=3 epochs=3 bs=20 res=300 _data=external preuntrained percent=88'\n",
    "# RUN_NAME = '20210116-2108 - arch=xresnet18 - samples=480 frozen=2 epochs=3 bs=8 res=300 _data=frank_pretrained=false_percent=71'\n",
    "\n",
    "# DEAD RUN_NAME = '20210118-2100 - arch=xresnet50 - samples=1000 frozen=0 epochs=25 bs=20 res=300 _data=external'\n",
    "# RUN_NAME = '200927-0730-RESNET101-384px-FALL-ft3f4'\n",
    "# RUN_NAME = '20210119-0130 - arch=xresnet50 - samples=1000 frozen=0 epochs=25 bs=20 res=300 _data=external'\n",
    "# RUN_NAME = '20210119-2152 - arch=xresnet50_deep - samples=1000 frozen=0 epochs=25 bs=20 res=300 _data=external'\n",
    "# RUN_NAME = '20210118-2000 - arch=xresnet50 - samples=1000 frozen=0 epochs=25 bs=20 res=300 _data=external'\n",
    "\n",
    "# RUN_NAME = '20210121-0017 - arch=xresnet50_deep - samples=3000 frozen=0 epochs=12 bs=20 res=300 _data=external'\n",
    "# RUN_NAME='20210122-0037 - arch=xresnet50_deep - samples=3000 frozen=1 epochs=40 bs=16 res=360 _data=external'\n",
    "# RUN_NAME = '20210122-2356 - arch=xresnet50_deep - samples=3000 frozen=1 epochs=40 bs=16 res=360 _data=external'\n",
    "# RUN_NAME = '20210123-2127 - arch=xresnet50_deep - samples=2000 frozen=1 epochs=22 bs=16 res=360 _data=external'\n",
    "# RUN_NAME = '20210126-0759 - arch=xresnet50_deep - samples=1000 frozen=1 epochs=30 bs=16 res=360 _data=combined1'\n",
    "# RUN_NAME = '20210126-1840 - arch=xresnet50_deep - samples=1000 frozen=1 epochs=30 bs=16 res=360 _data=combined1'\n",
    "# RUN_NAME = '20210127-1717 - arch=xresnet50 - samples=1100 frozen=1 epochs=20 bs=28 res=280 _data=combined2'\n",
    "# RUN_NAME = '20210127-2251 - arch=xresnet50 - samples=1100 frozen=1 epochs=40 bs=28 res=280 _data=combined2'\n",
    "# RUN_NAME = '20210128-1251 - arch=xresnet50 - samples=1100 frozen=1 epochs=40 bs=28 res=280 _data=combined2'\n",
    "# RUN_NAME = '20210303-1849 - arch=tf_efficientnet_b4_ns - samples=1100 frozen=1 epochs=15 bs=48 res=380 _data=combined2'\n",
    "# RUN_NAME = '20210306-0451 - arch=tf_efficientnet_b4_ns - samples=-1 frozen=1 epochs=5 bs=48 res=380 _data=combined4'\n",
    "# RUN_NAME = '20210306-1514 - arch=tf_efficientnet_b4_ns - samples=-1 frozen=1 epochs=6 bs=48 res=380 _data=combined4'\n",
    "# RUN_NAME = '20210306-2345 - arch=tf_efficientnet_b4_ns - samples=-1 frozen=1 epochs=6 bs=48 res=380 _data=combined4'\n",
    "RUN_NAME = '20210307-0431 - arch=tf_efficientnet_b4_ns - samples=-1 frozen=1 epochs=8 bs=48 res=380 _data=combined4'\n",
    "#epoch_num = 38  # this is used in the case we want to load checkpoints instead of a pickle\n",
    "\n",
    "# The threshold at which we say a prediction is viable.  Note that the threshold has to be \n",
    "# quite low now.  This is partly because of label smoothing and partly because of some signs \n",
    "# being very similar.\n",
    "PRED_THRESHOLD = 0.4 \n",
    "\n",
    "\n",
    "SAVE_IMAGES_TO_FILE = False  # flag if we want to capture the image to disk\n",
    "\n",
    "SYMBOL = None\n",
    "\n",
    "RESOLUTION = 380\n",
    "\n",
    "\n",
    "# from fastbook import *\n",
    "from fastbook import *\n",
    "from fastai.vision.all import *\n",
    "\n",
    "from fastai.vision.widgets import *\n",
    "import fastai.vision\n",
    "import fastai\n",
    "from fastai.learner import *\n",
    "import fastprogress\n",
    "\n",
    "import timm\n",
    "\n",
    "from nn_utils_eff import *\n",
    "from augmentation import *\n",
    "\n",
    "import numpy as np\n",
    "import cv2 as cv\n",
    "\n",
    "import os\n",
    "\n",
    "\n"
   ]
  },
  {
   "cell_type": "markdown",
   "metadata": {},
   "source": [
    "<br>\n",
    "<br>\n",
    "\n",
    "## Load the model"
   ]
  },
  {
   "cell_type": "code",
   "execution_count": 3,
   "metadata": {
    "execution": {
     "iopub.execute_input": "2021-03-07T22:20:50.640054Z",
     "iopub.status.busy": "2021-03-07T22:20:50.639952Z",
     "iopub.status.idle": "2021-03-07T22:20:52.927887Z",
     "shell.execute_reply": "2021-03-07T22:20:52.927454Z",
     "shell.execute_reply.started": "2021-03-07T22:20:50.640044Z"
    },
    "tags": []
   },
   "outputs": [
    {
     "name": "stdout",
     "output_type": "stream",
     "text": [
      "Model Loaded.\n"
     ]
    }
   ],
   "source": [
    "if not SAVE_IMAGES_TO_FILE:\n",
    "    learn_inf = load_learner(f'../models/{RUN_NAME}.pkl', cpu=False)\n",
    "#     load_model(f'models/{RUN_NAME}.pth', learn_inf, with_opt=False, opt=Adam)\n",
    "    print('Model Loaded.')"
   ]
  },
  {
   "cell_type": "markdown",
   "metadata": {},
   "source": [
    "<br>\n",
    "<br>\n",
    "\n",
    "## Function definitions"
   ]
  },
  {
   "cell_type": "code",
   "execution_count": 4,
   "metadata": {
    "execution": {
     "iopub.execute_input": "2021-03-07T22:20:52.928498Z",
     "iopub.status.busy": "2021-03-07T22:20:52.928395Z",
     "iopub.status.idle": "2021-03-07T22:20:52.932579Z",
     "shell.execute_reply": "2021-03-07T22:20:52.932232Z",
     "shell.execute_reply.started": "2021-03-07T22:20:52.928488Z"
    },
    "tags": []
   },
   "outputs": [],
   "source": [
    "def setup_camera() -> cv.VideoCapture:\n",
    "    '''\n",
    "    Set up the camera source\n",
    "    '''\n",
    "#     cap = cv.VideoCapture(0)\n",
    "    # cap = cv.VideoCapture('http://127.0.0.1:4747/video')\n",
    "#     cap = cv.VideoCapture('http://10.0.0.67:4747/video')  # S7\n",
    "    cap = cv.VideoCapture('http://10.0.0.74:4747/video')  # N10\n",
    "\n",
    "    # cap = cv.VideoCapture('Droidcam')\n",
    "#     cap = cv.VideoCapture('http://10.0.0.144:4747/video')  # N8\n",
    "    \n",
    "    print(f'Autofocus status: {cap.set(cv.CAP_PROP_AUTOFOCUS, 1)}')\n",
    "    print(f'Manual focus to shortest distance: {cap.set(cv.CAP_PROP_FOCUS, 0)}')\n",
    "\n",
    "    # Check if camera opened successfully\n",
    "    if not cap.isOpened():\n",
    "        print(\"Error opening video stream or file!\")\n",
    "    \n",
    "    return cap\n",
    "\n",
    "\n",
    "\n",
    "\n",
    "def close_camera():\n",
    "    '''\n",
    "    Close all capture devices and destroy open capture windows\n",
    "    '''\n",
    "    cap.release()\n",
    "    cv.destroyAllWindows()\n",
    "    \n",
    "    \n",
    "\n",
    "\n",
    "def print_stats():\n",
    "    '''\n",
    "    Print some basic stats to stdout\n",
    "    '''\n",
    "    \n",
    "    print(f'Frame shape = {frame.shape}')\n",
    "    print(f'Total number of Frames = {nframe}')\n",
    "    print(f'Number of frames processed = {n_proc_frames // PROC_NTH_FRAME}')\n",
    "    \n",
    "    \n",
    "    \n",
    "# @TODO: Factor out the directory creation logic - slow/redundant    \n",
    "def save_images(frame, prframe):\n",
    "    '''\n",
    "    write small and large images to jpeg\n",
    "    '''\n",
    "    symbol_dir = SYMBOL\n",
    "    \n",
    "    #seperate the directory path\n",
    "    datadir_small = f'../data/{maindir}-S/{symbol_dir}'\n",
    "    datadir_large = f'../data/{maindir}-L/{symbol_dir}'\n",
    "\n",
    "    # build the entire directory structure if it doesn't exist\n",
    "    if not os.path.isdir(datadir_small):\n",
    "        os.makedirs(datadir_small)\n",
    "        \n",
    "    if not os.path.isdir(datadir_large):\n",
    "        os.makedirs(datadir_large)\n",
    "    \n",
    "    # create a directory+filename template\n",
    "    ftemplate_small = f'{datadir_small}/{file_prefix}-{n_save_frames}.jpg'\n",
    "    ftemplate_large = f'{datadir_large}/{file_prefix}-{n_save_frames}.jpg'\n",
    "    \n",
    "    # write the image to a file\n",
    "#     cv.imwrite(ftemplate_small, prframe)\n",
    "    cv.imwrite(ftemplate_large, frame)\n",
    "    \n",
    "    frame = cv.putText(frame, f'Saved Frame {SYMBOL} #{n_save_frames}', \n",
    "                   org=(20,40), fontFace=cv.FONT_HERSHEY_PLAIN, \n",
    "                   fontScale=2, color=(0,255,255), thickness=2,\n",
    "                   lineType=cv.LINE_AA) \n",
    "    \n",
    "    # Display the frame with the writing on it\n",
    "    cv.imshow('What the Camera Sees:',frame)\n",
    "    \n",
    "    \n",
    "    \n",
    "\n",
    "    \n"
   ]
  },
  {
   "cell_type": "markdown",
   "metadata": {},
   "source": [
    "<br>\n",
    "<br>"
   ]
  },
  {
   "cell_type": "markdown",
   "metadata": {},
   "source": [
    "<br>\n",
    "<br>\n",
    "\n",
    "## Open the video camera, loop for every Frame, massage the image and make a prediction.  "
   ]
  },
  {
   "cell_type": "markdown",
   "metadata": {},
   "source": [
    "#### This is the main code cel.  It has 2 purposes. When you hit the spacebar, it will either:\n",
    "1. Make an ASL alphabet translation or \n",
    "2. If SAVE_IMAGES_TO_FILE is True, it will save an image to the data dir "
   ]
  },
  {
   "cell_type": "code",
   "execution_count": 5,
   "metadata": {
    "execution": {
     "iopub.execute_input": "2021-03-07T22:20:52.933093Z",
     "iopub.status.busy": "2021-03-07T22:20:52.932995Z",
     "iopub.status.idle": "2021-03-07T22:23:32.400940Z",
     "shell.execute_reply": "2021-03-07T22:23:32.400493Z",
     "shell.execute_reply.started": "2021-03-07T22:20:52.933083Z"
    },
    "tags": []
   },
   "outputs": [
    {
     "name": "stdout",
     "output_type": "stream",
     "text": [
      "Autofocus status: False\n",
      "Manual focus to shortest distance: False\n",
      "Frame shape = (480, 640, 3)\n",
      "Total number of Frames = 4036\n",
      "Number of frames processed = 448\n"
     ]
    }
   ],
   "source": [
    "from fastai.vision  import *\n",
    "import torch\n",
    "\n",
    "PROC_NTH_FRAME = 3  # Skip every N-1 frames - increase this if your computer lags\n",
    "\n",
    "maindir = 'frank-1'  # these are image saving parameters dir/file\n",
    "file_prefix = 'frank-led1'\n",
    "\n",
    "n_proc_frames, nframe = 0,0  # number of frames\n",
    "n_save_frames = 0  # number of captured frames for saving to file\n",
    "\n",
    "# declare here to widen scope\n",
    "pred, probs, pred_idx = [0], [0], 0\n",
    "frame, prframe = None, None\n",
    "\n",
    "if SAVE_IMAGES_TO_FILE:\n",
    "    SYMBOL = input('Enter Symbol of interest: ')[0]\n",
    "    \n",
    "cap = setup_camera()\n",
    "\n",
    "\n",
    "# \"Game\" Loop ... for every frame\n",
    "while(cap.isOpened()):\n",
    "    nframe += 1\n",
    "    ret, frame = cap.read()  # Capture frame\n",
    "    wait_ret = cv.waitKey(1)  # key char value if any\n",
    "\n",
    "    # Break out of the loop if the user presses 'Q'\n",
    "    if wait_ret & 0xFF == ord('q'):\n",
    "        print_stats()\n",
    "        break\n",
    "    \n",
    "    # only process the rest if the capture was successful\n",
    "    if not ret:\n",
    "        print(\"Can't read frame from capture source!\")\n",
    "        break  # break out of loop to let the camera close\n",
    "\n",
    "    # crop the original 640x480 image down to a centered square 480x480\n",
    "#     frame = frame[:, 80:-80]\n",
    "\n",
    "    # mirror the image horizontally\n",
    "    frame = cv.flip(frame, 1)\n",
    "\n",
    "\n",
    "    # process only if the space key is hit and\n",
    "    # only process every PROC_NTH_FRAME frames \n",
    "    if (nframe % PROC_NTH_FRAME == 0):  # and wait_ret & 0xFF == ord(' ')  \n",
    "        n_proc_frames +=1  # num processed frames\n",
    "\n",
    "\n",
    "        # this version for resnet34 w/ 300px image\n",
    "        prframe = cv.resize(frame[:, 80:-80], (RESOLUTION, RESOLUTION))\n",
    "#         prframe = frame[:,80:-80]\n",
    "\n",
    "        \n",
    "        # Display the frame that we pass through the predictor\n",
    "        cv.imshow('What the Predictor Sees:', prframe)\n",
    "\n",
    "        if SAVE_IMAGES_TO_FILE :\n",
    "            if wait_ret & 0xFF == ord(' '):  # only save when pressing the spacebar\n",
    "                n_save_frames = n_save_frames + 1\n",
    "                save_images(frame, prframe)\n",
    "            continue  # no need to predict\n",
    "\n",
    "        # create the prediction\n",
    "        with learn_inf.no_bar():\n",
    "            img = PILImage.create(cv.cvtColor(prframe, cv.COLOR_BGR2RGB))\n",
    "            pred,pred_idx,probs = learn_inf.predict(img)\n",
    "            \n",
    "           \n",
    "           \n",
    "        # write the prediction as text on the frame\n",
    "        if probs[pred_idx.long()] > PRED_THRESHOLD:\n",
    "            frame = cv.putText(frame, f'Predict: {pred}, Conf: {probs[pred_idx]:.02f}', \n",
    "                               org=(20,40), fontFace=cv.FONT_HERSHEY_PLAIN, \n",
    "                               fontScale=2, color=(0,255,255), thickness=2,\n",
    "                               lineType=cv.LINE_AA) \n",
    "\n",
    "        # Display the original frame\n",
    "        cv.imshow('What the Camera Sees:',frame)\n",
    "\n",
    "# Release the capture object\n",
    "close_camera()\n",
    "# dec_inp.show()"
   ]
  },
  {
   "cell_type": "code",
   "execution_count": 6,
   "metadata": {
    "execution": {
     "iopub.execute_input": "2021-03-07T22:23:32.401664Z",
     "iopub.status.busy": "2021-03-07T22:23:32.401532Z",
     "iopub.status.idle": "2021-03-07T22:23:32.403631Z",
     "shell.execute_reply": "2021-03-07T22:23:32.403290Z",
     "shell.execute_reply.started": "2021-03-07T22:23:32.401650Z"
    }
   },
   "outputs": [],
   "source": [
    "close_camera()                \n"
   ]
  },
  {
   "cell_type": "markdown",
   "metadata": {
    "execution": {
     "iopub.execute_input": "2020-09-19T09:52:40.639847Z",
     "iopub.status.busy": "2020-09-19T09:52:40.639632Z",
     "iopub.status.idle": "2020-09-19T09:52:40.642608Z",
     "shell.execute_reply": "2020-09-19T09:52:40.642059Z",
     "shell.execute_reply.started": "2020-09-19T09:52:40.639824Z"
    }
   },
   "source": [
    "<br>\n",
    "<br>\n",
    "<br>\n",
    "<br>\n",
    "<br>\n",
    "\n",
    "\n",
    "# The rest of this file is for reference only.  \n",
    "\n",
    "<br>\n",
    "<br>\n",
    "<br>\n",
    "\n"
   ]
  },
  {
   "cell_type": "markdown",
   "metadata": {},
   "source": [
    "<br>\n",
    "<br>\n",
    "<br>\n",
    "<br>\n",
    "<br>\n",
    "<br>\n",
    "<br>\n",
    "<br>\n",
    "\n",
    "\n",
    "### Snippets\n",
    "\n",
    "```python\n",
    "# rotate the image\n",
    "frame = cv.rotate(frame, cv.ROTATE_90_COUNTERCLOCKWISE)\n",
    "```"
   ]
  },
  {
   "cell_type": "markdown",
   "metadata": {},
   "source": []
  }
 ],
 "metadata": {
  "kernelspec": {
   "display_name": "Python 3",
   "language": "python",
   "name": "python3"
  },
  "language_info": {
   "codemirror_mode": {
    "name": "ipython",
    "version": 3
   },
   "file_extension": ".py",
   "mimetype": "text/x-python",
   "name": "python",
   "nbconvert_exporter": "python",
   "pygments_lexer": "ipython3",
   "version": "3.8.6"
  },
  "widgets": {
   "application/vnd.jupyter.widget-state+json": {
    "state": {},
    "version_major": 2,
    "version_minor": 0
   }
  }
 },
 "nbformat": 4,
 "nbformat_minor": 4
}
