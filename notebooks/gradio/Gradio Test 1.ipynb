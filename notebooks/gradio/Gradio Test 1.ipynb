{
 "cells": [
  {
   "cell_type": "code",
   "execution_count": 1,
   "id": "later-sustainability",
   "metadata": {
    "execution": {
     "iopub.execute_input": "2021-03-04T07:59:55.683232Z",
     "iopub.status.busy": "2021-03-04T07:59:55.683009Z",
     "iopub.status.idle": "2021-03-04T07:59:55.689927Z",
     "shell.execute_reply": "2021-03-04T07:59:55.689357Z",
     "shell.execute_reply.started": "2021-03-04T07:59:55.683176Z"
    },
    "tags": []
   },
   "outputs": [],
   "source": [
    "import sys\n",
    "sys.path.append('../utils')"
   ]
  },
  {
   "cell_type": "code",
   "execution_count": 2,
   "id": "forty-niagara",
   "metadata": {
    "execution": {
     "iopub.execute_input": "2021-03-04T07:59:55.690785Z",
     "iopub.status.busy": "2021-03-04T07:59:55.690606Z",
     "iopub.status.idle": "2021-03-04T07:59:55.698115Z",
     "shell.execute_reply": "2021-03-04T07:59:55.697460Z",
     "shell.execute_reply.started": "2021-03-04T07:59:55.690766Z"
    },
    "tags": []
   },
   "outputs": [],
   "source": [
    "import warnings\n",
    "warnings.filterwarnings('ignore')  # or 'once'  "
   ]
  },
  {
   "cell_type": "code",
   "execution_count": 3,
   "id": "variable-treasure",
   "metadata": {
    "execution": {
     "iopub.execute_input": "2021-03-04T07:59:55.699176Z",
     "iopub.status.busy": "2021-03-04T07:59:55.698984Z",
     "iopub.status.idle": "2021-03-04T07:59:58.201574Z",
     "shell.execute_reply": "2021-03-04T07:59:58.201063Z",
     "shell.execute_reply.started": "2021-03-04T07:59:55.699156Z"
    },
    "tags": []
   },
   "outputs": [],
   "source": [
    "import pyforest\n",
    "import gradio as gr\n",
    "\n",
    "from datetime import datetime\n",
    "from fastbook import *\n",
    "from fastai.vision.all import *\n",
    "from fastai.vision.widgets import *\n",
    "import fastai\n",
    "import gc\n",
    "from nn_utils_eff import *\n",
    "from augmentation import *"
   ]
  },
  {
   "cell_type": "code",
   "execution_count": 4,
   "id": "committed-armenia",
   "metadata": {
    "execution": {
     "iopub.execute_input": "2021-03-04T07:59:58.202154Z",
     "iopub.status.busy": "2021-03-04T07:59:58.202048Z",
     "iopub.status.idle": "2021-03-04T07:59:58.343606Z",
     "shell.execute_reply": "2021-03-04T07:59:58.343229Z",
     "shell.execute_reply.started": "2021-03-04T07:59:58.202143Z"
    },
    "tags": []
   },
   "outputs": [
    {
     "name": "stdout",
     "output_type": "stream",
     "text": [
      "Model Loaded.\n"
     ]
    }
   ],
   "source": [
    "RUN_NAME = '20210303-1849 - arch=tf_efficientnet_b4_ns - samples=1100 frozen=1 epochs=15 bs=48 res=380 _data=combined2'\n",
    "\n",
    "learn_inf = load_learner(f'../../models/{RUN_NAME}.pkl', cpu=True)\n",
    "#     load_model(f'models/{RUN_NAME}.pth', learn_inf, with_opt=False, opt=Adam)\n",
    "remove_cbs(learn_inf)\n",
    "print('Model Loaded.')"
   ]
  },
  {
   "cell_type": "code",
   "execution_count": 5,
   "id": "palestinian-treatment",
   "metadata": {
    "execution": {
     "iopub.execute_input": "2021-03-04T07:59:58.344172Z",
     "iopub.status.busy": "2021-03-04T07:59:58.344063Z",
     "iopub.status.idle": "2021-03-04T07:59:58.347562Z",
     "shell.execute_reply": "2021-03-04T07:59:58.347270Z",
     "shell.execute_reply.started": "2021-03-04T07:59:58.344161Z"
    },
    "tags": []
   },
   "outputs": [
    {
     "data": {
      "text/plain": [
       "(#4) [TrainEvalCallback,Recorder,ProgressCallback,GradientClip]"
      ]
     },
     "execution_count": 5,
     "metadata": {},
     "output_type": "execute_result"
    }
   ],
   "source": [
    "learn_inf.remove_cbs([NonNativeMixedPrecision, ModelToHalf])\n",
    "learn_inf.cbs"
   ]
  },
  {
   "cell_type": "code",
   "execution_count": 21,
   "id": "divine-luxury",
   "metadata": {
    "execution": {
     "iopub.execute_input": "2021-03-04T08:17:10.208694Z",
     "iopub.status.busy": "2021-03-04T08:17:10.208431Z",
     "iopub.status.idle": "2021-03-04T08:17:10.211485Z",
     "shell.execute_reply": "2021-03-04T08:17:10.211013Z",
     "shell.execute_reply.started": "2021-03-04T08:17:10.208671Z"
    },
    "tags": []
   },
   "outputs": [],
   "source": [
    "labels = [char for char in ascii_uppercase]\n",
    "labels.remove('J')\n",
    "labels.remove('Z')\n"
   ]
  },
  {
   "cell_type": "code",
   "execution_count": 29,
   "id": "royal-piece",
   "metadata": {
    "execution": {
     "iopub.execute_input": "2021-03-04T08:25:25.127412Z",
     "iopub.status.busy": "2021-03-04T08:25:25.127173Z",
     "iopub.status.idle": "2021-03-04T08:25:26.246389Z",
     "shell.execute_reply": "2021-03-04T08:25:26.245325Z",
     "shell.execute_reply.started": "2021-03-04T08:25:25.127391Z"
    },
    "tags": []
   },
   "outputs": [
    {
     "name": "stdout",
     "output_type": "stream",
     "text": [
      "Running locally at: http://127.0.0.1:7869/\n",
      "To create a public link, set `share=True` in `launch()`.\n",
      "Interface loading below...\n"
     ]
    },
    {
     "data": {
      "text/html": [
       "\n",
       "        <iframe\n",
       "            width=\"1000\"\n",
       "            height=\"500\"\n",
       "            src=\"http://127.0.0.1:7869/\"\n",
       "            frameborder=\"0\"\n",
       "            allowfullscreen\n",
       "        ></iframe>\n",
       "        "
      ],
      "text/plain": [
       "<IPython.lib.display.IFrame at 0x7f0d33f90790>"
      ]
     },
     "metadata": {},
     "output_type": "display_data"
    }
   ],
   "source": [
    "def get_sign(img):\n",
    "    pred,pred_idx,probs = learn_inf.predict(img)\n",
    "    return {labels[i]: float(probs[i]) for i in range(len(labels))}\n",
    "#     return f'Predict: {pred}, Conf: {probs[pred_idx]:.02f}\n",
    "    \n",
    "    \n",
    "image = gr.inputs.Image(shape=(380,380))\n",
    "label = gr.outputs.Label(num_top_classes=3)\n",
    "iface = gr.Interface(fn=get_sign, inputs=image, outputs=label)\n",
    "iface.launch(share=False)"
   ]
  },
  {
   "cell_type": "code",
   "execution_count": null,
   "id": "handled-concord",
   "metadata": {},
   "outputs": [],
   "source": []
  }
 ],
 "metadata": {
  "kernelspec": {
   "display_name": "Python 3",
   "language": "python",
   "name": "python3"
  },
  "language_info": {
   "codemirror_mode": {
    "name": "ipython",
    "version": 3
   },
   "file_extension": ".py",
   "mimetype": "text/x-python",
   "name": "python",
   "nbconvert_exporter": "python",
   "pygments_lexer": "ipython3",
   "version": "3.8.6"
  },
  "widgets": {
   "application/vnd.jupyter.widget-state+json": {
    "state": {},
    "version_major": 2,
    "version_minor": 0
   }
  }
 },
 "nbformat": 4,
 "nbformat_minor": 5
}
