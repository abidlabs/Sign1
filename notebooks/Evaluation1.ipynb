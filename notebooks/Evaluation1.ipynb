{
 "cells": [
  {
   "cell_type": "code",
   "execution_count": 1,
   "id": "governing-african",
   "metadata": {
    "execution": {
     "iopub.status.idle": "2021-01-23T02:16:47.204234Z",
     "shell.execute_reply": "2021-01-23T02:16:47.203812Z",
     "shell.execute_reply.started": "2021-01-23T02:16:46.147327Z"
    }
   },
   "outputs": [],
   "source": [
    "from datetime import datetime\n",
    "from fastbook import *\n",
    "from fastai.vision.all import *\n",
    "from fastai.vision.widgets import *\n",
    "import fastai\n",
    "import gc\n",
    "import torch\n",
    "\n",
    "\n",
    "import numpy as np\n",
    "\n",
    "nimages_in_sample = 1000\n"
   ]
  },
  {
   "cell_type": "code",
   "execution_count": 2,
   "id": "immune-niagara",
   "metadata": {
    "execution": {
     "iopub.execute_input": "2021-01-23T02:16:47.205080Z",
     "iopub.status.busy": "2021-01-23T02:16:47.204971Z",
     "iopub.status.idle": "2021-01-23T02:16:47.207126Z",
     "shell.execute_reply": "2021-01-23T02:16:47.206731Z",
     "shell.execute_reply.started": "2021-01-23T02:16:47.205068Z"
    }
   },
   "outputs": [],
   "source": [
    "data = 'frank'\n",
    "path = f'../data/{data}/Training_Set'\n",
    "path2 = None"
   ]
  },
  {
   "cell_type": "code",
   "execution_count": 3,
   "id": "distributed-haven",
   "metadata": {
    "execution": {
     "iopub.execute_input": "2021-01-23T02:16:47.208700Z",
     "iopub.status.busy": "2021-01-23T02:16:47.208596Z",
     "iopub.status.idle": "2021-01-23T02:16:47.382817Z",
     "shell.execute_reply": "2021-01-23T02:16:47.382396Z",
     "shell.execute_reply.started": "2021-01-23T02:16:47.208690Z"
    }
   },
   "outputs": [],
   "source": [
    "image_files = get_image_files(path)\n",
    "\n",
    "def get_test_fnames(a):\n",
    "    return random.sample(image_files, nimages_in_sample)"
   ]
  },
  {
   "cell_type": "code",
   "execution_count": 4,
   "id": "periodic-concentrate",
   "metadata": {
    "execution": {
     "iopub.execute_input": "2021-01-23T02:16:47.383389Z",
     "iopub.status.busy": "2021-01-23T02:16:47.383286Z",
     "iopub.status.idle": "2021-01-23T02:16:47.385252Z",
     "shell.execute_reply": "2021-01-23T02:16:47.384880Z",
     "shell.execute_reply.started": "2021-01-23T02:16:47.383377Z"
    }
   },
   "outputs": [],
   "source": [
    "# cleaner = None\n",
    "# test_learn = None\n",
    "# inputs = None\n",
    "# preds = None\n",
    "# interp = None\n",
    "# targs = None\n",
    "# decoded = None\n",
    "# losses = None\n",
    "# # learn = None\n",
    "# gc.collect()"
   ]
  },
  {
   "cell_type": "code",
   "execution_count": 5,
   "id": "familiar-leave",
   "metadata": {
    "execution": {
     "iopub.execute_input": "2021-01-23T02:16:47.385729Z",
     "iopub.status.busy": "2021-01-23T02:16:47.385626Z",
     "iopub.status.idle": "2021-01-23T02:37:17.003436Z",
     "shell.execute_reply": "2021-01-23T02:37:17.003025Z",
     "shell.execute_reply.started": "2021-01-23T02:16:47.385719Z"
    }
   },
   "outputs": [
    {
     "name": "stdout",
     "output_type": "stream",
     "text": [
      "\n",
      "\n",
      "EPOCH #10\n",
      "pred_run: 1, accuracy: 45%\n",
      "pred_run: 2, accuracy: 48%\n",
      "pred_run: 3, accuracy: 51%\n",
      "pred_run: 4, accuracy: 48%\n",
      "pred_run: 5, accuracy: 48%\n",
      "AVERAGE ACCURACY:      48%\n",
      "\n",
      "\n",
      "EPOCH #11\n",
      "pred_run: 1, accuracy: 51%\n",
      "pred_run: 2, accuracy: 48%\n",
      "pred_run: 3, accuracy: 49%\n",
      "pred_run: 4, accuracy: 48%\n",
      "pred_run: 5, accuracy: 48%\n",
      "AVERAGE ACCURACY:      49%\n",
      "\n",
      "\n",
      "EPOCH #12\n",
      "pred_run: 1, accuracy: 50%\n",
      "pred_run: 2, accuracy: 51%\n",
      "pred_run: 3, accuracy: 50%\n",
      "pred_run: 4, accuracy: 49%\n",
      "pred_run: 5, accuracy: 49%\n",
      "AVERAGE ACCURACY:      50%\n",
      "\n",
      "\n",
      "EPOCH #13\n",
      "pred_run: 1, accuracy: 49%\n",
      "pred_run: 2, accuracy: 50%\n",
      "pred_run: 3, accuracy: 49%\n",
      "pred_run: 4, accuracy: 50%\n",
      "pred_run: 5, accuracy: 50%\n",
      "AVERAGE ACCURACY:      50%\n",
      "\n",
      "\n",
      "EPOCH #14\n",
      "pred_run: 1, accuracy: 49%\n",
      "pred_run: 2, accuracy: 48%\n",
      "pred_run: 3, accuracy: 51%\n",
      "pred_run: 4, accuracy: 47%\n",
      "pred_run: 5, accuracy: 48%\n",
      "AVERAGE ACCURACY:      48%\n",
      "\n",
      "\n",
      "EPOCH #15\n",
      "pred_run: 1, accuracy: 54%\n",
      "pred_run: 2, accuracy: 53%\n",
      "pred_run: 3, accuracy: 52%\n",
      "pred_run: 4, accuracy: 54%\n",
      "pred_run: 5, accuracy: 53%\n",
      "AVERAGE ACCURACY:      53%\n",
      "\n",
      "\n",
      "EPOCH #16\n",
      "pred_run: 1, accuracy: 51%\n",
      "pred_run: 2, accuracy: 47%\n",
      "pred_run: 3, accuracy: 47%\n",
      "pred_run: 4, accuracy: 51%\n",
      "pred_run: 5, accuracy: 48%\n",
      "AVERAGE ACCURACY:      49%\n",
      "\n",
      "\n",
      "EPOCH #17\n",
      "pred_run: 1, accuracy: 50%\n",
      "pred_run: 2, accuracy: 52%\n",
      "pred_run: 3, accuracy: 52%\n",
      "pred_run: 4, accuracy: 48%\n",
      "pred_run: 5, accuracy: 53%\n",
      "AVERAGE ACCURACY:      51%\n",
      "\n",
      "\n",
      "EPOCH #18\n",
      "pred_run: 1, accuracy: 53%\n",
      "pred_run: 2, accuracy: 54%\n",
      "pred_run: 3, accuracy: 55%\n",
      "pred_run: 4, accuracy: 53%\n",
      "pred_run: 5, accuracy: 52%\n",
      "AVERAGE ACCURACY:      53%\n",
      "\n",
      "\n",
      "EPOCH #19\n",
      "pred_run: 1, accuracy: 54%\n",
      "pred_run: 2, accuracy: 56%\n",
      "pred_run: 3, accuracy: 59%\n",
      "pred_run: 4, accuracy: 54%\n",
      "pred_run: 5, accuracy: 55%\n",
      "AVERAGE ACCURACY:      56%\n",
      "\n",
      "\n",
      "EPOCH #20\n",
      "pred_run: 1, accuracy: 57%\n",
      "pred_run: 2, accuracy: 57%\n",
      "pred_run: 3, accuracy: 58%\n",
      "pred_run: 4, accuracy: 57%\n",
      "pred_run: 5, accuracy: 56%\n",
      "AVERAGE ACCURACY:      57%\n",
      "\n",
      "\n",
      "EPOCH #21\n",
      "pred_run: 1, accuracy: 52%\n",
      "pred_run: 2, accuracy: 55%\n",
      "pred_run: 3, accuracy: 54%\n",
      "pred_run: 4, accuracy: 55%\n",
      "pred_run: 5, accuracy: 52%\n",
      "AVERAGE ACCURACY:      54%\n",
      "\n",
      "\n",
      "EPOCH #22\n",
      "pred_run: 1, accuracy: 55%\n",
      "pred_run: 2, accuracy: 55%\n",
      "pred_run: 3, accuracy: 54%\n",
      "pred_run: 4, accuracy: 56%\n",
      "pred_run: 5, accuracy: 54%\n",
      "AVERAGE ACCURACY:      55%\n",
      "\n",
      "\n",
      "EPOCH #23\n",
      "pred_run: 1, accuracy: 57%\n",
      "pred_run: 2, accuracy: 56%\n",
      "pred_run: 3, accuracy: 57%\n",
      "pred_run: 4, accuracy: 55%\n",
      "pred_run: 5, accuracy: 55%\n",
      "AVERAGE ACCURACY:      56%\n",
      "\n",
      "\n",
      "EPOCH #24\n",
      "pred_run: 1, accuracy: 55%\n",
      "pred_run: 2, accuracy: 57%\n",
      "pred_run: 3, accuracy: 58%\n",
      "pred_run: 4, accuracy: 60%\n",
      "pred_run: 5, accuracy: 57%\n",
      "AVERAGE ACCURACY:      58%\n",
      "\n",
      "\n",
      "EPOCH #25\n",
      "pred_run: 1, accuracy: 59%\n",
      "pred_run: 2, accuracy: 59%\n",
      "pred_run: 3, accuracy: 60%\n",
      "pred_run: 4, accuracy: 55%\n",
      "pred_run: 5, accuracy: 59%\n",
      "AVERAGE ACCURACY:      58%\n",
      "\n",
      "\n",
      "EPOCH #26\n",
      "pred_run: 1, accuracy: 56%\n",
      "pred_run: 2, accuracy: 57%\n",
      "pred_run: 3, accuracy: 57%\n",
      "pred_run: 4, accuracy: 57%\n",
      "pred_run: 5, accuracy: 58%\n",
      "AVERAGE ACCURACY:      57%\n",
      "\n",
      "\n",
      "EPOCH #27\n",
      "pred_run: 1, accuracy: 56%\n",
      "pred_run: 2, accuracy: 59%\n",
      "pred_run: 3, accuracy: 56%\n",
      "pred_run: 4, accuracy: 54%\n",
      "pred_run: 5, accuracy: 56%\n",
      "AVERAGE ACCURACY:      56%\n",
      "\n",
      "\n",
      "EPOCH #28\n",
      "pred_run: 1, accuracy: 55%\n",
      "pred_run: 2, accuracy: 56%\n",
      "pred_run: 3, accuracy: 60%\n",
      "pred_run: 4, accuracy: 59%\n",
      "pred_run: 5, accuracy: 60%\n",
      "AVERAGE ACCURACY:      58%\n",
      "\n",
      "\n",
      "EPOCH #29\n",
      "pred_run: 1, accuracy: 60%\n",
      "pred_run: 2, accuracy: 58%\n",
      "pred_run: 3, accuracy: 60%\n",
      "pred_run: 4, accuracy: 60%\n",
      "pred_run: 5, accuracy: 61%\n",
      "AVERAGE ACCURACY:      60%\n",
      "\n",
      "\n",
      "EPOCH #30\n",
      "pred_run: 1, accuracy: 61%\n",
      "pred_run: 2, accuracy: 62%\n",
      "pred_run: 3, accuracy: 60%\n",
      "pred_run: 4, accuracy: 63%\n",
      "pred_run: 5, accuracy: 61%\n",
      "AVERAGE ACCURACY:      61%\n",
      "\n",
      "\n",
      "EPOCH #31\n",
      "pred_run: 1, accuracy: 61%\n",
      "pred_run: 2, accuracy: 61%\n",
      "pred_run: 3, accuracy: 59%\n",
      "pred_run: 4, accuracy: 58%\n",
      "pred_run: 5, accuracy: 58%\n",
      "AVERAGE ACCURACY:      59%\n",
      "\n",
      "\n",
      "EPOCH #32\n",
      "pred_run: 1, accuracy: 57%\n",
      "pred_run: 2, accuracy: 59%\n",
      "pred_run: 3, accuracy: 61%\n",
      "pred_run: 4, accuracy: 62%\n",
      "pred_run: 5, accuracy: 59%\n",
      "AVERAGE ACCURACY:      60%\n",
      "\n",
      "\n",
      "EPOCH #33\n",
      "pred_run: 1, accuracy: 58%\n",
      "pred_run: 2, accuracy: 59%\n",
      "pred_run: 3, accuracy: 58%\n",
      "pred_run: 4, accuracy: 61%\n",
      "pred_run: 5, accuracy: 61%\n",
      "AVERAGE ACCURACY:      59%\n",
      "\n",
      "\n",
      "EPOCH #34\n",
      "pred_run: 1, accuracy: 60%\n",
      "pred_run: 2, accuracy: 60%\n",
      "pred_run: 3, accuracy: 61%\n",
      "pred_run: 4, accuracy: 62%\n",
      "pred_run: 5, accuracy: 62%\n",
      "AVERAGE ACCURACY:      61%\n",
      "\n",
      "\n",
      "EPOCH #35\n",
      "pred_run: 1, accuracy: 62%\n",
      "pred_run: 2, accuracy: 58%\n",
      "pred_run: 3, accuracy: 60%\n",
      "pred_run: 4, accuracy: 61%\n",
      "pred_run: 5, accuracy: 60%\n",
      "AVERAGE ACCURACY:      60%\n",
      "\n",
      "\n",
      "EPOCH #36\n",
      "pred_run: 1, accuracy: 59%\n",
      "pred_run: 2, accuracy: 60%\n",
      "pred_run: 3, accuracy: 60%\n",
      "pred_run: 4, accuracy: 61%\n",
      "pred_run: 5, accuracy: 60%\n",
      "AVERAGE ACCURACY:      60%\n",
      "\n",
      "\n",
      "EPOCH #37\n",
      "pred_run: 1, accuracy: 60%\n",
      "pred_run: 2, accuracy: 60%\n",
      "pred_run: 3, accuracy: 60%\n",
      "pred_run: 4, accuracy: 62%\n",
      "pred_run: 5, accuracy: 59%\n",
      "AVERAGE ACCURACY:      60%\n",
      "\n",
      "\n",
      "EPOCH #38\n",
      "pred_run: 1, accuracy: 57%\n",
      "pred_run: 2, accuracy: 60%\n",
      "pred_run: 3, accuracy: 60%\n",
      "pred_run: 4, accuracy: 63%\n",
      "pred_run: 5, accuracy: 61%\n",
      "AVERAGE ACCURACY:      60%\n",
      "\n",
      "\n",
      "EPOCH #39\n",
      "pred_run: 1, accuracy: 58%\n",
      "pred_run: 2, accuracy: 62%\n",
      "pred_run: 3, accuracy: 58%\n",
      "pred_run: 4, accuracy: 62%\n",
      "pred_run: 5, accuracy: 58%\n",
      "AVERAGE ACCURACY:      60%\n"
     ]
    }
   ],
   "source": [
    "num = 7\n",
    "num_epochs = 40\n",
    "num_pred_runs = 5\n",
    "RUN_NAME='20210122-0037 - arch=xresnet50_deep - samples=3000 frozen=1 epochs=40 bs=16 res=360 _data=external'\n",
    "RESOLUTION = 360\n",
    "BATCH_SIZE=32\n",
    "\n",
    "accd = dict()\n",
    "\n",
    "for ep in range(10, num_epochs):\n",
    "    acc_list = []\n",
    "    print(f'\\n\\nEPOCH #{ep}')\n",
    "    \n",
    "    for pr in range(1, num_pred_runs+1):\n",
    "\n",
    "        test_learn = load_learner(f'../models/{RUN_NAME}.pkl', cpu=False)\n",
    "        load_model(f'models/{RUN_NAME}_{ep}.pth', test_learn, opt=Adam, with_opt=False)\n",
    "\n",
    "\n",
    "\n",
    "        test_db = DataBlock(\n",
    "            blocks=(ImageBlock, CategoryBlock), \n",
    "            get_items=get_test_fnames,\n",
    "            get_y=parent_label, \n",
    "            item_tfms=Resize(RESOLUTION, method='bilinear')) #,\n",
    "        #     item_tfms=CropPad(RESOLUTION, pad_mode='zeros'))\n",
    "        #    ,    batch_tfms=aug_transforms(do_flip=True, size=RESOLUTION, batch=False, max_zoom=1.0, mult=1, pad_mode='zeros'))\n",
    "\n",
    "\n",
    "        dls = test_db.dataloaders(path, bs=BATCH_SIZE)\n",
    "\n",
    "        test_dl = dls.test_dl(get_test_fnames(''), with_labels=True)\n",
    "\n",
    "        with test_learn.no_bar():\n",
    "            inputs, preds, targs, decoded, losses = test_learn.get_preds(dl=test_dl, with_input=True, with_decoded=True, with_loss=True)\n",
    "\n",
    "        acc_list.append(accuracy(preds, targs))\n",
    "        print(f'pred_run: {pr}, accuracy: {round(np.float(100* accuracy(preds, targs)))}%')\n",
    "    \n",
    "    accd[ep] = np.mean(acc_list)\n",
    "    print(f'AVERAGE ACCURACY:      {round(100*np.mean(acc_list))}%')\n",
    "    \n",
    "\n"
   ]
  },
  {
   "cell_type": "code",
   "execution_count": 6,
   "id": "suffering-inside",
   "metadata": {
    "execution": {
     "iopub.execute_input": "2021-01-23T02:37:17.004268Z",
     "iopub.status.busy": "2021-01-23T02:37:17.004103Z",
     "iopub.status.idle": "2021-01-23T02:37:17.007014Z",
     "shell.execute_reply": "2021-01-23T02:37:17.006587Z",
     "shell.execute_reply.started": "2021-01-23T02:37:17.004250Z"
    }
   },
   "outputs": [
    {
     "name": "stdout",
     "output_type": "stream",
     "text": [
      "\n",
      "   Best Run \n",
      "--------------\n",
      "Epoch #:   30\n",
      "Accuracy:  61%\n"
     ]
    }
   ],
   "source": [
    "print('\\n   Best Run ')\n",
    "print('--------------')\n",
    "print(f'Epoch #:   {max(accd, key=accd.get)}\\nAccuracy:  {round(100*max(accd.values()))}%')"
   ]
  },
  {
   "cell_type": "markdown",
   "id": "right-shopper",
   "metadata": {},
   "source": [
    "<br>\n",
    "<br>"
   ]
  },
  {
   "cell_type": "markdown",
   "id": "cutting-cycling",
   "metadata": {},
   "source": [
    "####  Get the Inferrences on the Test Set with the highest score"
   ]
  },
  {
   "cell_type": "code",
   "execution_count": 11,
   "id": "knowing-produce",
   "metadata": {
    "execution": {
     "iopub.execute_input": "2021-01-23T02:42:30.055238Z",
     "iopub.status.busy": "2021-01-23T02:42:30.054979Z",
     "iopub.status.idle": "2021-01-23T02:42:37.820045Z",
     "shell.execute_reply": "2021-01-23T02:42:37.819463Z",
     "shell.execute_reply.started": "2021-01-23T02:42:30.055213Z"
    }
   },
   "outputs": [],
   "source": [
    "\n",
    "# test_learn = load_learner(f'../models/{RUN_NAME}.pkl', cpu=False)\n",
    "load_model(f'models/{RUN_NAME}_{max(accd, key=accd.get)}.pth', test_learn, opt=Adam, with_opt=False)\n",
    "\n",
    "\n",
    "\n",
    "test_db = DataBlock(\n",
    "    blocks=(ImageBlock, CategoryBlock), \n",
    "    get_items=get_test_fnames,\n",
    "    get_y=parent_label, \n",
    "    item_tfms=Resize(RESOLUTION, method='bilinear')) #,\n",
    "#     item_tfms=CropPad(RESOLUTION, pad_mode='zeros'))\n",
    "#    ,    batch_tfms=aug_transforms(do_flip=True, size=RESOLUTION, batch=False, max_zoom=1.0, mult=1, pad_mode='zeros'))\n",
    "\n",
    "\n",
    "dls = test_db.dataloaders(path, bs=BATCH_SIZE)\n",
    "\n",
    "test_dl = dls.test_dl(get_test_fnames(''), with_labels=True)\n",
    "\n",
    "with test_learn.no_bar():\n",
    "    inputs, preds, targs, decoded, losses = test_learn.get_preds(dl=test_dl, with_input=True, with_decoded=True, with_loss=True)"
   ]
  },
  {
   "cell_type": "code",
   "execution_count": 12,
   "id": "level-separation",
   "metadata": {
    "execution": {
     "iopub.execute_input": "2021-01-23T02:42:38.973591Z",
     "iopub.status.busy": "2021-01-23T02:42:38.973328Z",
     "iopub.status.idle": "2021-01-23T02:42:39.015872Z",
     "shell.execute_reply": "2021-01-23T02:42:39.015326Z",
     "shell.execute_reply.started": "2021-01-23T02:42:38.973564Z"
    }
   },
   "outputs": [],
   "source": [
    "interp = ClassificationInterpretation(dl=test_dl, inputs=inputs, preds=preds, targs=targs, decoded=decoded, losses=losses )"
   ]
  },
  {
   "cell_type": "code",
   "execution_count": null,
   "id": "stunning-kingston",
   "metadata": {},
   "outputs": [],
   "source": []
  },
  {
   "cell_type": "code",
   "execution_count": 13,
   "id": "surrounded-pricing",
   "metadata": {
    "execution": {
     "iopub.execute_input": "2021-01-23T02:42:40.209965Z",
     "iopub.status.busy": "2021-01-23T02:42:40.209685Z",
     "iopub.status.idle": "2021-01-23T02:42:41.633074Z",
     "shell.execute_reply": "2021-01-23T02:42:41.632483Z",
     "shell.execute_reply.started": "2021-01-23T02:42:40.209942Z"
    }
   },
   "outputs": [
    {
     "data": {
      "image/png": "[encoded data removed]",
      "text/plain": [
       "<Figure size 576x576 with 1 Axes>"
      ]
     },
     "metadata": {
      "needs_background": "light"
     },
     "output_type": "display_data"
    }
   ],
   "source": [
    "interp.plot_confusion_matrix(figsize=(8,8))"
   ]
  },
  {
   "cell_type": "code",
   "execution_count": 14,
   "id": "lucky-retirement",
   "metadata": {
    "execution": {
     "iopub.execute_input": "2021-01-23T02:42:41.945193Z",
     "iopub.status.busy": "2021-01-23T02:42:41.944934Z",
     "iopub.status.idle": "2021-01-23T02:42:41.951741Z",
     "shell.execute_reply": "2021-01-23T02:42:41.951188Z",
     "shell.execute_reply.started": "2021-01-23T02:42:41.945169Z"
    }
   },
   "outputs": [
    {
     "data": {
      "text/plain": [
       "[('M', 'N', 12),\n",
       " ('U', 'F', 12),\n",
       " ('D', 'B', 11),\n",
       " ('R', 'S', 11),\n",
       " ('X', 'N', 11),\n",
       " ('U', 'B', 10),\n",
       " ('X', 'L', 10),\n",
       " ('X', 'S', 10),\n",
       " ('I', 'B', 9),\n",
       " ('Q', 'X', 9)]"
      ]
     },
     "execution_count": 14,
     "metadata": {},
     "output_type": "execute_result"
    }
   ],
   "source": [
    "interp.most_confused()[:10]"
   ]
  },
  {
   "cell_type": "markdown",
   "id": "neural-vietnam",
   "metadata": {},
   "source": [
    "<br>\n",
    "<br>"
   ]
  },
  {
   "cell_type": "markdown",
   "id": "introductory-bernard",
   "metadata": {},
   "source": [
    "## Classification Report"
   ]
  },
  {
   "cell_type": "code",
   "execution_count": 15,
   "id": "equal-tract",
   "metadata": {
    "execution": {
     "iopub.execute_input": "2021-01-23T02:42:46.152395Z",
     "iopub.status.busy": "2021-01-23T02:42:46.152134Z",
     "iopub.status.idle": "2021-01-23T02:42:46.162453Z",
     "shell.execute_reply": "2021-01-23T02:42:46.161912Z",
     "shell.execute_reply.started": "2021-01-23T02:42:46.152371Z"
    }
   },
   "outputs": [
    {
     "name": "stdout",
     "output_type": "stream",
     "text": [
      "              precision    recall  f1-score   support\n",
      "\n",
      "           A       0.73      0.57      0.64        14\n",
      "           B       0.13      0.67      0.22        12\n",
      "           C       0.31      0.71      0.43         7\n",
      "           D       1.00      0.37      0.54        43\n",
      "           E       0.68      0.76      0.72        42\n",
      "           F       0.68      0.81      0.74        37\n",
      "           G       0.95      0.68      0.79        31\n",
      "           H       0.79      0.95      0.86        40\n",
      "           I       0.74      0.52      0.61        50\n",
      "           K       0.73      0.67      0.70        60\n",
      "           L       0.41      0.80      0.54        20\n",
      "           M       0.70      0.34      0.46        62\n",
      "           N       0.31      0.62      0.41        58\n",
      "           O       0.83      0.55      0.66        44\n",
      "           P       0.76      0.85      0.80        33\n",
      "           Q       0.65      0.45      0.54        33\n",
      "           R       0.63      0.37      0.47        46\n",
      "           S       0.46      0.77      0.57        62\n",
      "           T       0.81      0.72      0.76        54\n",
      "           U       0.73      0.49      0.59        67\n",
      "           V       0.55      0.67      0.60        42\n",
      "           W       0.94      0.62      0.75        24\n",
      "           X       0.78      0.45      0.57        93\n",
      "           Y       0.64      0.62      0.63        26\n",
      "\n",
      "    accuracy                           0.60      1000\n",
      "   macro avg       0.66      0.63      0.61      1000\n",
      "weighted avg       0.69      0.60      0.61      1000\n",
      "\n"
     ]
    }
   ],
   "source": [
    "interp.print_classification_report()"
   ]
  },
  {
   "cell_type": "code",
   "execution_count": null,
   "id": "certified-excellence",
   "metadata": {},
   "outputs": [],
   "source": []
  },
  {
   "cell_type": "code",
   "execution_count": null,
   "id": "sweet-expense",
   "metadata": {},
   "outputs": [],
   "source": []
  }
 ],
 "metadata": {
  "kernelspec": {
   "display_name": "Python 3",
   "language": "python",
   "name": "python3"
  },
  "language_info": {
   "codemirror_mode": {
    "name": "ipython",
    "version": 3
   },
   "file_extension": ".py",
   "mimetype": "text/x-python",
   "name": "python",
   "nbconvert_exporter": "python",
   "pygments_lexer": "ipython3",
   "version": "3.8.6"
  },
  "widgets": {
   "application/vnd.jupyter.widget-state+json": {
    "state": {},
    "version_major": 2,
    "version_minor": 0
   }
  }
 },
 "nbformat": 4,
 "nbformat_minor": 5
}
