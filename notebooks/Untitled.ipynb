{
 "cells": [
  {
   "cell_type": "code",
   "execution_count": 1,
   "id": "broadband-press",
   "metadata": {
    "execution": {
     "iopub.execute_input": "2021-01-24T23:15:27.457002Z",
     "iopub.status.busy": "2021-01-24T23:15:27.456804Z",
     "iopub.status.idle": "2021-01-24T23:15:28.528099Z",
     "shell.execute_reply": "2021-01-24T23:15:28.527678Z",
     "shell.execute_reply.started": "2021-01-24T23:15:27.456958Z"
    }
   },
   "outputs": [],
   "source": [
    "from datetime import datetime\n",
    "from fastbook import *\n",
    "from fastai.vision.all import *\n",
    "from fastai.vision.widgets import *\n",
    "import fastai"
   ]
  },
  {
   "cell_type": "code",
   "execution_count": 2,
   "id": "north-prisoner",
   "metadata": {
    "execution": {
     "iopub.execute_input": "2021-01-24T23:15:28.528815Z",
     "iopub.status.busy": "2021-01-24T23:15:28.528708Z",
     "iopub.status.idle": "2021-01-24T23:15:28.530629Z",
     "shell.execute_reply": "2021-01-24T23:15:28.530280Z",
     "shell.execute_reply.started": "2021-01-24T23:15:28.528805Z"
    }
   },
   "outputs": [],
   "source": [
    "# RUN_NAME = '20210121-0017 - arch=xresnet50_deep - samples=3000 frozen=0 epochs=12 bs=20 res=300 _data=external'\n",
    "# RUN_NAME = '20210116-2147 - arch=xresnet50 - samples=1000 frozen=3 epochs=3 bs=20 res=300 _data=external preuntrained percent=88'\n",
    "RUN_NAME = '20210123-2127 - arch=xresnet50_deep - samples=2000 frozen=1 epochs=22 bs=16 res=360 _data=external'\n"
   ]
  },
  {
   "cell_type": "code",
   "execution_count": 3,
   "id": "human-validation",
   "metadata": {
    "execution": {
     "iopub.execute_input": "2021-01-24T23:15:28.531140Z",
     "iopub.status.busy": "2021-01-24T23:15:28.531040Z",
     "iopub.status.idle": "2021-01-24T23:15:28.657556Z",
     "shell.execute_reply": "2021-01-24T23:15:28.657089Z",
     "shell.execute_reply.started": "2021-01-24T23:15:28.531130Z"
    }
   },
   "outputs": [],
   "source": [
    "learn_inf = load_learner(f'../models/{RUN_NAME}.pkl')\n",
    "# load_model(f'models/{RUN_NAME}_6.pth', learn_inf, opt=Adam)\n"
   ]
  },
  {
   "cell_type": "code",
   "execution_count": 4,
   "id": "touched-wholesale",
   "metadata": {
    "execution": {
     "iopub.execute_input": "2021-01-24T23:15:28.658316Z",
     "iopub.status.busy": "2021-01-24T23:15:28.658152Z",
     "iopub.status.idle": "2021-01-24T23:15:30.822898Z",
     "shell.execute_reply": "2021-01-24T23:15:30.822509Z",
     "shell.execute_reply.started": "2021-01-24T23:15:28.658300Z"
    }
   },
   "outputs": [
    {
     "data": {
      "text/html": [],
      "text/plain": [
       "<IPython.core.display.HTML object>"
      ]
     },
     "metadata": {},
     "output_type": "display_data"
    },
    {
     "name": "stdout",
     "output_type": "stream",
     "text": [
      "D\n"
     ]
    },
    {
     "data": {
      "text/html": [],
      "text/plain": [
       "<IPython.core.display.HTML object>"
      ]
     },
     "metadata": {},
     "output_type": "display_data"
    },
    {
     "name": "stdout",
     "output_type": "stream",
     "text": [
      "D\n"
     ]
    },
    {
     "data": {
      "text/html": [],
      "text/plain": [
       "<IPython.core.display.HTML object>"
      ]
     },
     "metadata": {},
     "output_type": "display_data"
    },
    {
     "name": "stdout",
     "output_type": "stream",
     "text": [
      "D\n"
     ]
    },
    {
     "data": {
      "text/html": [],
      "text/plain": [
       "<IPython.core.display.HTML object>"
      ]
     },
     "metadata": {},
     "output_type": "display_data"
    },
    {
     "name": "stdout",
     "output_type": "stream",
     "text": [
      "D\n"
     ]
    },
    {
     "data": {
      "text/html": [],
      "text/plain": [
       "<IPython.core.display.HTML object>"
      ]
     },
     "metadata": {},
     "output_type": "display_data"
    },
    {
     "name": "stdout",
     "output_type": "stream",
     "text": [
      "D\n"
     ]
    },
    {
     "data": {
      "text/html": [],
      "text/plain": [
       "<IPython.core.display.HTML object>"
      ]
     },
     "metadata": {},
     "output_type": "display_data"
    },
    {
     "name": "stdout",
     "output_type": "stream",
     "text": [
      "D\n"
     ]
    },
    {
     "data": {
      "text/html": [],
      "text/plain": [
       "<IPython.core.display.HTML object>"
      ]
     },
     "metadata": {},
     "output_type": "display_data"
    },
    {
     "name": "stdout",
     "output_type": "stream",
     "text": [
      "('U', tensor(19), tensor([1.2943e-01, 1.1872e-02, 1.0132e-01, 7.1323e-02, 4.3463e-03, 3.9437e-03, 1.5542e-03, 2.5708e-02, 2.4190e-02, 7.3358e-03, 1.6091e-01, 7.9240e-03, 1.8785e-03, 5.3074e-03, 5.9984e-04, 4.2282e-03,\n",
      "        7.0741e-03, 1.5865e-04, 5.6843e-03, 3.7614e-01, 5.3621e-03, 2.8433e-03, 2.0309e-03, 3.8827e-02]))\n"
     ]
    },
    {
     "data": {
      "text/html": [],
      "text/plain": [
       "<IPython.core.display.HTML object>"
      ]
     },
     "metadata": {},
     "output_type": "display_data"
    },
    {
     "name": "stdout",
     "output_type": "stream",
     "text": [
      "D\n"
     ]
    },
    {
     "data": {
      "text/html": [],
      "text/plain": [
       "<IPython.core.display.HTML object>"
      ]
     },
     "metadata": {},
     "output_type": "display_data"
    },
    {
     "name": "stdout",
     "output_type": "stream",
     "text": [
      "D\n"
     ]
    },
    {
     "data": {
      "text/html": [],
      "text/plain": [
       "<IPython.core.display.HTML object>"
      ]
     },
     "metadata": {},
     "output_type": "display_data"
    },
    {
     "name": "stdout",
     "output_type": "stream",
     "text": [
      "D\n"
     ]
    },
    {
     "data": {
      "text/html": [],
      "text/plain": [
       "<IPython.core.display.HTML object>"
      ]
     },
     "metadata": {},
     "output_type": "display_data"
    },
    {
     "name": "stdout",
     "output_type": "stream",
     "text": [
      "D\n"
     ]
    },
    {
     "data": {
      "text/html": [],
      "text/plain": [
       "<IPython.core.display.HTML object>"
      ]
     },
     "metadata": {},
     "output_type": "display_data"
    },
    {
     "name": "stdout",
     "output_type": "stream",
     "text": [
      "D\n"
     ]
    },
    {
     "data": {
      "text/html": [],
      "text/plain": [
       "<IPython.core.display.HTML object>"
      ]
     },
     "metadata": {},
     "output_type": "display_data"
    },
    {
     "name": "stdout",
     "output_type": "stream",
     "text": [
      "D\n"
     ]
    },
    {
     "data": {
      "text/html": [],
      "text/plain": [
       "<IPython.core.display.HTML object>"
      ]
     },
     "metadata": {},
     "output_type": "display_data"
    },
    {
     "name": "stdout",
     "output_type": "stream",
     "text": [
      "('U', tensor(19), tensor([1.2943e-01, 1.1872e-02, 1.0132e-01, 7.1323e-02, 4.3463e-03, 3.9437e-03, 1.5542e-03, 2.5708e-02, 2.4190e-02, 7.3358e-03, 1.6091e-01, 7.9240e-03, 1.8785e-03, 5.3074e-03, 5.9984e-04, 4.2282e-03,\n",
      "        7.0741e-03, 1.5865e-04, 5.6843e-03, 3.7614e-01, 5.3621e-03, 2.8433e-03, 2.0309e-03, 3.8827e-02]))\n"
     ]
    }
   ],
   "source": [
    "for i in range(2):\n",
    "#     load_model(f'models/{RUN_NAME}_{i}.pth', learn_inf, opt=Adam)\n",
    "    letter = 'D'\n",
    "    images = [PILImage.create(f'../data/frank/Training_Set/{letter}/1000.jpg'),    PILImage.create(f'../data/frank/Training_Set/{letter}/1008.jpg'),    PILImage.create(f'../data/frank/Training_Set/{letter}/1016.jpg'),    PILImage.create(f'../data/frank/Training_Set/{letter}/1024.jpg'),    PILImage.create(f'../data/frank/Training_Set/{letter}/1032.jpg'),    PILImage.create(f'../data/frank/Training_Set/{letter}/1040.jpg')]\n",
    "\n",
    "    for img in images:\n",
    "        print(learn_inf.predict(img)[0])\n",
    "        \n",
    "    image = PILImage.create('../data/20210121_132256.jpg')\n",
    "    print(learn_inf.predict(image))"
   ]
  },
  {
   "cell_type": "code",
   "execution_count": 5,
   "id": "noted-daisy",
   "metadata": {
    "execution": {
     "iopub.execute_input": "2021-01-24T23:15:30.823539Z",
     "iopub.status.busy": "2021-01-24T23:15:30.823414Z",
     "iopub.status.idle": "2021-01-24T23:15:30.979738Z",
     "shell.execute_reply": "2021-01-24T23:15:30.979174Z",
     "shell.execute_reply.started": "2021-01-24T23:15:30.823526Z"
    }
   },
   "outputs": [
    {
     "name": "stderr",
     "output_type": "stream",
     "text": [
      "/home/frank/miniconda3/envs/learn/lib/python3.8/site-packages/fastai/learner.py:55: UserWarning: Could not load the optimizer state.\n",
      "  if with_opt: warn(\"Could not load the optimizer state.\")\n"
     ]
    }
   ],
   "source": [
    "load_model(f'models/{RUN_NAME}_7.pth', learn_inf, opt=Adam)"
   ]
  },
  {
   "cell_type": "code",
   "execution_count": 6,
   "id": "functional-public",
   "metadata": {
    "execution": {
     "iopub.execute_input": "2021-01-24T23:15:30.980355Z",
     "iopub.status.busy": "2021-01-24T23:15:30.980245Z",
     "iopub.status.idle": "2021-01-24T23:15:31.752164Z",
     "shell.execute_reply": "2021-01-24T23:15:31.751858Z",
     "shell.execute_reply.started": "2021-01-24T23:15:30.980344Z"
    }
   },
   "outputs": [
    {
     "data": {
      "text/html": [],
      "text/plain": [
       "<IPython.core.display.HTML object>"
      ]
     },
     "metadata": {},
     "output_type": "display_data"
    },
    {
     "name": "stdout",
     "output_type": "stream",
     "text": [
      "D\n"
     ]
    },
    {
     "data": {
      "text/html": [],
      "text/plain": [
       "<IPython.core.display.HTML object>"
      ]
     },
     "metadata": {},
     "output_type": "display_data"
    },
    {
     "name": "stdout",
     "output_type": "stream",
     "text": [
      "D\n"
     ]
    },
    {
     "data": {
      "text/html": [],
      "text/plain": [
       "<IPython.core.display.HTML object>"
      ]
     },
     "metadata": {},
     "output_type": "display_data"
    },
    {
     "name": "stdout",
     "output_type": "stream",
     "text": [
      "D\n"
     ]
    },
    {
     "data": {
      "text/html": [],
      "text/plain": [
       "<IPython.core.display.HTML object>"
      ]
     },
     "metadata": {},
     "output_type": "display_data"
    },
    {
     "name": "stdout",
     "output_type": "stream",
     "text": [
      "D\n"
     ]
    },
    {
     "data": {
      "text/html": [],
      "text/plain": [
       "<IPython.core.display.HTML object>"
      ]
     },
     "metadata": {},
     "output_type": "display_data"
    },
    {
     "name": "stdout",
     "output_type": "stream",
     "text": [
      "U\n"
     ]
    },
    {
     "data": {
      "text/html": [],
      "text/plain": [
       "<IPython.core.display.HTML object>"
      ]
     },
     "metadata": {},
     "output_type": "display_data"
    },
    {
     "name": "stdout",
     "output_type": "stream",
     "text": [
      "U\n"
     ]
    }
   ],
   "source": [
    "# image = PILImage.create('../data/20210121_132256.jpg')\n",
    "letter = 'B'\n",
    "images = [PILImage.create(f'../data/frank/Training_Set/{letter}/1000.jpg'),    PILImage.create(f'../data/frank/Training_Set/{letter}/1008.jpg'),    PILImage.create(f'../data/frank/Training_Set/{letter}/1016.jpg'),    PILImage.create(f'../data/frank/Training_Set/{letter}/1024.jpg'),    PILImage.create(f'../data/frank/Training_Set/{letter}/1032.jpg'),    PILImage.create(f'../data/frank/Training_Set/{letter}/1040.jpg')]\n",
    "\n",
    "for img in images:\n",
    "    print(learn_inf.predict(img)[0])"
   ]
  },
  {
   "cell_type": "code",
   "execution_count": 7,
   "id": "taken-employment",
   "metadata": {
    "execution": {
     "iopub.execute_input": "2021-01-24T23:15:31.753109Z",
     "iopub.status.busy": "2021-01-24T23:15:31.752984Z",
     "iopub.status.idle": "2021-01-24T23:15:32.010309Z",
     "shell.execute_reply": "2021-01-24T23:15:32.009883Z",
     "shell.execute_reply.started": "2021-01-24T23:15:31.753096Z"
    }
   },
   "outputs": [
    {
     "data": {
      "text/html": [],
      "text/plain": [
       "<IPython.core.display.HTML object>"
      ]
     },
     "metadata": {},
     "output_type": "display_data"
    },
    {
     "name": "stdout",
     "output_type": "stream",
     "text": [
      "('Y', tensor(23), tensor([1.4807e-02, 8.9191e-04, 9.3886e-03, 6.1123e-03, 2.4896e-03, 6.0501e-03, 1.0599e-04, 4.1906e-03, 7.9810e-02, 5.7887e-03, 4.6698e-03, 5.1372e-04, 1.6868e-04, 6.8224e-05, 4.8267e-06, 1.0096e-04,\n",
      "        1.2104e-03, 5.6993e-06, 2.3995e-04, 1.0106e-01, 4.3045e-04, 5.8070e-03, 1.6277e-04, 7.5592e-01]))\n"
     ]
    }
   ],
   "source": [
    "image = PILImage.create('../data/20210121_132256.jpg')\n",
    "print(learn_inf.predict(image))"
   ]
  },
  {
   "cell_type": "code",
   "execution_count": null,
   "id": "dutch-syntax",
   "metadata": {},
   "outputs": [],
   "source": []
  }
 ],
 "metadata": {
  "kernelspec": {
   "display_name": "Python 3",
   "language": "python",
   "name": "python3"
  },
  "language_info": {
   "codemirror_mode": {
    "name": "ipython",
    "version": 3
   },
   "file_extension": ".py",
   "mimetype": "text/x-python",
   "name": "python",
   "nbconvert_exporter": "python",
   "pygments_lexer": "ipython3",
   "version": "3.8.6"
  },
  "widgets": {
   "application/vnd.jupyter.widget-state+json": {
    "state": {},
    "version_major": 2,
    "version_minor": 0
   }
  }
 },
 "nbformat": 4,
 "nbformat_minor": 5
}
