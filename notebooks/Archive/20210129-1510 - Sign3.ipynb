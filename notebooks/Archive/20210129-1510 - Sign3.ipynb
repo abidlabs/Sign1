{
 "cells": [
  {
   "cell_type": "markdown",
   "metadata": {},
   "source": [
    "# ASL Alphabet Classifier Test"
   ]
  },
  {
   "cell_type": "markdown",
   "metadata": {},
   "source": [
    "\n",
    "### The goal of this Sign2 variation is to experiment with using Mixup Regularization\n",
    "(See \"mixup: Beyond Empirical Risk Minimization\" - Hongyi Zhang, Moustapha Cisse, Yann N. Dauphin, David Lopez-Pazj, 2018;  https://arxiv.org/abs/1710.09412) \n",
    "\n",
    "<br>\n",
    "\n",
    "#### Datasource: \n",
    "<a href=\"https://www.kaggle.com/grassknoted/asl-alphabet\">https://www.kaggle.com/grassknoted/asl-alphabet</a>\n",
    "\n",
    "<br>\n",
    "\n",
    "This is a prototype, playing with FastAI using Resnet34 to classify American Sign Language alphabet.  It's basically Notebook #2 from the MOOC on a \"clean\" dataset.  We get great results ... but the data is really contrived.  It's highly likely the model will overfit, however it's a good test of the library.\n",
    "<br>\n",
    "<br>\n",
    "### Data Wrangling info\n",
    "The data has been reorganized to put sign images in labelled directories, making it easy to import and sort.\n",
    "We use 2 main data directories and concatenate them together.  the 2nd dataset consists of personally captured images, created using the same notebook that does inference.  We capture every frame of a video and automatically place them in the chosen directory.  The notebook will create the main directory and the label-directory if they don't exist.\n",
    "\n",
    "<img src=\"../docs/images/2021-01-13_00-57.png\"><br>"
   ]
  },
  {
   "cell_type": "markdown",
   "metadata": {},
   "source": [
    "<br>\n",
    "<br>\n",
    "<HR/>\n",
    "<br>\n",
    "<br>"
   ]
  },
  {
   "cell_type": "markdown",
   "metadata": {},
   "source": [
    "## Run Notes\n",
    "\n",
    "### SUPER PREPROCESSED\n",
    "\n",
    "* data: 800 external , 300 frank\n",
    "* augmentation True\n",
    "* ~~Label Smoothing~~  Cross-Entropy Loss\n",
    "* pretrained = false\n",
    "* CROP not bilinear\n"
   ]
  },
  {
   "cell_type": "code",
   "execution_count": 1,
   "metadata": {
    "execution": {
     "iopub.execute_input": "2021-01-29T23:10:33.528514Z",
     "iopub.status.busy": "2021-01-29T23:10:33.528276Z",
     "iopub.status.idle": "2021-01-29T23:10:34.931891Z",
     "shell.execute_reply": "2021-01-29T23:10:34.931483Z",
     "shell.execute_reply.started": "2021-01-29T23:10:33.528452Z"
    }
   },
   "outputs": [
    {
     "name": "stdout",
     "output_type": "stream",
     "text": [
      "RUN_NAME = '20210129-1510 - arch=xresnet50 - samples=620 frozen=1 epochs=20 bs=28 res=280 _data=combined2'\n",
      "env: WANDB_WATCH=false\n"
     ]
    }
   ],
   "source": [
    "from datetime import datetime\n",
    "from fastbook import *\n",
    "from fastai.vision.all import *\n",
    "from fastai.vision.widgets import *\n",
    "import fastai\n",
    "\n",
    "\n",
    "\n",
    "ARCH = xresnet50  # resnet101\n",
    "\n",
    "CHOSEN_SAMPLE_SIZE = 620  # use this to control per-category sample sizes # 1000\n",
    "TEST_SET_SIZE = round(CHOSEN_SAMPLE_SIZE * 0.2)  # number of images per category to put in the test set\n",
    "\n",
    "remove_from_sample = {\n",
    "        'A': 0.5,\n",
    "#     'B': 0.6,\n",
    "    'C': 0.2,\n",
    "#     'D': 0.3,\n",
    "    'E': 0.2,\n",
    "    'F': 0.2,\n",
    "    'H': 0.3,\n",
    "#     'L': 0.7,\n",
    "    'M': 0.3,\n",
    "#     'N': 0.9,\n",
    "#     'O': 0.2,\n",
    "#     'Q': 0.75,\n",
    "#     'R': 0.4,\n",
    "    'U': 0.2\n",
    "#     'Y': 0.8 \n",
    "\n",
    "}  # fractions of original samples to keep\n",
    "\n",
    "add_to_sample = {  # Use this minimally until we add NEW samples rather than oversampling.\n",
    "    'A': 0.2,\n",
    "    'B': 0.2,\n",
    "    'G': 0.1,\n",
    "    'I': 0.3,\n",
    "    'K': 0.2,\n",
    "    'N': 0.3,\n",
    "#     'O': 0.1,\n",
    "    'R': 0.3,\n",
    "    'S': 0.4,\n",
    "    'T': 0.4,\n",
    "    'V': 0.1,\n",
    "    'W': 0.1,\n",
    "    'Y': 0.2\n",
    "}\n",
    "\n",
    "FROZEN_EPOCHS = 1  # 1\n",
    "EPOCHS = 20  # 4\n",
    "BATCH_SIZE = 28  # 16\n",
    "RESOLUTION = 280  # 300\n",
    "\n",
    "PRETRAINED_FLAG = True\n",
    "\n",
    "data = 'combined2'\n",
    "rn_addon = f'_data={data}'\n",
    "time = datetime.today().strftime(\"%Y%m%d-%H%M\")\n",
    "\n",
    "RUN_NAME = f'{time} - arch={ARCH.__name__} - samples={CHOSEN_SAMPLE_SIZE} frozen={FROZEN_EPOCHS} epochs={EPOCHS} bs={BATCH_SIZE} res={RESOLUTION} {rn_addon}'\n",
    "print(f\"RUN_NAME = '{RUN_NAME}'\")\n",
    "\n",
    "\n",
    "# set this to None if training a new model from scratch\n",
    "PREV_TRAINED_MODEL_RUN_NAME = '20210129-0332 - arch=xresnet50 - samples=620 frozen=1 epochs=40 bs=28 res=280 _data=frank-proc2-L'\n",
    "PREV_TRAINED_MODEL_EPOCH = 27\n",
    "\n",
    "\n",
    "\n",
    "\n",
    "import matplotlib.pyplot as plt\n",
    "import matplotlib.ticker as ticker\n",
    "# %matplotlib inline\n",
    "%matplotlib widget\n",
    "plt.rcParams['figure.figsize'] = [10, 6]\n",
    "plt.rcParams['figure.dpi'] = 120\n",
    "plt.style.use('dark_background')\n",
    "\n",
    "%env WANDB_WATCH=false\n",
    "\n",
    "import wandb\n",
    "from fastai.callback.wandb import *\n",
    "\n",
    "wandb.init(project=\"asl-sign-language-recognition\", mode='disabled')\n",
    "wandb.run.name = RUN_NAME\n",
    "\n"
   ]
  },
  {
   "cell_type": "code",
   "execution_count": 2,
   "metadata": {
    "execution": {
     "iopub.execute_input": "2021-01-29T23:10:34.932780Z",
     "iopub.status.busy": "2021-01-29T23:10:34.932666Z",
     "iopub.status.idle": "2021-01-29T23:10:34.934798Z",
     "shell.execute_reply": "2021-01-29T23:10:34.934389Z",
     "shell.execute_reply.started": "2021-01-29T23:10:34.932769Z"
    }
   },
   "outputs": [],
   "source": [
    "# path = '../data/external/Training_Set'\n",
    "path = f'../data/{data}/Training_Set'\n",
    "# path2 = '../data/frank-ledlights-L'\n",
    "path2 = None"
   ]
  },
  {
   "cell_type": "markdown",
   "metadata": {},
   "source": [
    "<br>\n",
    "<br>"
   ]
  },
  {
   "cell_type": "markdown",
   "metadata": {},
   "source": [
    "## Check for an available GPU"
   ]
  },
  {
   "cell_type": "code",
   "execution_count": 3,
   "metadata": {
    "execution": {
     "iopub.execute_input": "2021-01-29T23:10:34.935435Z",
     "iopub.status.busy": "2021-01-29T23:10:34.935322Z",
     "iopub.status.idle": "2021-01-29T23:10:34.939760Z",
     "shell.execute_reply": "2021-01-29T23:10:34.939267Z",
     "shell.execute_reply.started": "2021-01-29T23:10:34.935425Z"
    }
   },
   "outputs": [
    {
     "name": "stdout",
     "output_type": "stream",
     "text": [
      "CUDA available:              True\n",
      "CUDA device count:           1\n",
      "Current CUDA Device index:   0\n",
      "Current CUDA Device:         GeForce RTX 2070 SUPER\n",
      "\n",
      "fastai version:              2.2.5\n",
      "cuda version:                11.0\n",
      "torch version:               1.7.0\n"
     ]
    }
   ],
   "source": [
    "import torch\n",
    "print('CUDA available: '.ljust(28), torch.cuda.is_available())\n",
    "print('CUDA device count: '.ljust(28), torch.cuda.device_count())\n",
    "\n",
    "current_device = torch.cuda.current_device()\n",
    "print('Current CUDA Device index: '.ljust(28), current_device)\n",
    "# torch.cuda.device(current_device)\n",
    "print('Current CUDA Device: '.ljust(28), torch.cuda.get_device_name(current_device))\n",
    "print()\n",
    "# print('CUDA available: '.ljust(24), torch.cuda.is_available())\n",
    "print(f'fastai version:              {fastai.__version__}')\n",
    "# print(f'fastcore version:            {fastcore.__version__}')\n",
    "# print(f'fastbook version:            {fastbook.__version__}')\n",
    "print(f'cuda version:                {torch.version.cuda}')\n",
    "print(f'torch version:               {torch.__version__}')\n",
    "# print(f'python version:              {python_version()}')"
   ]
  },
  {
   "cell_type": "markdown",
   "metadata": {},
   "source": [
    "<br>\n",
    "<br>"
   ]
  },
  {
   "cell_type": "markdown",
   "metadata": {},
   "source": [
    "### Check for Dataset Imbalance"
   ]
  },
  {
   "cell_type": "code",
   "execution_count": 4,
   "metadata": {
    "execution": {
     "iopub.execute_input": "2021-01-29T23:10:34.940619Z",
     "iopub.status.busy": "2021-01-29T23:10:34.940446Z",
     "iopub.status.idle": "2021-01-29T23:10:35.106361Z",
     "shell.execute_reply": "2021-01-29T23:10:35.106023Z",
     "shell.execute_reply.started": "2021-01-29T23:10:34.940603Z"
    }
   },
   "outputs": [
    {
     "name": "stdout",
     "output_type": "stream",
     "text": [
      "\n",
      "Character with the most images:   A,   with 1100 images\n",
      "Character with the least images:  A,   with 1100 images\n",
      "Average number of images:         1100\n"
     ]
    }
   ],
   "source": [
    "from string import ascii_uppercase\n",
    "import numpy as np\n",
    "import operator\n",
    "\n",
    "\n",
    "\n",
    "\n",
    "image_files = {}\n",
    "image_files_qty = {}\n",
    "\n",
    "# loop through all the characters to build dictionaries of image files and quartity of each category\n",
    "for c, i in zip(ascii_uppercase, np.arange(len(ascii_uppercase))):\n",
    "    image_files[c] = get_image_files(path + f'/{c}')\n",
    "    if path2 != None:\n",
    "        image_files[c] += get_image_files(path2 + f'/{c}')\n",
    "\n",
    "        \n",
    "    l = len(image_files[c])\n",
    "    image_files_qty[c] = l\n",
    "    \n",
    "# custom code since we don't use 'Z'\n",
    "image_files.pop('J')\n",
    "image_files_qty.pop('J')\n",
    "image_files.pop('Z')\n",
    "image_files_qty.pop('Z')\n",
    "\n",
    "# Get the character with the largest and smallest number of entries\n",
    "maxqc = max(image_files_qty, key=image_files_qty.get)\n",
    "minqc = min(image_files_qty, key=image_files_qty.get)\n",
    "\n",
    "\n",
    "print()\n",
    "print(f'Character with the most images:   {maxqc},   with {image_files_qty[maxqc]} images')\n",
    "print(f'Character with the least images:  {minqc},   with {image_files_qty[minqc]} images')\n",
    "print(f'Average number of images:         {round(np.mean(list(image_files_qty.values())))}')\n",
    "\n"
   ]
  },
  {
   "cell_type": "markdown",
   "metadata": {},
   "source": [
    "<br>\n",
    "<br>"
   ]
  },
  {
   "cell_type": "markdown",
   "metadata": {},
   "source": [
    "<br>\n",
    "<br>"
   ]
  },
  {
   "cell_type": "markdown",
   "metadata": {},
   "source": [
    "# Data Preparation and EDA"
   ]
  },
  {
   "cell_type": "markdown",
   "metadata": {},
   "source": [
    "## Display the number of image files for each category"
   ]
  },
  {
   "cell_type": "code",
   "execution_count": 5,
   "metadata": {
    "execution": {
     "iopub.execute_input": "2021-01-29T23:10:35.106914Z",
     "iopub.status.busy": "2021-01-29T23:10:35.106814Z",
     "iopub.status.idle": "2021-01-29T23:10:35.133358Z",
     "shell.execute_reply": "2021-01-29T23:10:35.133041Z",
     "shell.execute_reply.started": "2021-01-29T23:10:35.106903Z"
    }
   },
   "outputs": [
    {
     "data": {
      "application/vnd.jupyter.widget-view+json": {
       "model_id": "aa10375846134c0db158125550f5dff9",
       "version_major": 2,
       "version_minor": 0
      },
      "text/plain": [
       "Canvas(toolbar=Toolbar(toolitems=[('Home', 'Reset original view', 'home', 'home'), ('Back', 'Back to previous …"
      ]
     },
     "metadata": {},
     "output_type": "display_data"
    }
   ],
   "source": [
    "# plt.hist(image_files_qty.items)\n",
    "plt.figure(figsize=(6,3))\n",
    "plt.bar(image_files_qty.keys(), image_files_qty.values())\n",
    "plt.axhline(CHOSEN_SAMPLE_SIZE, ls='--', color='r', label='Per-Category Sample Size')\n",
    "plt.xlabel('Hand Sign Categories')\n",
    "plt.ylabel('Sample Size')\n",
    "plt.legend();"
   ]
  },
  {
   "cell_type": "markdown",
   "metadata": {},
   "source": [
    "<br>\n",
    "<br>"
   ]
  },
  {
   "cell_type": "markdown",
   "metadata": {},
   "source": [
    "### Balance the Dataset with Oversampling or Undersampling\n",
    "\n",
    "Sampled size is modulated by variable `CHOSEN_SAMPLE_SIZE` and will oversample or undersample (or both) depending on the amount of data available vs the chosen sample size"
   ]
  },
  {
   "cell_type": "code",
   "execution_count": 6,
   "metadata": {
    "execution": {
     "iopub.execute_input": "2021-01-29T23:10:35.133861Z",
     "iopub.status.busy": "2021-01-29T23:10:35.133762Z",
     "iopub.status.idle": "2021-01-29T23:10:35.158836Z",
     "shell.execute_reply": "2021-01-29T23:10:35.158507Z",
     "shell.execute_reply.started": "2021-01-29T23:10:35.133850Z"
    }
   },
   "outputs": [],
   "source": [
    "import pandas as pd\n",
    "\n",
    "maxq = image_files_qty[maxqc] # the quantity of the largest category\n",
    "minq = image_files_qty[minqc] # the quantity of the smallest category\n",
    "\n",
    "# all_image_files = pd.DataFrame(columns=[0])  # holds all the image files in one dataframe\n",
    "train_image_files = {}\n",
    "test_image_files = pd.DataFrame()\n",
    "\n",
    "for char, q in iter(image_files_qty.items()):\n",
    "    df = pd.DataFrame(data=list(image_files[char]), columns=[0])  # create a dataframe from each list\n",
    "    \n",
    "\n",
    "    # undersample or over sample as needed\n",
    "    if len(df) >= CHOSEN_SAMPLE_SIZE:\n",
    "        df = df.sample(CHOSEN_SAMPLE_SIZE, replace=False)  # undersample\n",
    "    else:\n",
    "        delta = CHOSEN_SAMPLE_SIZE - len(df)\n",
    "        df = pd.concat([df, df.sample(delta, replace=(delta > len(df)))], ignore_index=True)  # oversample\n",
    "        \n",
    "    # siphon off the test set\n",
    "    _tif = df[0].sample(TEST_SET_SIZE, replace=False)\n",
    "    test_image_files[char] = _tif.reset_index(drop=True)\n",
    "    \n",
    "    # form  the training set\n",
    "    train_image_files[char] = df[0].drop(_tif.index)\n",
    "       \n",
    "test_image_files = test_image_files.sample(frac=1)  # shuffle - training set is shuffled later"
   ]
  },
  {
   "cell_type": "markdown",
   "metadata": {},
   "source": [
    "<br>\n",
    "<br>"
   ]
  },
  {
   "cell_type": "markdown",
   "metadata": {},
   "source": [
    "### Ensure the Dataset is Balanced"
   ]
  },
  {
   "cell_type": "code",
   "execution_count": 7,
   "metadata": {
    "execution": {
     "iopub.execute_input": "2021-01-29T23:10:35.159395Z",
     "iopub.status.busy": "2021-01-29T23:10:35.159293Z",
     "iopub.status.idle": "2021-01-29T23:10:35.185144Z",
     "shell.execute_reply": "2021-01-29T23:10:35.184828Z",
     "shell.execute_reply.started": "2021-01-29T23:10:35.159384Z"
    }
   },
   "outputs": [
    {
     "data": {
      "application/vnd.jupyter.widget-view+json": {
       "model_id": "4b8251a841704843838812e95343f456",
       "version_major": 2,
       "version_minor": 0
      },
      "text/plain": [
       "Canvas(toolbar=Toolbar(toolitems=[('Home', 'Reset original view', 'home', 'home'), ('Back', 'Back to previous …"
      ]
     },
     "metadata": {},
     "output_type": "display_data"
    }
   ],
   "source": [
    "plt.figure(figsize=(6,3))\n",
    "plt.bar(train_image_files.keys(), [len(l) for l in train_image_files.values()])\n",
    "# plt.ylim(0, CHOSEN_SAMPLE_SIZE)\n",
    "plt.axhline(CHOSEN_SAMPLE_SIZE, ls='--', color='r', label='Original Sample Size')\n",
    "plt.xlabel('Hand Sign Categories')\n",
    "plt.ylabel('Sample Size of Training Set')\n",
    "plt.legend();"
   ]
  },
  {
   "cell_type": "markdown",
   "metadata": {},
   "source": [
    "<br>\n",
    "<br>"
   ]
  },
  {
   "cell_type": "markdown",
   "metadata": {},
   "source": [
    "### Check the  Test Set"
   ]
  },
  {
   "cell_type": "code",
   "execution_count": 8,
   "metadata": {
    "execution": {
     "iopub.execute_input": "2021-01-29T23:10:35.186198Z",
     "iopub.status.busy": "2021-01-29T23:10:35.186089Z",
     "iopub.status.idle": "2021-01-29T23:10:35.217351Z",
     "shell.execute_reply": "2021-01-29T23:10:35.217016Z",
     "shell.execute_reply.started": "2021-01-29T23:10:35.186187Z"
    }
   },
   "outputs": [
    {
     "data": {
      "application/vnd.jupyter.widget-view+json": {
       "model_id": "38c955f03ca84d69adbf7afac2e88fa3",
       "version_major": 2,
       "version_minor": 0
      },
      "text/plain": [
       "Canvas(toolbar=Toolbar(toolitems=[('Home', 'Reset original view', 'home', 'home'), ('Back', 'Back to previous …"
      ]
     },
     "metadata": {},
     "output_type": "display_data"
    }
   ],
   "source": [
    "fig, ax = plt.subplots(figsize=(6,3))\n",
    "ax.bar(test_image_files.count().index, test_image_files.count() / CHOSEN_SAMPLE_SIZE * 100)\n",
    "ax.axhline(100, ls='--', color='r', label='Original Sample')\n",
    "plt.xlabel('Hand Sign Categories')\n",
    "plt.ylabel('Test Sample (%)')\n",
    "formatter = ticker.PercentFormatter()\n",
    "ax.yaxis.set_major_formatter(formatter)\n",
    "plt.legend(loc=(0.5,0.75));"
   ]
  },
  {
   "cell_type": "markdown",
   "metadata": {},
   "source": [
    "<br>\n",
    "<br>"
   ]
  },
  {
   "cell_type": "markdown",
   "metadata": {},
   "source": [
    "### Deliberately Adjust the Sample Size of Certain Categories to Fine Tune the Model\n",
    "Because the data is so easy to overfit and because we see certain categories fitting faster/stronger than others - causing the model to always select those categories... we try to balance that effect by decreasing the number of samples. "
   ]
  },
  {
   "cell_type": "code",
   "execution_count": 9,
   "metadata": {
    "execution": {
     "iopub.execute_input": "2021-01-29T23:10:35.218121Z",
     "iopub.status.busy": "2021-01-29T23:10:35.218018Z",
     "iopub.status.idle": "2021-01-29T23:10:35.224056Z",
     "shell.execute_reply": "2021-01-29T23:10:35.223725Z",
     "shell.execute_reply.started": "2021-01-29T23:10:35.218111Z"
    }
   },
   "outputs": [],
   "source": [
    "for key in remove_from_sample:\n",
    "    train_image_files[key] = train_image_files[key].sample(frac=(1 - remove_from_sample[key]))\n",
    "    \n",
    "## @TODO: sample outside the training set rather than oversampling.\n",
    "for key in add_to_sample:\n",
    "    train_image_files[key] = pd.concat([train_image_files[key],pd.Series(train_image_files[key]).sample(frac=add_to_sample[key])])"
   ]
  },
  {
   "cell_type": "markdown",
   "metadata": {},
   "source": [
    "<br>\n",
    "<br>"
   ]
  },
  {
   "cell_type": "markdown",
   "metadata": {},
   "source": [
    "### Check that the Training Dataset has been Appropriately Altered"
   ]
  },
  {
   "cell_type": "code",
   "execution_count": 10,
   "metadata": {
    "execution": {
     "iopub.execute_input": "2021-01-29T23:10:35.224557Z",
     "iopub.status.busy": "2021-01-29T23:10:35.224458Z",
     "iopub.status.idle": "2021-01-29T23:10:35.250006Z",
     "shell.execute_reply": "2021-01-29T23:10:35.249657Z",
     "shell.execute_reply.started": "2021-01-29T23:10:35.224546Z"
    }
   },
   "outputs": [
    {
     "data": {
      "application/vnd.jupyter.widget-view+json": {
       "model_id": "fa3c58c20b5645e4a0a56ee2d82c0291",
       "version_major": 2,
       "version_minor": 0
      },
      "text/plain": [
       "Canvas(toolbar=Toolbar(toolitems=[('Home', 'Reset original view', 'home', 'home'), ('Back', 'Back to previous …"
      ]
     },
     "metadata": {},
     "output_type": "display_data"
    }
   ],
   "source": [
    "if remove_from_sample != {}:\n",
    "    fig, ax = plt.subplots(figsize=(6,3))\n",
    "    plt.bar(train_image_files.keys(), [len(l) for l in train_image_files.values()])\n",
    "    plt.xlabel('Hand Sign Categories')\n",
    "    plt.ylabel('Sample Size')\n",
    "    plt.show()\n",
    "    \n",
    "else:\n",
    "    print('\\nNo dataset alterations were selected.')"
   ]
  },
  {
   "cell_type": "markdown",
   "metadata": {},
   "source": [
    "<br>\n",
    "<hr/>\n",
    "<br>\n",
    "<br>\n",
    "<br>\n",
    "\n",
    "## Model Creation and Training\n",
    "\n",
    "<br>"
   ]
  },
  {
   "cell_type": "markdown",
   "metadata": {},
   "source": [
    "<br>\n",
    "\n",
    "### Create the DataBlock, while Resizing and Augmenting"
   ]
  },
  {
   "cell_type": "code",
   "execution_count": 11,
   "metadata": {
    "execution": {
     "iopub.execute_input": "2021-01-29T23:10:35.250568Z",
     "iopub.status.busy": "2021-01-29T23:10:35.250467Z",
     "iopub.status.idle": "2021-01-29T23:10:35.255728Z",
     "shell.execute_reply": "2021-01-29T23:10:35.255410Z",
     "shell.execute_reply.started": "2021-01-29T23:10:35.250558Z"
    }
   },
   "outputs": [],
   "source": [
    "import random\n",
    "\n",
    "# Needed to pass into the DataBlock    \n",
    "def get_fnames(path): \n",
    "    retlist = []\n",
    "\n",
    "    for arr in train_image_files.values():\n",
    "        for f in arr:\n",
    "            retlist.append(f)\n",
    "        \n",
    "    return random.sample(retlist, len(retlist))\n",
    "        \n",
    "\n",
    "    \n",
    "    \n",
    "    \n",
    "signs = DataBlock(\n",
    "    blocks=(ImageBlock, CategoryBlock), \n",
    "    get_items=get_fnames, \n",
    "    splitter=RandomSplitter(valid_pct=0.25, seed=42),\n",
    "    get_y=parent_label,\n",
    "    item_tfms=Resize(RESOLUTION, method='bilinear') #,\n",
    "\n",
    "#     item_tfms=CropPad(RESOLUTION, pad_mode='zeros')\n",
    "  ,    batch_tfms=aug_transforms(do_flip=True, size=RESOLUTION, batch=False, max_zoom=1.2, mult=1.3, pad_mode='zeros'))\n"
   ]
  },
  {
   "cell_type": "markdown",
   "metadata": {},
   "source": [
    "<br>\n",
    "<br>"
   ]
  },
  {
   "cell_type": "markdown",
   "metadata": {},
   "source": [
    "<br>\n",
    "\n",
    "### Load the Data by Path"
   ]
  },
  {
   "cell_type": "code",
   "execution_count": 12,
   "metadata": {
    "execution": {
     "iopub.execute_input": "2021-01-29T23:10:35.256286Z",
     "iopub.status.busy": "2021-01-29T23:10:35.256150Z",
     "iopub.status.idle": "2021-01-29T23:10:37.249724Z",
     "shell.execute_reply": "2021-01-29T23:10:37.249151Z",
     "shell.execute_reply.started": "2021-01-29T23:10:35.256275Z"
    }
   },
   "outputs": [],
   "source": [
    "dls = signs.dataloaders(path, bs=BATCH_SIZE)\n",
    "# wandb.log({'dataset':'../data/external/Training Set'})"
   ]
  },
  {
   "cell_type": "markdown",
   "metadata": {},
   "source": [
    "<br>\n",
    "\n",
    "### Verify the Training and Validation Batches"
   ]
  },
  {
   "cell_type": "code",
   "execution_count": 13,
   "metadata": {
    "execution": {
     "iopub.execute_input": "2021-01-29T23:10:37.250752Z",
     "iopub.status.busy": "2021-01-29T23:10:37.250543Z",
     "iopub.status.idle": "2021-01-29T23:10:37.444717Z",
     "shell.execute_reply": "2021-01-29T23:10:37.444358Z",
     "shell.execute_reply.started": "2021-01-29T23:10:37.250730Z"
    }
   },
   "outputs": [
    {
     "data": {
      "application/vnd.jupyter.widget-view+json": {
       "model_id": "85e889e078384485b26eecd5ccf7245d",
       "version_major": 2,
       "version_minor": 0
      },
      "text/plain": [
       "Canvas(toolbar=Toolbar(toolitems=[('Home', 'Reset original view', 'home', 'home'), ('Back', 'Back to previous …"
      ]
     },
     "metadata": {},
     "output_type": "display_data"
    }
   ],
   "source": [
    "dls.train.show_batch(max_n=9)"
   ]
  },
  {
   "cell_type": "markdown",
   "metadata": {},
   "source": [
    "<br>\n",
    "<br>"
   ]
  },
  {
   "cell_type": "markdown",
   "metadata": {
    "execution": {
     "iopub.execute_input": "2020-09-26T12:47:39.994667Z",
     "iopub.status.busy": "2020-09-26T12:47:39.994388Z",
     "iopub.status.idle": "2020-09-26T12:47:39.999492Z",
     "shell.execute_reply": "2020-09-26T12:47:39.998668Z",
     "shell.execute_reply.started": "2020-09-26T12:47:39.994592Z"
    }
   },
   "source": [
    "<br>\n",
    "<br>\n",
    "<br>\n",
    "\n",
    "## Create Callbacks"
   ]
  },
  {
   "cell_type": "code",
   "execution_count": 14,
   "metadata": {
    "execution": {
     "iopub.execute_input": "2021-01-29T23:10:37.445333Z",
     "iopub.status.busy": "2021-01-29T23:10:37.445223Z",
     "iopub.status.idle": "2021-01-29T23:10:37.449814Z",
     "shell.execute_reply": "2021-01-29T23:10:37.449544Z",
     "shell.execute_reply.started": "2021-01-29T23:10:37.445321Z"
    }
   },
   "outputs": [
    {
     "name": "stdout",
     "output_type": "stream",
     "text": [
      "\n",
      "All Callbacks:  [ShowGraphCallback, SaveModelCallback, EarlyStoppingCallback]\n"
     ]
    }
   ],
   "source": [
    "# Eary stopping callback\n",
    "early_stop_cb = EarlyStoppingCallback(monitor='error_rate', min_delta=0.0001, patience=4)\n",
    "\n",
    "# Save the current model's weights every epoch\n",
    "save_cb = SaveModelCallback(fname=RUN_NAME, every_epoch=True, with_opt=True)\n",
    "\n",
    "# Wandb Callback for logging\n",
    "wandb_cb = WandbCallback(log='all', log_dataset=False)  #, log_dataset=True)\n",
    "\n",
    "# Mixup callback for regularization\n",
    "# mixup_cb = MixUp(alpha=0.2)\n",
    "mixup_cb = None\n",
    "\n",
    "# Cutmix callback for regularization\n",
    "#cutmix_cb = CutMix(alpha=0.4)\n",
    "cutmix_cb = None\n",
    "\n",
    "\n",
    "# List of callbacks to be used later\n",
    "cbs = [ShowGraphCallback(), save_cb, early_stop_cb]\n",
    "\n",
    "if mixup_cb != None:\n",
    "    cbs.insert(0, mixup_cb)\n",
    "    \n",
    "if cutmix_cb != None:\n",
    "    cbs.insert(0, cutmix_cb)\n",
    "\n",
    "print('\\nAll Callbacks: ', cbs)"
   ]
  },
  {
   "cell_type": "markdown",
   "metadata": {},
   "source": [
    "<br>\n",
    "<br>"
   ]
  },
  {
   "cell_type": "markdown",
   "metadata": {},
   "source": [
    "### Visualize the effect of CutMix\n"
   ]
  },
  {
   "cell_type": "code",
   "execution_count": 15,
   "metadata": {
    "execution": {
     "iopub.execute_input": "2021-01-29T23:10:37.450319Z",
     "iopub.status.busy": "2021-01-29T23:10:37.450213Z",
     "iopub.status.idle": "2021-01-29T23:10:37.453951Z",
     "shell.execute_reply": "2021-01-29T23:10:37.453606Z",
     "shell.execute_reply.started": "2021-01-29T23:10:37.450309Z"
    }
   },
   "outputs": [
    {
     "name": "stdout",
     "output_type": "stream",
     "text": [
      "\n",
      " CutMix was not selected.\n"
     ]
    }
   ],
   "source": [
    "if cutmix_cb != None:\n",
    "    with Learner(dls, nn.Linear(3,4), loss_func=CrossEntropyLossFlat(), cbs=cutmix_cb) as learn:\n",
    "        learn.epoch,learn.training = 0,True\n",
    "        learn.dl = dls.train\n",
    "        b = dls.one_batch()\n",
    "        learn._split(b)\n",
    "        learn('before_batch')\n",
    "\n",
    "    _,axs = plt.subplots(3,3, figsize=(9,9))\n",
    "    dls.show_batch(b=(cutmix_cb.x,cutmix_cb.y), ctxs=axs.flatten())\n",
    "    \n",
    "else: print('\\n CutMix was not selected.')"
   ]
  },
  {
   "cell_type": "markdown",
   "metadata": {},
   "source": [
    "<br>\n",
    "\n",
    "### Visualize the Effect of MixUp\n",
    "\n",
    "MixUp creates a linear interpolation between the target data and another datapoint.  In images, it shows up as ghostly figures.  The technique has been shown to be a good to decrease the liklihood of overfitting."
   ]
  },
  {
   "cell_type": "code",
   "execution_count": 16,
   "metadata": {
    "execution": {
     "iopub.execute_input": "2021-01-29T23:10:37.454558Z",
     "iopub.status.busy": "2021-01-29T23:10:37.454397Z",
     "iopub.status.idle": "2021-01-29T23:10:37.458364Z",
     "shell.execute_reply": "2021-01-29T23:10:37.457962Z",
     "shell.execute_reply.started": "2021-01-29T23:10:37.454546Z"
    }
   },
   "outputs": [
    {
     "name": "stdout",
     "output_type": "stream",
     "text": [
      "\n",
      " MixUp was not selected.\n"
     ]
    }
   ],
   "source": [
    "if mixup_cb != None:\n",
    "    with Learner(dls, nn.Linear(3,4), loss_func=CrossEntropyLossFlat(), cbs=mixup_cb) as learn:\n",
    "        learn.epoch,learn.training = 0,True\n",
    "        learn.dl = dls.train\n",
    "        b = dls.one_batch()\n",
    "        learn._split(b)\n",
    "        learn('before_batch')\n",
    "\n",
    "    _,axs = plt.subplots(3,3, figsize=(9,9))\n",
    "    dls.show_batch(b=(mixup_cb.x,mixup_cb.y), ctxs=axs.flatten())\n",
    "\n",
    "else: print('\\n MixUp was not selected.')"
   ]
  },
  {
   "cell_type": "markdown",
   "metadata": {},
   "source": [
    "<br>\n",
    "<br>"
   ]
  },
  {
   "cell_type": "markdown",
   "metadata": {},
   "source": [
    "<br>\n",
    "<br>"
   ]
  },
  {
   "cell_type": "markdown",
   "metadata": {},
   "source": [
    "# Model Creation"
   ]
  },
  {
   "cell_type": "markdown",
   "metadata": {},
   "source": [
    "## Define the model and fit"
   ]
  },
  {
   "cell_type": "code",
   "execution_count": 17,
   "metadata": {
    "execution": {
     "iopub.execute_input": "2021-01-29T23:10:37.459190Z",
     "iopub.status.busy": "2021-01-29T23:10:37.459008Z",
     "iopub.status.idle": "2021-01-29T23:10:38.048633Z",
     "shell.execute_reply": "2021-01-29T23:10:38.048334Z",
     "shell.execute_reply.started": "2021-01-29T23:10:37.459172Z"
    }
   },
   "outputs": [],
   "source": [
    "# wandb.log()\n",
    "\n",
    "# learn = cnn_learner(dls, arch=ARCH, metrics=[error_rate, accuracy], cbs=cbs, loss_func=LabelSmoothingCrossEntropy(), pretrained=PRETRAINED_FLAG)\n",
    "learn = cnn_learner(dls, arch=ARCH, metrics=[error_rate, accuracy], cbs=cbs, pretrained=PRETRAINED_FLAG)\n",
    "\n",
    "if PREV_TRAINED_MODEL_RUN_NAME != None:\n",
    "#     learn = load_learner(f'../models/{PREV_TRAINED_MODEL_RUN_NAME}.pkl', cpu=False)\n",
    "    load_model(f'models/{PREV_TRAINED_MODEL_RUN_NAME}_{PREV_TRAINED_MODEL_EPOCH}.pth', learn, opt=Adam, with_opt=False)\n",
    "    \n"
   ]
  },
  {
   "cell_type": "code",
   "execution_count": 18,
   "metadata": {
    "execution": {
     "iopub.execute_input": "2021-01-29T23:10:38.049198Z",
     "iopub.status.busy": "2021-01-29T23:10:38.049088Z",
     "iopub.status.idle": "2021-01-29T23:10:38.051366Z",
     "shell.execute_reply": "2021-01-29T23:10:38.051105Z",
     "shell.execute_reply.started": "2021-01-29T23:10:38.049187Z"
    }
   },
   "outputs": [],
   "source": [
    "# learn = load_learner('../models/20210116-2147 - arch=xresnet50 - samples=1000 frozen=3 epochs=3 bs=20 res=300 _data=external preuntrained percent=88.pkl')\n",
    "# learn.load('20210116-2343 - arch=xresnet50 - samples=480 frozen=1 epochs=1 bs=20 res=300 _data=external_0')\n",
    "# learn.cbs = L()\n",
    "# learn.add_cbs(cbs)\n",
    "# learn.parameters\n",
    "# learn = learn.load('20210125-0016 - arch=xresnet50 - samples=800 frozen=1 epochs=20 bs=16 res=360 _data=combined1_9')"
   ]
  },
  {
   "cell_type": "markdown",
   "metadata": {},
   "source": [
    "<br>\n",
    "<br>"
   ]
  },
  {
   "cell_type": "markdown",
   "metadata": {},
   "source": [
    "### Look at the Loss Function, Optimization Function and Model Architecture"
   ]
  },
  {
   "cell_type": "code",
   "execution_count": 19,
   "metadata": {
    "execution": {
     "iopub.execute_input": "2021-01-29T23:10:38.051878Z",
     "iopub.status.busy": "2021-01-29T23:10:38.051773Z",
     "iopub.status.idle": "2021-01-29T23:10:38.059478Z",
     "shell.execute_reply": "2021-01-29T23:10:38.059098Z",
     "shell.execute_reply.started": "2021-01-29T23:10:38.051867Z"
    }
   },
   "outputs": [
    {
     "name": "stdout",
     "output_type": "stream",
     "text": [
      "\n",
      "Loss Function:  FlattenedLoss of CrossEntropyLoss()\n",
      "\n",
      "Optimization Function:  <function Adam at 0x7f30fcf79430>\n"
     ]
    }
   ],
   "source": [
    "print('\\nLoss Function: ', learn.loss_func)\n",
    "print('\\nOptimization Function: ', learn.opt_func)\n",
    "# print('\\n\\n', learn.model)"
   ]
  },
  {
   "cell_type": "markdown",
   "metadata": {},
   "source": [
    "<br>\n",
    "<br>\n",
    "<br>\n",
    "\n",
    "## Find a Good Learning Rate to Start With"
   ]
  },
  {
   "cell_type": "code",
   "execution_count": 20,
   "metadata": {
    "execution": {
     "iopub.execute_input": "2021-01-29T23:10:38.060228Z",
     "iopub.status.busy": "2021-01-29T23:10:38.060056Z",
     "iopub.status.idle": "2021-01-29T23:10:38.063852Z",
     "shell.execute_reply": "2021-01-29T23:10:38.063332Z",
     "shell.execute_reply.started": "2021-01-29T23:10:38.060211Z"
    }
   },
   "outputs": [],
   "source": [
    "LR_DIV = 14e0  # Shift the lr_min left by this amount.  Adjust as necessary\n",
    "lr_min = 0.002  # just a default"
   ]
  },
  {
   "cell_type": "code",
   "execution_count": 24,
   "metadata": {
    "execution": {
     "iopub.execute_input": "2021-01-29T23:11:22.511415Z",
     "iopub.status.busy": "2021-01-29T23:11:22.511151Z",
     "iopub.status.idle": "2021-01-29T23:11:52.250825Z",
     "shell.execute_reply": "2021-01-29T23:11:52.250480Z",
     "shell.execute_reply.started": "2021-01-29T23:11:22.511391Z"
    }
   },
   "outputs": [
    {
     "data": {
      "text/html": [],
      "text/plain": [
       "<IPython.core.display.HTML object>"
      ]
     },
     "metadata": {},
     "output_type": "display_data"
    },
    {
     "data": {
      "application/vnd.jupyter.widget-view+json": {
       "model_id": "483864921273481aa041b3a7fe0a108a",
       "version_major": 2,
       "version_minor": 0
      },
      "text/plain": [
       "Canvas(toolbar=Toolbar(toolitems=[('Home', 'Reset original view', 'home', 'home'), ('Back', 'Back to previous …"
      ]
     },
     "metadata": {},
     "output_type": "display_data"
    },
    {
     "name": "stdout",
     "output_type": "stream",
     "text": [
      "Minimum/10: 6.92e-03, steepest point: 1.32e-06, (Mim/10)/14.0: 0.0004941649734973907\n"
     ]
    }
   ],
   "source": [
    "if PRETRAINED_FLAG == True:\n",
    "    learn.freeze()\n",
    "    lr_min,lr_steep = learn.lr_find()\n",
    "    plt.axvline(lr_min, ls='--', color='red', label=f'lr_min={round(lr_min,6)}')\n",
    "    plt.axvline(lr_min/LR_DIV, ls='--', color='yellow', label=f'lr_min / {LR_DIV}={round(lr_min/LR_DIV,6)}')\n",
    "    plt.axvline(lr_steep, ls='--', color='grey', label=f'lr_steep={round(lr_steep,6)}')\n",
    "    plt.legend()\n",
    "    plt.show()\n",
    "\n",
    "    print(f\"Minimum/10: {lr_min:.2e}, steepest point: {lr_steep:.2e}, (Mim/10)/{LR_DIV}: {lr_min/LR_DIV}\")"
   ]
  },
  {
   "cell_type": "markdown",
   "metadata": {},
   "source": [
    "<br>\n",
    "<br>"
   ]
  },
  {
   "cell_type": "markdown",
   "metadata": {},
   "source": [
    "# Pick a Good Initial Learning Rate"
   ]
  },
  {
   "cell_type": "code",
   "execution_count": 25,
   "metadata": {
    "execution": {
     "iopub.execute_input": "2021-01-29T23:12:24.072257Z",
     "iopub.status.busy": "2021-01-29T23:12:24.072001Z",
     "iopub.status.idle": "2021-01-29T23:12:24.076418Z",
     "shell.execute_reply": "2021-01-29T23:12:24.075912Z",
     "shell.execute_reply.started": "2021-01-29T23:12:24.072233Z"
    }
   },
   "outputs": [],
   "source": [
    "# LR_CHOICE = lr_min/LR_DIV\n",
    "LR_CHOICE = 0.00075"
   ]
  },
  {
   "cell_type": "markdown",
   "metadata": {},
   "source": [
    "<br>\n",
    "<br>"
   ]
  },
  {
   "cell_type": "markdown",
   "metadata": {},
   "source": [
    "<br>\n",
    "<br>"
   ]
  },
  {
   "cell_type": "markdown",
   "metadata": {},
   "source": [
    "# Training the Model"
   ]
  },
  {
   "cell_type": "markdown",
   "metadata": {
    "slideshow": {
     "slide_type": "slide"
    }
   },
   "source": [
    "<br>\n",
    "\n",
    "## Fit the last layers, unfreeze, fit the whole net, with a decent initial LR, all in one go.\n",
    "\n"
   ]
  },
  {
   "cell_type": "code",
   "execution_count": 26,
   "metadata": {
    "execution": {
     "iopub.execute_input": "2021-01-29T23:12:25.358510Z",
     "iopub.status.busy": "2021-01-29T23:12:25.358255Z",
     "iopub.status.idle": "2021-01-29T23:14:19.755151Z",
     "shell.execute_reply": "2021-01-29T23:14:19.754857Z",
     "shell.execute_reply.started": "2021-01-29T23:12:25.358486Z"
    }
   },
   "outputs": [
    {
     "name": "stdout",
     "output_type": "stream",
     "text": [
      "FROZEN_EPOCHS:  1\n",
      "EPOCHS:         20\n",
      "Learning Rate:  0.00075\n",
      "\n",
      "\n"
     ]
    },
    {
     "data": {
      "text/html": [
       "<table border=\"1\" class=\"dataframe\">\n",
       "  <thead>\n",
       "    <tr style=\"text-align: left;\">\n",
       "      <th>epoch</th>\n",
       "      <th>train_loss</th>\n",
       "      <th>valid_loss</th>\n",
       "      <th>error_rate</th>\n",
       "      <th>accuracy</th>\n",
       "      <th>time</th>\n",
       "    </tr>\n",
       "  </thead>\n",
       "  <tbody>\n",
       "    <tr>\n",
       "      <td>0</td>\n",
       "      <td>3.116916</td>\n",
       "      <td>2.171652</td>\n",
       "      <td>0.656260</td>\n",
       "      <td>0.343740</td>\n",
       "      <td>01:53</td>\n",
       "    </tr>\n",
       "  </tbody>\n",
       "</table>"
      ],
      "text/plain": [
       "<IPython.core.display.HTML object>"
      ]
     },
     "metadata": {},
     "output_type": "display_data"
    },
    {
     "data": {
      "application/vnd.jupyter.widget-view+json": {
       "model_id": "52a44e70fd2c4b0e9e3c62799e5a4679",
       "version_major": 2,
       "version_minor": 0
      },
      "text/plain": [
       "Canvas(toolbar=Toolbar(toolitems=[('Home', 'Reset original view', 'home', 'home'), ('Back', 'Back to previous …"
      ]
     },
     "metadata": {},
     "output_type": "display_data"
    },
    {
     "data": {
      "image/png": "[encoded data removed]",
      "text/plain": [
       "<Figure size 720x480 with 1 Axes>"
      ]
     },
     "metadata": {},
     "output_type": "display_data"
    }
   ],
   "source": [
    "\n",
    "\n",
    "print(f'FROZEN_EPOCHS:  {FROZEN_EPOCHS}')\n",
    "print(f'EPOCHS:         {EPOCHS}')\n",
    "print(f'Learning Rate:  {LR_CHOICE}\\n\\n')\n",
    "\n",
    "# learn.fine_tune(EPOCHS, freeze_epochs=FROZEN_EPOCHS, base_lr=lr_min/LR_DIV)\n",
    "#learn.fine_tune(EPOCHS, freeze_epochs=0)\n",
    "if PRETRAINED_FLAG == True:\n",
    "    learn.fit_one_cycle(FROZEN_EPOCHS, LR_CHOICE)\n",
    "\n",
    "# learn.fine_tune(1, base_lr=lr_min/12)"
   ]
  },
  {
   "cell_type": "markdown",
   "metadata": {},
   "source": [
    "## Manually set up the unfrozen runs"
   ]
  },
  {
   "cell_type": "code",
   "execution_count": 27,
   "metadata": {
    "execution": {
     "iopub.execute_input": "2021-01-29T23:14:40.067777Z",
     "iopub.status.busy": "2021-01-29T23:14:40.067588Z",
     "iopub.status.idle": "2021-01-29T23:14:40.072745Z",
     "shell.execute_reply": "2021-01-29T23:14:40.072368Z",
     "shell.execute_reply.started": "2021-01-29T23:14:40.067762Z"
    }
   },
   "outputs": [],
   "source": [
    "learn.unfreeze()"
   ]
  },
  {
   "cell_type": "code",
   "execution_count": 28,
   "metadata": {
    "execution": {
     "iopub.execute_input": "2021-01-29T23:14:40.481359Z",
     "iopub.status.busy": "2021-01-29T23:14:40.481180Z",
     "iopub.status.idle": "2021-01-29T23:15:21.369330Z",
     "shell.execute_reply": "2021-01-29T23:15:21.369000Z",
     "shell.execute_reply.started": "2021-01-29T23:14:40.481345Z"
    }
   },
   "outputs": [
    {
     "data": {
      "text/html": [],
      "text/plain": [
       "<IPython.core.display.HTML object>"
      ]
     },
     "metadata": {},
     "output_type": "display_data"
    },
    {
     "data": {
      "application/vnd.jupyter.widget-view+json": {
       "model_id": "6fd0ae4556be43a4a018819ccddae9d1",
       "version_major": 2,
       "version_minor": 0
      },
      "text/plain": [
       "Canvas(toolbar=Toolbar(toolitems=[('Home', 'Reset original view', 'home', 'home'), ('Back', 'Back to previous …"
      ]
     },
     "metadata": {},
     "output_type": "display_data"
    }
   ],
   "source": [
    "lr_min,lr_steep = learn.lr_find()\n",
    "plt.axvline(lr_min, ls='--', color='red', label=f'lr_min={round(lr_min,6)}')\n",
    "plt.axvline(LR_CHOICE/2, ls='--', color='yellow', label=f'LR_CHOICE/2={round(LR_CHOICE/2,6)}')\n",
    "plt.axvline(lr_steep, ls='--', color='grey', label=f'lr_steep={round(lr_steep,6)}')\n",
    "plt.legend()\n",
    "plt.show()"
   ]
  },
  {
   "cell_type": "code",
   "execution_count": 29,
   "metadata": {
    "execution": {
     "iopub.execute_input": "2021-01-29T23:15:21.371135Z",
     "iopub.status.busy": "2021-01-29T23:15:21.371034Z",
     "iopub.status.idle": "2021-01-29T23:15:21.374193Z",
     "shell.execute_reply": "2021-01-29T23:15:21.373886Z",
     "shell.execute_reply.started": "2021-01-29T23:15:21.371124Z"
    }
   },
   "outputs": [
    {
     "name": "stdout",
     "output_type": "stream",
     "text": [
      "Minimum/10: 1.32e-07, steepest point: 1.91e-06, LR_CHOICE/2: 0.000375\n"
     ]
    }
   ],
   "source": [
    "print(f\"Minimum/10: {lr_min:.2e}, steepest point: {lr_steep:.2e}, LR_CHOICE/2: {LR_CHOICE / 2}\")"
   ]
  },
  {
   "cell_type": "markdown",
   "metadata": {},
   "source": [
    "## Pick a new Learning Rate"
   ]
  },
  {
   "cell_type": "code",
   "execution_count": 30,
   "metadata": {
    "execution": {
     "iopub.execute_input": "2021-01-29T23:16:18.002940Z",
     "iopub.status.busy": "2021-01-29T23:16:18.002671Z",
     "iopub.status.idle": "2021-01-29T23:16:18.007299Z",
     "shell.execute_reply": "2021-01-29T23:16:18.006710Z",
     "shell.execute_reply.started": "2021-01-29T23:16:18.002911Z"
    }
   },
   "outputs": [],
   "source": [
    "# LR_CHOICE_UNFROZ = lr_min/LR_DIV\n",
    "# LR_CHOICE_UNFROZ = LR_CHOICE / 2\n",
    "# LR_CHOICE_UNFROZ = 0.00015\n",
    "LR_CHOICE_UNFROZ = 0.0001\n",
    "# LR_CHOICE_UNFROZ = 0.00008"
   ]
  },
  {
   "cell_type": "markdown",
   "metadata": {},
   "source": [
    "### Train"
   ]
  },
  {
   "cell_type": "code",
   "execution_count": 31,
   "metadata": {
    "execution": {
     "iopub.execute_input": "2021-01-29T23:16:21.164811Z",
     "iopub.status.busy": "2021-01-29T23:16:21.164564Z",
     "iopub.status.idle": "2021-01-29T23:16:21.169443Z",
     "shell.execute_reply": "2021-01-29T23:16:21.168977Z",
     "shell.execute_reply.started": "2021-01-29T23:16:21.164790Z"
    }
   },
   "outputs": [
    {
     "name": "stdout",
     "output_type": "stream",
     "text": [
      "EPOCHS:         20\n",
      "Learning Rate:  0.0001\n",
      "\n",
      "\n"
     ]
    }
   ],
   "source": [
    "print(f'EPOCHS:         {EPOCHS}')\n",
    "print(f'Learning Rate:  {LR_CHOICE_UNFROZ}\\n\\n')"
   ]
  },
  {
   "cell_type": "code",
   "execution_count": 32,
   "metadata": {
    "execution": {
     "iopub.execute_input": "2021-01-29T23:16:23.544320Z",
     "iopub.status.busy": "2021-01-29T23:16:23.544058Z",
     "iopub.status.idle": "2021-01-30T00:09:46.973819Z",
     "shell.execute_reply": "2021-01-30T00:09:46.973464Z",
     "shell.execute_reply.started": "2021-01-29T23:16:23.544297Z"
    }
   },
   "outputs": [
    {
     "data": {
      "text/html": [
       "<table border=\"1\" class=\"dataframe\">\n",
       "  <thead>\n",
       "    <tr style=\"text-align: left;\">\n",
       "      <th>epoch</th>\n",
       "      <th>train_loss</th>\n",
       "      <th>valid_loss</th>\n",
       "      <th>error_rate</th>\n",
       "      <th>accuracy</th>\n",
       "      <th>time</th>\n",
       "    </tr>\n",
       "  </thead>\n",
       "  <tbody>\n",
       "    <tr>\n",
       "      <td>0</td>\n",
       "      <td>2.961042</td>\n",
       "      <td>2.065550</td>\n",
       "      <td>0.617236</td>\n",
       "      <td>0.382764</td>\n",
       "      <td>02:37</td>\n",
       "    </tr>\n",
       "    <tr>\n",
       "      <td>1</td>\n",
       "      <td>2.838351</td>\n",
       "      <td>1.937131</td>\n",
       "      <td>0.580488</td>\n",
       "      <td>0.419512</td>\n",
       "      <td>02:38</td>\n",
       "    </tr>\n",
       "    <tr>\n",
       "      <td>2</td>\n",
       "      <td>2.584332</td>\n",
       "      <td>1.654379</td>\n",
       "      <td>0.482927</td>\n",
       "      <td>0.517073</td>\n",
       "      <td>02:38</td>\n",
       "    </tr>\n",
       "    <tr>\n",
       "      <td>3</td>\n",
       "      <td>2.352178</td>\n",
       "      <td>1.449884</td>\n",
       "      <td>0.451707</td>\n",
       "      <td>0.548293</td>\n",
       "      <td>02:38</td>\n",
       "    </tr>\n",
       "    <tr>\n",
       "      <td>4</td>\n",
       "      <td>2.010090</td>\n",
       "      <td>1.216875</td>\n",
       "      <td>0.373008</td>\n",
       "      <td>0.626992</td>\n",
       "      <td>02:37</td>\n",
       "    </tr>\n",
       "    <tr>\n",
       "      <td>5</td>\n",
       "      <td>1.855257</td>\n",
       "      <td>1.021324</td>\n",
       "      <td>0.311545</td>\n",
       "      <td>0.688455</td>\n",
       "      <td>02:38</td>\n",
       "    </tr>\n",
       "    <tr>\n",
       "      <td>6</td>\n",
       "      <td>1.648922</td>\n",
       "      <td>0.877674</td>\n",
       "      <td>0.270244</td>\n",
       "      <td>0.729756</td>\n",
       "      <td>02:38</td>\n",
       "    </tr>\n",
       "    <tr>\n",
       "      <td>7</td>\n",
       "      <td>1.416061</td>\n",
       "      <td>0.721659</td>\n",
       "      <td>0.211382</td>\n",
       "      <td>0.788618</td>\n",
       "      <td>02:38</td>\n",
       "    </tr>\n",
       "    <tr>\n",
       "      <td>8</td>\n",
       "      <td>1.286682</td>\n",
       "      <td>0.654799</td>\n",
       "      <td>0.211057</td>\n",
       "      <td>0.788943</td>\n",
       "      <td>02:38</td>\n",
       "    </tr>\n",
       "    <tr>\n",
       "      <td>9</td>\n",
       "      <td>1.167450</td>\n",
       "      <td>0.561843</td>\n",
       "      <td>0.174309</td>\n",
       "      <td>0.825691</td>\n",
       "      <td>02:38</td>\n",
       "    </tr>\n",
       "    <tr>\n",
       "      <td>10</td>\n",
       "      <td>1.094786</td>\n",
       "      <td>0.463715</td>\n",
       "      <td>0.135285</td>\n",
       "      <td>0.864715</td>\n",
       "      <td>02:38</td>\n",
       "    </tr>\n",
       "    <tr>\n",
       "      <td>11</td>\n",
       "      <td>0.938158</td>\n",
       "      <td>0.420808</td>\n",
       "      <td>0.128455</td>\n",
       "      <td>0.871545</td>\n",
       "      <td>02:38</td>\n",
       "    </tr>\n",
       "    <tr>\n",
       "      <td>12</td>\n",
       "      <td>0.858953</td>\n",
       "      <td>0.410989</td>\n",
       "      <td>0.124878</td>\n",
       "      <td>0.875122</td>\n",
       "      <td>02:38</td>\n",
       "    </tr>\n",
       "    <tr>\n",
       "      <td>13</td>\n",
       "      <td>0.788084</td>\n",
       "      <td>0.369371</td>\n",
       "      <td>0.114797</td>\n",
       "      <td>0.885203</td>\n",
       "      <td>02:38</td>\n",
       "    </tr>\n",
       "    <tr>\n",
       "      <td>14</td>\n",
       "      <td>0.791063</td>\n",
       "      <td>0.328020</td>\n",
       "      <td>0.096585</td>\n",
       "      <td>0.903415</td>\n",
       "      <td>02:38</td>\n",
       "    </tr>\n",
       "    <tr>\n",
       "      <td>15</td>\n",
       "      <td>0.692145</td>\n",
       "      <td>0.317464</td>\n",
       "      <td>0.093659</td>\n",
       "      <td>0.906341</td>\n",
       "      <td>02:38</td>\n",
       "    </tr>\n",
       "    <tr>\n",
       "      <td>16</td>\n",
       "      <td>0.687588</td>\n",
       "      <td>0.308080</td>\n",
       "      <td>0.090732</td>\n",
       "      <td>0.909268</td>\n",
       "      <td>02:41</td>\n",
       "    </tr>\n",
       "    <tr>\n",
       "      <td>17</td>\n",
       "      <td>0.679763</td>\n",
       "      <td>0.290301</td>\n",
       "      <td>0.085528</td>\n",
       "      <td>0.914472</td>\n",
       "      <td>02:46</td>\n",
       "    </tr>\n",
       "    <tr>\n",
       "      <td>18</td>\n",
       "      <td>0.639899</td>\n",
       "      <td>0.285519</td>\n",
       "      <td>0.085203</td>\n",
       "      <td>0.914797</td>\n",
       "      <td>02:46</td>\n",
       "    </tr>\n",
       "    <tr>\n",
       "      <td>19</td>\n",
       "      <td>0.672849</td>\n",
       "      <td>0.290023</td>\n",
       "      <td>0.085854</td>\n",
       "      <td>0.914146</td>\n",
       "      <td>02:46</td>\n",
       "    </tr>\n",
       "  </tbody>\n",
       "</table>"
      ],
      "text/plain": [
       "<IPython.core.display.HTML object>"
      ]
     },
     "metadata": {},
     "output_type": "display_data"
    },
    {
     "data": {
      "application/vnd.jupyter.widget-view+json": {
       "model_id": "552bf3a4d2d84029839cd5f6939dc49c",
       "version_major": 2,
       "version_minor": 0
      },
      "text/plain": [
       "Canvas(toolbar=Toolbar(toolitems=[('Home', 'Reset original view', 'home', 'home'), ('Back', 'Back to previous …"
      ]
     },
     "metadata": {},
     "output_type": "display_data"
    },
    {
     "data": {
      "image/png": "[encoded data removed]",
      "text/plain": [
       "<Figure size 720x480 with 1 Axes>"
      ]
     },
     "metadata": {},
     "output_type": "display_data"
    }
   ],
   "source": [
    "learn.fit_one_cycle(EPOCHS, LR_CHOICE_UNFROZ)"
   ]
  },
  {
   "cell_type": "code",
   "execution_count": null,
   "metadata": {
    "execution": {
     "iopub.status.busy": "2021-01-29T23:11:17.142042Z",
     "iopub.status.idle": "2021-01-29T23:11:17.142199Z",
     "shell.execute_reply": "2021-01-29T23:11:17.142120Z"
    }
   },
   "outputs": [],
   "source": [
    "# learn.fine_tune(1, freeze_epochs=1, base_lr=5e-5, cbs=cbs)"
   ]
  },
  {
   "cell_type": "code",
   "execution_count": null,
   "metadata": {
    "execution": {
     "iopub.status.busy": "2021-01-29T23:11:17.142621Z",
     "iopub.status.idle": "2021-01-29T23:11:17.142778Z",
     "shell.execute_reply": "2021-01-29T23:11:17.142698Z"
    }
   },
   "outputs": [],
   "source": [
    "# learn.fit(1, cbs=[mixup_cb, ShowGraphCallback(), early_stop])"
   ]
  },
  {
   "cell_type": "markdown",
   "metadata": {},
   "source": [
    "<br>\n",
    "<br>\n",
    "\n",
    "## Persist the Model"
   ]
  },
  {
   "cell_type": "code",
   "execution_count": null,
   "metadata": {
    "execution": {
     "iopub.status.busy": "2021-01-29T23:11:17.143098Z",
     "iopub.status.idle": "2021-01-29T23:11:17.143253Z",
     "shell.execute_reply": "2021-01-29T23:11:17.143175Z"
    }
   },
   "outputs": [],
   "source": [
    "learn.export(f'../models/{RUN_NAME}.pkl')\n",
    "# path = Path('../models')\n",
    "# path.ls(file_exts='.pkl')"
   ]
  },
  {
   "cell_type": "markdown",
   "metadata": {},
   "source": [
    "<br>\n",
    "<br>"
   ]
  },
  {
   "cell_type": "markdown",
   "metadata": {},
   "source": [
    "### Show some Results"
   ]
  },
  {
   "cell_type": "code",
   "execution_count": null,
   "metadata": {
    "execution": {
     "iopub.status.busy": "2021-01-29T23:11:17.143559Z",
     "iopub.status.idle": "2021-01-29T23:11:17.143714Z",
     "shell.execute_reply": "2021-01-29T23:11:17.143635Z"
    }
   },
   "outputs": [],
   "source": [
    "learn.show_results()"
   ]
  },
  {
   "cell_type": "markdown",
   "metadata": {},
   "source": [
    "<br>\n",
    "<hr>\n",
    "<br>\n",
    "<br>\n",
    "<br>"
   ]
  },
  {
   "cell_type": "markdown",
   "metadata": {},
   "source": [
    "# Validation Set (not test set) Analysis"
   ]
  },
  {
   "cell_type": "markdown",
   "metadata": {},
   "source": [
    "<br>\n",
    "\n",
    "### Plot Losses"
   ]
  },
  {
   "cell_type": "code",
   "execution_count": null,
   "metadata": {
    "execution": {
     "iopub.status.busy": "2021-01-29T23:11:17.144090Z",
     "iopub.status.idle": "2021-01-29T23:11:17.144246Z",
     "shell.execute_reply": "2021-01-29T23:11:17.144167Z"
    }
   },
   "outputs": [],
   "source": [
    "# learn.recorder.plot_loss()\n",
    "# plt.ylabel('Loss')\n",
    "# plt.xlabel('Batches Processed')"
   ]
  },
  {
   "cell_type": "markdown",
   "metadata": {},
   "source": [
    "<br>\n",
    "\n",
    "### Visualize with a confusion Matrix"
   ]
  },
  {
   "cell_type": "code",
   "execution_count": null,
   "metadata": {
    "execution": {
     "iopub.status.busy": "2021-01-29T23:11:17.144574Z",
     "iopub.status.idle": "2021-01-29T23:11:17.144729Z",
     "shell.execute_reply": "2021-01-29T23:11:17.144650Z"
    }
   },
   "outputs": [],
   "source": [
    "interp = ClassificationInterpretation.from_learner(learn)\n",
    "interp.plot_confusion_matrix(figsize=(8,8))"
   ]
  },
  {
   "cell_type": "code",
   "execution_count": null,
   "metadata": {
    "execution": {
     "iopub.status.busy": "2021-01-29T23:11:17.145055Z",
     "iopub.status.idle": "2021-01-29T23:11:17.145208Z",
     "shell.execute_reply": "2021-01-29T23:11:17.145131Z"
    }
   },
   "outputs": [],
   "source": [
    "interp.most_confused()[:10]"
   ]
  },
  {
   "cell_type": "markdown",
   "metadata": {},
   "source": [
    "<br>\n",
    "<br>"
   ]
  },
  {
   "cell_type": "markdown",
   "metadata": {},
   "source": [
    "## Classification Report"
   ]
  },
  {
   "cell_type": "code",
   "execution_count": null,
   "metadata": {
    "execution": {
     "iopub.status.busy": "2021-01-29T23:11:17.145573Z",
     "iopub.status.idle": "2021-01-29T23:11:17.145727Z",
     "shell.execute_reply": "2021-01-29T23:11:17.145649Z"
    }
   },
   "outputs": [],
   "source": [
    "interp.print_classification_report()"
   ]
  },
  {
   "cell_type": "markdown",
   "metadata": {},
   "source": [
    "<br>\n",
    "\n",
    "### Show the top 15 most error prone images"
   ]
  },
  {
   "cell_type": "code",
   "execution_count": null,
   "metadata": {
    "execution": {
     "iopub.status.busy": "2021-01-29T23:11:17.146048Z",
     "iopub.status.idle": "2021-01-29T23:11:17.146202Z",
     "shell.execute_reply": "2021-01-29T23:11:17.146125Z"
    }
   },
   "outputs": [],
   "source": [
    "interp.plot_top_losses(15, nrows=3)"
   ]
  },
  {
   "cell_type": "markdown",
   "metadata": {},
   "source": [
    "<br>\n",
    "<br>"
   ]
  },
  {
   "cell_type": "markdown",
   "metadata": {},
   "source": [
    "<br>\n",
    "\n",
    "### ~~Clean the images that were hard to interpret and obviously bad~~\n",
    "\n",
    "(I had to remove this section as it was using too much RAM and crashing the kernel)"
   ]
  },
  {
   "cell_type": "markdown",
   "metadata": {},
   "source": [
    "### Show a Widget that allows us to mark poor exemplars for deletion"
   ]
  },
  {
   "cell_type": "code",
   "execution_count": null,
   "metadata": {
    "execution": {
     "iopub.status.busy": "2021-01-29T23:11:17.146526Z",
     "iopub.status.idle": "2021-01-29T23:11:17.146680Z",
     "shell.execute_reply": "2021-01-29T23:11:17.146601Z"
    }
   },
   "outputs": [],
   "source": [
    "# import gc\n",
    "# cleaner = None\n",
    "# gc.collect()\n",
    "\n",
    "# cleaner = ImageClassifierCleaner(learn)\n",
    "# cleaner"
   ]
  },
  {
   "cell_type": "markdown",
   "metadata": {},
   "source": [
    "### Show the Indexes of the images we want to delete"
   ]
  },
  {
   "cell_type": "code",
   "execution_count": null,
   "metadata": {
    "execution": {
     "iopub.status.busy": "2021-01-29T23:11:17.146969Z",
     "iopub.status.idle": "2021-01-29T23:11:17.147123Z",
     "shell.execute_reply": "2021-01-29T23:11:17.147045Z"
    }
   },
   "outputs": [],
   "source": [
    "# cleaner.delete()"
   ]
  },
  {
   "cell_type": "markdown",
   "metadata": {},
   "source": [
    "### Delete the files"
   ]
  },
  {
   "cell_type": "code",
   "execution_count": null,
   "metadata": {
    "execution": {
     "iopub.status.busy": "2021-01-29T23:11:17.147421Z",
     "iopub.status.idle": "2021-01-29T23:11:17.147572Z",
     "shell.execute_reply": "2021-01-29T23:11:17.147496Z"
    }
   },
   "outputs": [],
   "source": [
    "# import os\n",
    "\n",
    "# for idx in cleaner.delete():\n",
    "#     print(f'removing: {str(cleaner.fns[idx])}')\n",
    "#     os.remove(str(cleaner.fns[idx]))"
   ]
  },
  {
   "cell_type": "markdown",
   "metadata": {},
   "source": [
    "<br>\n",
    "<br>\n",
    "<hr>\n",
    "<br>\n",
    "<br>\n",
    "\n",
    "\n"
   ]
  },
  {
   "cell_type": "markdown",
   "metadata": {},
   "source": [
    "<br>\n",
    "<br>"
   ]
  },
  {
   "cell_type": "markdown",
   "metadata": {},
   "source": [
    "# Test Set Analysis\n",
    "\n",
    "<br>"
   ]
  },
  {
   "cell_type": "raw",
   "metadata": {},
   "source": [
    "import gc\n",
    "cleaner = None\n",
    "test_learn = None\n",
    "inputs = None\n",
    "preds = None\n",
    "interp = None\n",
    "targs = None\n",
    "decoded = None\n",
    "losses = None\n",
    "# learn = None\n",
    "gc.collect()"
   ]
  },
  {
   "cell_type": "code",
   "execution_count": null,
   "metadata": {
    "execution": {
     "iopub.status.busy": "2021-01-29T23:11:17.147943Z",
     "iopub.status.idle": "2021-01-29T23:11:17.148101Z",
     "shell.execute_reply": "2021-01-29T23:11:17.148021Z"
    }
   },
   "outputs": [],
   "source": [
    "# test_learn = learn\n",
    "num = 3\n",
    "# RUN_NAME='20210122-0037 - arch=xresnet50_deep - samples=3000 frozen=1 epochs=40 bs=16 res=360 _data=external'\n",
    "# RUN_NAME = '20210122-2356 - arch=xresnet50_deep - samples=3000 frozen=1 epochs=40 bs=16 res=360 _data=external'\n",
    "\n",
    "# test_learn = load_learner(f'../models/{RUN_NAME}.pkl', cpu=False)\n",
    "# load_model(f'models/{RUN_NAME}_{num}.pth', test_learn, opt=Adam, with_opt=False)\n",
    "\n",
    "\n",
    "\n",
    "test_learn = learn"
   ]
  },
  {
   "cell_type": "code",
   "execution_count": null,
   "metadata": {
    "execution": {
     "iopub.status.busy": "2021-01-29T23:11:17.148414Z",
     "iopub.status.idle": "2021-01-29T23:11:17.148568Z",
     "shell.execute_reply": "2021-01-29T23:11:17.148490Z"
    }
   },
   "outputs": [],
   "source": [
    "def get_test_fnames(path):\n",
    "    return random.sample(list(test_image_files.values.flatten()), 1000)"
   ]
  },
  {
   "cell_type": "code",
   "execution_count": null,
   "metadata": {
    "execution": {
     "iopub.status.busy": "2021-01-29T23:11:17.148866Z",
     "iopub.status.idle": "2021-01-29T23:11:17.149020Z",
     "shell.execute_reply": "2021-01-29T23:11:17.148941Z"
    }
   },
   "outputs": [],
   "source": [
    "path"
   ]
  },
  {
   "cell_type": "code",
   "execution_count": null,
   "metadata": {
    "execution": {
     "iopub.status.busy": "2021-01-29T23:11:17.149310Z",
     "iopub.status.idle": "2021-01-29T23:11:17.149463Z",
     "shell.execute_reply": "2021-01-29T23:11:17.149385Z"
    }
   },
   "outputs": [],
   "source": [
    "test_db = DataBlock(\n",
    "    blocks=(ImageBlock, CategoryBlock), \n",
    "    get_items=get_test_fnames,\n",
    "    get_y=parent_label, \n",
    "    item_tfms=Resize(RESOLUTION, method='bilinear')) #,\n",
    "#     item_tfms=CropPad(RESOLUTION, pad_mode='zeros'))\n",
    "#    ,    batch_tfms=aug_transforms(do_flip=True, size=RESOLUTION, batch=False, max_zoom=1.0, mult=1, pad_mode='zeros'))\n",
    "\n",
    "\n",
    "dls = test_db.dataloaders(path, bs=BATCH_SIZE)\n",
    "\n",
    "test_dl = dls.test_dl(get_test_fnames('None'), with_labels=True)"
   ]
  },
  {
   "cell_type": "code",
   "execution_count": null,
   "metadata": {
    "execution": {
     "iopub.status.busy": "2021-01-29T23:11:17.149768Z",
     "iopub.status.idle": "2021-01-29T23:11:17.149929Z",
     "shell.execute_reply": "2021-01-29T23:11:17.149845Z"
    }
   },
   "outputs": [],
   "source": [
    "# test_learn = load_learner(f'../models/{RUN_NAME}.pkl', cpu=False)\n",
    "# test_learn = cnn_learner(dls, arch=ARCH, metrics=[error_rate, accuracy], cbs=cbs, loss_func=LabelSmoothingCrossEntropy(), pretrained=PRETRAINED_FLAG)\n",
    "# RUN_NAME = '20210119-0130 - arch=xresnet50 - samples=1000 frozen=0 epochs=25 bs=20 res=300 _data=external'\n",
    "# load_model(f'models/{RUN_NAME}_1.pth', test_learn, opt=Adam)\n",
    "\n",
    "\n",
    "# test_learn = cnn_learner(dls, arch=ARCH, metrics=[error_rate, accuracy], pretrained=PRETRAINED_FLAG)\n",
    "# test_learn.load(f'{RUN_NAME}_24')"
   ]
  },
  {
   "cell_type": "markdown",
   "metadata": {},
   "source": [
    "<br>\n",
    "<br>"
   ]
  },
  {
   "cell_type": "markdown",
   "metadata": {},
   "source": [
    "####  Get the Inferrences on the Test Set"
   ]
  },
  {
   "cell_type": "code",
   "execution_count": null,
   "metadata": {
    "execution": {
     "iopub.status.busy": "2021-01-29T23:11:17.150208Z",
     "iopub.status.idle": "2021-01-29T23:11:17.150367Z",
     "shell.execute_reply": "2021-01-29T23:11:17.150282Z"
    }
   },
   "outputs": [],
   "source": [
    "inputs, preds, targs, decoded, losses = test_learn.get_preds(dl=test_dl, with_input=True, with_decoded=True, with_loss=True)\n"
   ]
  },
  {
   "cell_type": "code",
   "execution_count": null,
   "metadata": {
    "execution": {
     "iopub.status.busy": "2021-01-29T23:11:17.150697Z",
     "iopub.status.idle": "2021-01-29T23:11:17.150853Z",
     "shell.execute_reply": "2021-01-29T23:11:17.150774Z"
    }
   },
   "outputs": [],
   "source": [
    "interp = ClassificationInterpretation(dl=test_dl, inputs=inputs, preds=preds, targs=targs, decoded=decoded, losses=losses )"
   ]
  },
  {
   "cell_type": "code",
   "execution_count": null,
   "metadata": {
    "execution": {
     "iopub.status.busy": "2021-01-29T23:11:17.151172Z",
     "iopub.status.idle": "2021-01-29T23:11:17.151328Z",
     "shell.execute_reply": "2021-01-29T23:11:17.151247Z"
    }
   },
   "outputs": [],
   "source": [
    "# test_learn.get_preds()"
   ]
  },
  {
   "cell_type": "raw",
   "metadata": {
    "execution": {
     "iopub.execute_input": "2021-01-19T11:34:38.275317Z",
     "iopub.status.busy": "2021-01-19T11:34:38.275201Z",
     "iopub.status.idle": "2021-01-19T11:34:38.281831Z",
     "shell.execute_reply": "2021-01-19T11:34:38.281519Z",
     "shell.execute_reply.started": "2021-01-19T11:34:38.275306Z"
    }
   },
   "source": [
    "# pos = 0\n",
    "# neg = 0\n",
    "\n",
    "\n",
    "# for pred, targ in preds, targs:\n",
    "#     if pred == targ: TP = TP + 1\n",
    "#     if pred != targ:\n",
    "            \n",
    "# print(f'Correct: {correct}')\n",
    "# print(f'Wrong:   {wrong}')"
   ]
  },
  {
   "cell_type": "markdown",
   "metadata": {},
   "source": [
    "<br>\n",
    "\n",
    "### Visualize with a confusion Matrix"
   ]
  },
  {
   "cell_type": "code",
   "execution_count": null,
   "metadata": {
    "execution": {
     "iopub.status.busy": "2021-01-29T23:11:17.151657Z",
     "iopub.status.idle": "2021-01-29T23:11:17.151814Z",
     "shell.execute_reply": "2021-01-29T23:11:17.151735Z"
    }
   },
   "outputs": [],
   "source": [
    "interp.plot_confusion_matrix(figsize=(8,8))"
   ]
  },
  {
   "cell_type": "code",
   "execution_count": null,
   "metadata": {
    "execution": {
     "iopub.status.busy": "2021-01-29T23:11:17.152118Z",
     "iopub.status.idle": "2021-01-29T23:11:17.152274Z",
     "shell.execute_reply": "2021-01-29T23:11:17.152195Z"
    }
   },
   "outputs": [],
   "source": [
    "interp.most_confused()[:10]"
   ]
  },
  {
   "cell_type": "markdown",
   "metadata": {},
   "source": [
    "<br>\n",
    "<br>"
   ]
  },
  {
   "cell_type": "markdown",
   "metadata": {},
   "source": [
    "## Classification Report"
   ]
  },
  {
   "cell_type": "code",
   "execution_count": null,
   "metadata": {
    "execution": {
     "iopub.status.busy": "2021-01-29T23:11:17.152631Z",
     "iopub.status.idle": "2021-01-29T23:11:17.152790Z",
     "shell.execute_reply": "2021-01-29T23:11:17.152711Z"
    },
    "jupyter": {
     "source_hidden": true
    }
   },
   "outputs": [],
   "source": [
    "interp.print_classification_report()"
   ]
  },
  {
   "cell_type": "code",
   "execution_count": null,
   "metadata": {
    "execution": {
     "iopub.status.busy": "2021-01-29T23:11:17.153095Z",
     "iopub.status.idle": "2021-01-29T23:11:17.153250Z",
     "shell.execute_reply": "2021-01-29T23:11:17.153171Z"
    }
   },
   "outputs": [],
   "source": [
    "interp.plot_top_losses(k=15)"
   ]
  },
  {
   "cell_type": "markdown",
   "metadata": {},
   "source": [
    "<br>\n",
    "<br>\n",
    "<br>\n",
    "\n",
    "## Clean up\n",
    "\n",
    "<br>"
   ]
  },
  {
   "cell_type": "code",
   "execution_count": null,
   "metadata": {
    "execution": {
     "iopub.status.busy": "2021-01-29T23:11:17.153627Z",
     "iopub.status.idle": "2021-01-29T23:11:17.153783Z",
     "shell.execute_reply": "2021-01-29T23:11:17.153704Z"
    }
   },
   "outputs": [],
   "source": [
    "wandb.join()"
   ]
  },
  {
   "cell_type": "code",
   "execution_count": null,
   "metadata": {
    "execution": {
     "iopub.status.busy": "2021-01-29T23:11:17.154111Z",
     "iopub.status.idle": "2021-01-29T23:11:17.154266Z",
     "shell.execute_reply": "2021-01-29T23:11:17.154188Z"
    }
   },
   "outputs": [],
   "source": [
    "wandb.finish()"
   ]
  },
  {
   "cell_type": "markdown",
   "metadata": {},
   "source": [
    "<br>\n",
    "<br>\n",
    "<br>\n",
    "<hr>\n",
    "<br>\n",
    "\n",
    "# Log\n",
    "\n",
    "* started to plot the learning rates and started to use that information while fitting.\n",
    "* Downgraded to resnet34 @ 300px in order to increase the resolution fed to the model from 128px to 300px - this made a major difference.\n",
    "* Decreased the number of training epochs to 6 after experimenting to find the sweet spot. - also positive change\n",
    "* Changed to exclusively use fine-tune() with it's built in freeze_epochs parameter\n",
    "* Changed the Batch Size in order to bring the arch back to resnet101 @300px\n",
    "* Cleaned up the markdown, removed cells and reordered the rest.\n",
    "* Added an Early Stop.  Starting with 0.01 delta.  \n",
    "* Now moving to 0.1 delta\n",
    "* Integrated wandb to keep track of experiments.\n",
    "* added section to balance the dataset through oversampling.\n",
    "\n",
    "** Attempting a batch size of 12 and 384px with resnet101.  long training times.\n",
    "** Also increased the epochs to 4 on the final layer and 7 on the rest.\n",
    "    "
   ]
  },
  {
   "cell_type": "code",
   "execution_count": null,
   "metadata": {},
   "outputs": [],
   "source": []
  },
  {
   "cell_type": "code",
   "execution_count": null,
   "metadata": {
    "execution": {
     "iopub.status.busy": "2021-01-29T23:11:17.154576Z",
     "iopub.status.idle": "2021-01-29T23:11:17.154731Z",
     "shell.execute_reply": "2021-01-29T23:11:17.154653Z"
    }
   },
   "outputs": [],
   "source": [
    "# learn.unfreeze()"
   ]
  },
  {
   "cell_type": "code",
   "execution_count": null,
   "metadata": {
    "execution": {
     "iopub.status.busy": "2021-01-29T23:11:17.155022Z",
     "iopub.status.idle": "2021-01-29T23:11:17.155176Z",
     "shell.execute_reply": "2021-01-29T23:11:17.155097Z"
    }
   },
   "outputs": [],
   "source": [
    "# learn.fine_tune(epochs=2, freeze_epochs=1, base_lr=high)\n",
    "#                 cbs=[mixup_cb, ShowGraphCallback(), SaveModelCallback(), early_stop])"
   ]
  },
  {
   "cell_type": "code",
   "execution_count": null,
   "metadata": {
    "execution": {
     "iopub.status.busy": "2021-01-29T23:11:17.155476Z",
     "iopub.status.idle": "2021-01-29T23:11:17.155631Z",
     "shell.execute_reply": "2021-01-29T23:11:17.155553Z"
    }
   },
   "outputs": [],
   "source": [
    "# low, high = learn.lr_find()"
   ]
  },
  {
   "cell_type": "code",
   "execution_count": null,
   "metadata": {
    "execution": {
     "iopub.status.busy": "2021-01-29T23:11:17.155938Z",
     "iopub.status.idle": "2021-01-29T23:11:17.156094Z",
     "shell.execute_reply": "2021-01-29T23:11:17.156015Z"
    }
   },
   "outputs": [],
   "source": [
    "# low"
   ]
  },
  {
   "cell_type": "code",
   "execution_count": null,
   "metadata": {
    "execution": {
     "iopub.status.busy": "2021-01-29T23:11:17.156409Z",
     "iopub.status.idle": "2021-01-29T23:11:17.156564Z",
     "shell.execute_reply": "2021-01-29T23:11:17.156485Z"
    }
   },
   "outputs": [],
   "source": [
    "# high"
   ]
  },
  {
   "cell_type": "markdown",
   "metadata": {},
   "source": [
    "## Archive this version of the notehook"
   ]
  },
  {
   "cell_type": "code",
   "execution_count": null,
   "metadata": {
    "execution": {
     "iopub.status.busy": "2021-01-29T23:11:17.156880Z",
     "iopub.status.idle": "2021-01-29T23:11:17.157034Z",
     "shell.execute_reply": "2021-01-29T23:11:17.156956Z"
    }
   },
   "outputs": [],
   "source": [
    "import os\n",
    "import shutil\n",
    "\n",
    "# Allow Jupyter the opportunity to autosave\n",
    "!sleep 20\n",
    "# time = '20210122-2356'\n",
    "# copy the notebook file - the prefix links it to the saved model\n",
    "shutil.copyfile('Sign3.ipynb', f'.Archive/{time} - Sign3.ipynb')"
   ]
  },
  {
   "cell_type": "code",
   "execution_count": null,
   "metadata": {},
   "outputs": [],
   "source": []
  },
  {
   "cell_type": "code",
   "execution_count": null,
   "metadata": {},
   "outputs": [],
   "source": []
  },
  {
   "cell_type": "code",
   "execution_count": null,
   "metadata": {},
   "outputs": [],
   "source": []
  },
  {
   "cell_type": "code",
   "execution_count": null,
   "metadata": {
    "execution": {
     "iopub.status.busy": "2021-01-29T23:11:17.157376Z",
     "iopub.status.idle": "2021-01-29T23:11:17.157533Z",
     "shell.execute_reply": "2021-01-29T23:11:17.157454Z"
    }
   },
   "outputs": [],
   "source": [
    "# # learn = cnn_learner(dls, arch=ARCH, metrics=[error_rate, accuracy], cbs=cbs, loss_func=LabelSmoothingCrossEntropy(), pretrained=PRETRAINED_FLAG)\n",
    "# learn = load_learner('../models/20210118-1443 - arch=resnet50 - samples=480 frozen=0 epochs=6 bs=20 res=300 _data=external.pkl', cpu=False)\n",
    "# learn.dls = dls\n",
    "\n",
    "# lr_min,lr_steep = learn.lr_find()\n",
    "# print(f\"Minimum/10: {lr_min:.2e}, steepest point: {lr_steep:.2e}\")\n",
    "\n",
    "# learn.fine_tune(1, freeze_epochs=2, base_lr=lr_min)"
   ]
  },
  {
   "cell_type": "code",
   "execution_count": null,
   "metadata": {
    "execution": {
     "iopub.status.busy": "2021-01-29T23:11:17.157817Z",
     "iopub.status.idle": "2021-01-29T23:11:17.157977Z",
     "shell.execute_reply": "2021-01-29T23:11:17.157891Z"
    }
   },
   "outputs": [],
   "source": [
    "# image = PILImage.create('../data/20210121_132256.jpg')\n",
    "letter = 'F'\n",
    "images = [PILImage.create(f'../data/frank/Training_Set/{letter}/1000.jpg'),    PILImage.create(f'../data/frank/Training_Set/{letter}/1008.jpg'),    PILImage.create(f'../data/frank/Training_Set/{letter}/1016.jpg'),    PILImage.create(f'../data/frank/Training_Set/{letter}/1024.jpg'),    PILImage.create(f'../data/frank/Training_Set/{letter}/1032.jpg'),    PILImage.create(f'../data/frank/Training_Set/{letter}/1040.jpg')]"
   ]
  },
  {
   "cell_type": "code",
   "execution_count": null,
   "metadata": {
    "execution": {
     "iopub.status.busy": "2021-01-29T23:11:17.158278Z",
     "iopub.status.idle": "2021-01-29T23:11:17.158433Z",
     "shell.execute_reply": "2021-01-29T23:11:17.158355Z"
    }
   },
   "outputs": [],
   "source": [
    "for img in images:\n",
    "    print(test_learn.predict(img)[0])\n"
   ]
  },
  {
   "cell_type": "code",
   "execution_count": null,
   "metadata": {
    "execution": {
     "iopub.status.busy": "2021-01-29T23:11:17.158735Z",
     "iopub.status.idle": "2021-01-29T23:11:17.158886Z",
     "shell.execute_reply": "2021-01-29T23:11:17.158809Z"
    }
   },
   "outputs": [],
   "source": [
    "test_learn.predict(PILImage.create(f'../data/frank/Training_Set/E/1000.jpg'))"
   ]
  },
  {
   "cell_type": "code",
   "execution_count": null,
   "metadata": {},
   "outputs": [],
   "source": []
  },
  {
   "cell_type": "code",
   "execution_count": null,
   "metadata": {
    "execution": {
     "iopub.status.busy": "2021-01-29T23:11:17.159194Z",
     "iopub.status.idle": "2021-01-29T23:11:17.159348Z",
     "shell.execute_reply": "2021-01-29T23:11:17.159270Z"
    }
   },
   "outputs": [],
   "source": [
    "print(f\"RUN_NAME = '{RUN_NAME}'\")\n"
   ]
  },
  {
   "cell_type": "code",
   "execution_count": null,
   "metadata": {},
   "outputs": [],
   "source": []
  }
 ],
 "metadata": {
  "kernelspec": {
   "display_name": "Python [conda env:learn] *",
   "language": "python",
   "name": "conda-env-learn-py"
  },
  "language_info": {
   "codemirror_mode": {
    "name": "ipython",
    "version": 3
   },
   "file_extension": ".py",
   "mimetype": "text/x-python",
   "name": "python",
   "nbconvert_exporter": "python",
   "pygments_lexer": "ipython3",
   "version": "3.8.6"
  },
  "toc-autonumbering": true,
  "toc-showcode": false,
  "toc-showmarkdowntxt": true,
  "toc-showtags": false,
  "widgets": {
   "application/vnd.jupyter.widget-state+json": {
    "state": {
     "06fdf96afe8c43ad9744f29dd90b2656": {
      "model_module": "jupyter-matplotlib",
      "model_module_version": "^0.8.3",
      "model_name": "ToolbarModel",
      "state": {
       "layout": "IPY_MODEL_561bb6c288b0481cb1b7e18388a800e5",
       "toolitems": [
        [
         "Home",
         "Reset original view",
         "home",
         "home"
        ],
        [
         "Back",
         "Back to previous view",
         "arrow-left",
         "back"
        ],
        [
         "Forward",
         "Forward to next view",
         "arrow-right",
         "forward"
        ],
        [
         "Pan",
         "Left button pans, Right button zooms\nx/y fixes axis, CTRL fixes aspect",
         "arrows",
         "pan"
        ],
        [
         "Zoom",
         "Zoom to rectangle\nx/y fixes axis, CTRL fixes aspect",
         "square-o",
         "zoom"
        ],
        [
         "Download",
         "Download plot",
         "floppy-o",
         "save_figure"
        ]
       ]
      }
     },
     "09d88bbb4c1e4991b4a43501a26eac03": {
      "model_module": "jupyter-matplotlib",
      "model_module_version": "^0.8.3",
      "model_name": "ToolbarModel",
      "state": {
       "layout": "IPY_MODEL_a92c05a09862400b85e5bb9af449b175",
       "toolitems": [
        [
         "Home",
         "Reset original view",
         "home",
         "home"
        ],
        [
         "Back",
         "Back to previous view",
         "arrow-left",
         "back"
        ],
        [
         "Forward",
         "Forward to next view",
         "arrow-right",
         "forward"
        ],
        [
         "Pan",
         "Left button pans, Right button zooms\nx/y fixes axis, CTRL fixes aspect",
         "arrows",
         "pan"
        ],
        [
         "Zoom",
         "Zoom to rectangle\nx/y fixes axis, CTRL fixes aspect",
         "square-o",
         "zoom"
        ],
        [
         "Download",
         "Download plot",
         "floppy-o",
         "save_figure"
        ]
       ]
      }
     },
     "0b2057ffbc8444148a946f0a4388252a": {
      "model_module": "@jupyter-widgets/base",
      "model_module_version": "1.2.0",
      "model_name": "LayoutModel",
      "state": {}
     },
     "116688d929e2422691c67f60b0e5de12": {
      "model_module": "jupyter-matplotlib",
      "model_module_version": "^0.8.3",
      "model_name": "ToolbarModel",
      "state": {
       "layout": "IPY_MODEL_48b8a3af858f4a03bb3b6c6ac64f7020",
       "toolitems": [
        [
         "Home",
         "Reset original view",
         "home",
         "home"
        ],
        [
         "Back",
         "Back to previous view",
         "arrow-left",
         "back"
        ],
        [
         "Forward",
         "Forward to next view",
         "arrow-right",
         "forward"
        ],
        [
         "Pan",
         "Left button pans, Right button zooms\nx/y fixes axis, CTRL fixes aspect",
         "arrows",
         "pan"
        ],
        [
         "Zoom",
         "Zoom to rectangle\nx/y fixes axis, CTRL fixes aspect",
         "square-o",
         "zoom"
        ],
        [
         "Download",
         "Download plot",
         "floppy-o",
         "save_figure"
        ]
       ]
      }
     },
     "162248f4bc744b92930e364a650d6a46": {
      "model_module": "@jupyter-widgets/base",
      "model_module_version": "1.2.0",
      "model_name": "LayoutModel",
      "state": {}
     },
     "211f0a2b68dc4ce4b1ba5ce89b043f1d": {
      "model_module": "@jupyter-widgets/base",
      "model_module_version": "1.2.0",
      "model_name": "LayoutModel",
      "state": {}
     },
     "34db86d902f64b698b84afaa8f52a149": {
      "model_module": "@jupyter-widgets/base",
      "model_module_version": "1.2.0",
      "model_name": "LayoutModel",
      "state": {}
     },
     "35eb8ffb18204ee290dfa9d05268c055": {
      "model_module": "jupyter-matplotlib",
      "model_module_version": "^0.8.3",
      "model_name": "ToolbarModel",
      "state": {
       "layout": "IPY_MODEL_58f6043cacb84714a12df1ec807b0171",
       "toolitems": [
        [
         "Home",
         "Reset original view",
         "home",
         "home"
        ],
        [
         "Back",
         "Back to previous view",
         "arrow-left",
         "back"
        ],
        [
         "Forward",
         "Forward to next view",
         "arrow-right",
         "forward"
        ],
        [
         "Pan",
         "Left button pans, Right button zooms\nx/y fixes axis, CTRL fixes aspect",
         "arrows",
         "pan"
        ],
        [
         "Zoom",
         "Zoom to rectangle\nx/y fixes axis, CTRL fixes aspect",
         "square-o",
         "zoom"
        ],
        [
         "Download",
         "Download plot",
         "floppy-o",
         "save_figure"
        ]
       ]
      }
     },
     "38a0778fc8184ca4bdfffe56c9dbc4c1": {
      "model_module": "jupyter-matplotlib",
      "model_module_version": "^0.8.3",
      "model_name": "ToolbarModel",
      "state": {
       "layout": "IPY_MODEL_162248f4bc744b92930e364a650d6a46",
       "toolitems": [
        [
         "Home",
         "Reset original view",
         "home",
         "home"
        ],
        [
         "Back",
         "Back to previous view",
         "arrow-left",
         "back"
        ],
        [
         "Forward",
         "Forward to next view",
         "arrow-right",
         "forward"
        ],
        [
         "Pan",
         "Left button pans, Right button zooms\nx/y fixes axis, CTRL fixes aspect",
         "arrows",
         "pan"
        ],
        [
         "Zoom",
         "Zoom to rectangle\nx/y fixes axis, CTRL fixes aspect",
         "square-o",
         "zoom"
        ],
        [
         "Download",
         "Download plot",
         "floppy-o",
         "save_figure"
        ]
       ]
      }
     },
     "38c955f03ca84d69adbf7afac2e88fa3": {
      "model_module": "jupyter-matplotlib",
      "model_module_version": "^0.8.3",
      "model_name": "MPLCanvasModel",
      "state": {
       "layout": "IPY_MODEL_f7922e9622844c9885e132c17e243e40",
       "toolbar": "IPY_MODEL_6ffc135a9ca241cc9fe04396297f0c1e",
       "toolbar_position": "left"
      }
     },
     "3fa59ab4c0f64e98a01ba84a6dc2e4b6": {
      "model_module": "@jupyter-widgets/base",
      "model_module_version": "1.2.0",
      "model_name": "LayoutModel",
      "state": {}
     },
     "483864921273481aa041b3a7fe0a108a": {
      "model_module": "jupyter-matplotlib",
      "model_module_version": "^0.8.3",
      "model_name": "MPLCanvasModel",
      "state": {
       "_cursor": "default",
       "_figure_label": "Figure 7",
       "_height": 720,
       "_image_mode": "diff",
       "_width": 1200,
       "layout": "IPY_MODEL_8412d85faca74889a12d1d6359278023",
       "toolbar": "IPY_MODEL_80b3b469dace4955b20ba89b62c4881b",
       "toolbar_position": "left"
      }
     },
     "48b8a3af858f4a03bb3b6c6ac64f7020": {
      "model_module": "@jupyter-widgets/base",
      "model_module_version": "1.2.0",
      "model_name": "LayoutModel",
      "state": {}
     },
     "49ba7b548f814ab689204d5dd7bf45d1": {
      "model_module": "jupyter-matplotlib",
      "model_module_version": "^0.8.3",
      "model_name": "MPLCanvasModel",
      "state": {
       "layout": "IPY_MODEL_dae119453364408a9535be3c4dfdc6b9",
       "toolbar": "IPY_MODEL_35eb8ffb18204ee290dfa9d05268c055",
       "toolbar_position": "left"
      }
     },
     "49fcb6a5d39346ae8a5fe1bfb0f0db4f": {
      "model_module": "@jupyter-widgets/base",
      "model_module_version": "1.2.0",
      "model_name": "LayoutModel",
      "state": {}
     },
     "4b8251a841704843838812e95343f456": {
      "model_module": "jupyter-matplotlib",
      "model_module_version": "^0.8.3",
      "model_name": "MPLCanvasModel",
      "state": {
       "layout": "IPY_MODEL_567d3ee83d41419094472b6dad4153c4",
       "toolbar": "IPY_MODEL_06fdf96afe8c43ad9744f29dd90b2656",
       "toolbar_position": "left"
      }
     },
     "4d2797ccce76497da45cd50057f18f29": {
      "model_module": "@jupyter-widgets/base",
      "model_module_version": "1.2.0",
      "model_name": "LayoutModel",
      "state": {}
     },
     "561bb6c288b0481cb1b7e18388a800e5": {
      "model_module": "@jupyter-widgets/base",
      "model_module_version": "1.2.0",
      "model_name": "LayoutModel",
      "state": {}
     },
     "567d3ee83d41419094472b6dad4153c4": {
      "model_module": "@jupyter-widgets/base",
      "model_module_version": "1.2.0",
      "model_name": "LayoutModel",
      "state": {}
     },
     "58f6043cacb84714a12df1ec807b0171": {
      "model_module": "@jupyter-widgets/base",
      "model_module_version": "1.2.0",
      "model_name": "LayoutModel",
      "state": {}
     },
     "5f3da9ffc8204e89bf1de8531f5086fb": {
      "model_module": "@jupyter-widgets/base",
      "model_module_version": "1.2.0",
      "model_name": "LayoutModel",
      "state": {}
     },
     "6def7baebf0042b3b5733757721d0d3a": {
      "model_module": "@jupyter-widgets/base",
      "model_module_version": "1.2.0",
      "model_name": "LayoutModel",
      "state": {}
     },
     "6fd0ae4556be43a4a018819ccddae9d1": {
      "model_module": "jupyter-matplotlib",
      "model_module_version": "^0.8.3",
      "model_name": "MPLCanvasModel",
      "state": {
       "_cursor": "default",
       "_figure_label": "Figure 8",
       "_height": 720,
       "_message": "x=9.06967e-08  y=4.469",
       "_width": 1200,
       "layout": "IPY_MODEL_211f0a2b68dc4ce4b1ba5ce89b043f1d",
       "toolbar": "IPY_MODEL_09d88bbb4c1e4991b4a43501a26eac03",
       "toolbar_position": "left"
      }
     },
     "6ffc135a9ca241cc9fe04396297f0c1e": {
      "model_module": "jupyter-matplotlib",
      "model_module_version": "^0.8.3",
      "model_name": "ToolbarModel",
      "state": {
       "layout": "IPY_MODEL_dd585c4756f84823af64031df52ab35a",
       "toolitems": [
        [
         "Home",
         "Reset original view",
         "home",
         "home"
        ],
        [
         "Back",
         "Back to previous view",
         "arrow-left",
         "back"
        ],
        [
         "Forward",
         "Forward to next view",
         "arrow-right",
         "forward"
        ],
        [
         "Pan",
         "Left button pans, Right button zooms\nx/y fixes axis, CTRL fixes aspect",
         "arrows",
         "pan"
        ],
        [
         "Zoom",
         "Zoom to rectangle\nx/y fixes axis, CTRL fixes aspect",
         "square-o",
         "zoom"
        ],
        [
         "Download",
         "Download plot",
         "floppy-o",
         "save_figure"
        ]
       ]
      }
     },
     "80b3b469dace4955b20ba89b62c4881b": {
      "model_module": "jupyter-matplotlib",
      "model_module_version": "^0.8.3",
      "model_name": "ToolbarModel",
      "state": {
       "layout": "IPY_MODEL_f229a0556bfb480bb244e8823363582d",
       "toolitems": [
        [
         "Home",
         "Reset original view",
         "home",
         "home"
        ],
        [
         "Back",
         "Back to previous view",
         "arrow-left",
         "back"
        ],
        [
         "Forward",
         "Forward to next view",
         "arrow-right",
         "forward"
        ],
        [
         "Pan",
         "Left button pans, Right button zooms\nx/y fixes axis, CTRL fixes aspect",
         "arrows",
         "pan"
        ],
        [
         "Zoom",
         "Zoom to rectangle\nx/y fixes axis, CTRL fixes aspect",
         "square-o",
         "zoom"
        ],
        [
         "Download",
         "Download plot",
         "floppy-o",
         "save_figure"
        ]
       ]
      }
     },
     "8412d85faca74889a12d1d6359278023": {
      "model_module": "@jupyter-widgets/base",
      "model_module_version": "1.2.0",
      "model_name": "LayoutModel",
      "state": {}
     },
     "85e889e078384485b26eecd5ccf7245d": {
      "model_module": "jupyter-matplotlib",
      "model_module_version": "^0.8.3",
      "model_name": "MPLCanvasModel",
      "state": {
       "layout": "IPY_MODEL_5f3da9ffc8204e89bf1de8531f5086fb",
       "toolbar": "IPY_MODEL_116688d929e2422691c67f60b0e5de12",
       "toolbar_position": "left"
      }
     },
     "9c93ff85734c4fada4f17f776b8c9127": {
      "model_module": "jupyter-matplotlib",
      "model_module_version": "^0.8.3",
      "model_name": "ToolbarModel",
      "state": {
       "layout": "IPY_MODEL_4d2797ccce76497da45cd50057f18f29",
       "toolitems": [
        [
         "Home",
         "Reset original view",
         "home",
         "home"
        ],
        [
         "Back",
         "Back to previous view",
         "arrow-left",
         "back"
        ],
        [
         "Forward",
         "Forward to next view",
         "arrow-right",
         "forward"
        ],
        [
         "Pan",
         "Left button pans, Right button zooms\nx/y fixes axis, CTRL fixes aspect",
         "arrows",
         "pan"
        ],
        [
         "Zoom",
         "Zoom to rectangle\nx/y fixes axis, CTRL fixes aspect",
         "square-o",
         "zoom"
        ],
        [
         "Download",
         "Download plot",
         "floppy-o",
         "save_figure"
        ]
       ]
      }
     },
     "a35515b7fdbd4ef6a51cdb07b5346f8d": {
      "model_module": "jupyter-matplotlib",
      "model_module_version": "^0.8.3",
      "model_name": "ToolbarModel",
      "state": {
       "layout": "IPY_MODEL_6def7baebf0042b3b5733757721d0d3a",
       "toolitems": [
        [
         "Home",
         "Reset original view",
         "home",
         "home"
        ],
        [
         "Back",
         "Back to previous view",
         "arrow-left",
         "back"
        ],
        [
         "Forward",
         "Forward to next view",
         "arrow-right",
         "forward"
        ],
        [
         "Pan",
         "Left button pans, Right button zooms\nx/y fixes axis, CTRL fixes aspect",
         "arrows",
         "pan"
        ],
        [
         "Zoom",
         "Zoom to rectangle\nx/y fixes axis, CTRL fixes aspect",
         "square-o",
         "zoom"
        ],
        [
         "Download",
         "Download plot",
         "floppy-o",
         "save_figure"
        ]
       ]
      }
     },
     "a6333c5db3b344d3937eca517e7e8e94": {
      "model_module": "jupyter-matplotlib",
      "model_module_version": "^0.8.3",
      "model_name": "ToolbarModel",
      "state": {
       "layout": "IPY_MODEL_0b2057ffbc8444148a946f0a4388252a",
       "toolitems": [
        [
         "Home",
         "Reset original view",
         "home",
         "home"
        ],
        [
         "Back",
         "Back to previous view",
         "arrow-left",
         "back"
        ],
        [
         "Forward",
         "Forward to next view",
         "arrow-right",
         "forward"
        ],
        [
         "Pan",
         "Left button pans, Right button zooms\nx/y fixes axis, CTRL fixes aspect",
         "arrows",
         "pan"
        ],
        [
         "Zoom",
         "Zoom to rectangle\nx/y fixes axis, CTRL fixes aspect",
         "square-o",
         "zoom"
        ],
        [
         "Download",
         "Download plot",
         "floppy-o",
         "save_figure"
        ]
       ]
      }
     },
     "a92c05a09862400b85e5bb9af449b175": {
      "model_module": "@jupyter-widgets/base",
      "model_module_version": "1.2.0",
      "model_name": "LayoutModel",
      "state": {}
     },
     "aa10375846134c0db158125550f5dff9": {
      "model_module": "jupyter-matplotlib",
      "model_module_version": "^0.8.3",
      "model_name": "MPLCanvasModel",
      "state": {
       "layout": "IPY_MODEL_f47485e7534442468d42eef22f63e6d2",
       "toolbar": "IPY_MODEL_9c93ff85734c4fada4f17f776b8c9127",
       "toolbar_position": "left"
      }
     },
     "dae119453364408a9535be3c4dfdc6b9": {
      "model_module": "@jupyter-widgets/base",
      "model_module_version": "1.2.0",
      "model_name": "LayoutModel",
      "state": {}
     },
     "dd585c4756f84823af64031df52ab35a": {
      "model_module": "@jupyter-widgets/base",
      "model_module_version": "1.2.0",
      "model_name": "LayoutModel",
      "state": {}
     },
     "f229a0556bfb480bb244e8823363582d": {
      "model_module": "@jupyter-widgets/base",
      "model_module_version": "1.2.0",
      "model_name": "LayoutModel",
      "state": {}
     },
     "f47485e7534442468d42eef22f63e6d2": {
      "model_module": "@jupyter-widgets/base",
      "model_module_version": "1.2.0",
      "model_name": "LayoutModel",
      "state": {}
     },
     "f7922e9622844c9885e132c17e243e40": {
      "model_module": "@jupyter-widgets/base",
      "model_module_version": "1.2.0",
      "model_name": "LayoutModel",
      "state": {}
     },
     "fa3c58c20b5645e4a0a56ee2d82c0291": {
      "model_module": "jupyter-matplotlib",
      "model_module_version": "^0.8.3",
      "model_name": "MPLCanvasModel",
      "state": {
       "layout": "IPY_MODEL_3fa59ab4c0f64e98a01ba84a6dc2e4b6",
       "toolbar": "IPY_MODEL_a35515b7fdbd4ef6a51cdb07b5346f8d",
       "toolbar_position": "left"
      }
     }
    },
    "version_major": 2,
    "version_minor": 0
   }
  }
 },
 "nbformat": 4,
 "nbformat_minor": 4
}
