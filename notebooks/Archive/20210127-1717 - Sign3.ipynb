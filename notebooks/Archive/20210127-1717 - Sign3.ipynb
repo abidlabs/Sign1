{
 "cells": [
  {
   "cell_type": "markdown",
   "metadata": {},
   "source": [
    "# ASL Alphabet Classifier Test"
   ]
  },
  {
   "cell_type": "markdown",
   "metadata": {},
   "source": [
    "\n",
    "### The goal of this Sign2 variation is to experiment with using Mixup Regularization\n",
    "(See \"mixup: Beyond Empirical Risk Minimization\" - Hongyi Zhang, Moustapha Cisse, Yann N. Dauphin, David Lopez-Pazj, 2018;  https://arxiv.org/abs/1710.09412) \n",
    "\n",
    "<br>\n",
    "\n",
    "#### Datasource: \n",
    "<a href=\"https://www.kaggle.com/grassknoted/asl-alphabet\">https://www.kaggle.com/grassknoted/asl-alphabet</a>\n",
    "\n",
    "<br>\n",
    "\n",
    "This is a prototype, playing with FastAI using Resnet34 to classify American Sign Language alphabet.  It's basically Notebook #2 from the MOOC on a \"clean\" dataset.  We get great results ... but the data is really contrived.  It's highly likely the model will overfit, however it's a good test of the library.\n",
    "<br>\n",
    "<br>\n",
    "### Data Wrangling info\n",
    "The data has been reorganized to put sign images in labelled directories, making it easy to import and sort.\n",
    "We use 2 main data directories and concatenate them together.  the 2nd dataset consists of personally captured images, created using the same notebook that does inference.  We capture every frame of a video and automatically place them in the chosen directory.  The notebook will create the main directory and the label-directory if they don't exist.\n",
    "\n",
    "<img src=\"../docs/images/2021-01-13_00-57.png\"><br>"
   ]
  },
  {
   "cell_type": "markdown",
   "metadata": {},
   "source": [
    "<br>\n",
    "<br>\n",
    "<HR/>\n",
    "<br>\n",
    "<br>"
   ]
  },
  {
   "cell_type": "markdown",
   "metadata": {},
   "source": [
    "## Run Notes\n",
    "\n",
    "* data: 800 external , 300 frank\n",
    "* augmentation True\n",
    "* Label Smoothing  Cross-Entropy Loss\n",
    "* pretrained = false\n",
    "* CROP not bilinear\n"
   ]
  },
  {
   "cell_type": "code",
   "execution_count": 1,
   "metadata": {
    "execution": {
     "iopub.execute_input": "2021-01-28T01:17:27.039354Z",
     "iopub.status.busy": "2021-01-28T01:17:27.039104Z",
     "iopub.status.idle": "2021-01-28T01:17:28.439011Z",
     "shell.execute_reply": "2021-01-28T01:17:28.438597Z",
     "shell.execute_reply.started": "2021-01-28T01:17:27.039292Z"
    }
   },
   "outputs": [
    {
     "name": "stdout",
     "output_type": "stream",
     "text": [
      "RUN_NAME = '20210127-1717 - arch=xresnet50 - samples=1100 frozen=1 epochs=20 bs=28 res=280 _data=combined2'\n",
      "env: WANDB_WATCH=false\n"
     ]
    }
   ],
   "source": [
    "from datetime import datetime\n",
    "from fastbook import *\n",
    "from fastai.vision.all import *\n",
    "from fastai.vision.widgets import *\n",
    "import fastai\n",
    "\n",
    "\n",
    "\n",
    "ARCH = xresnet50  # resnet101\n",
    "\n",
    "CHOSEN_SAMPLE_SIZE = 1100  # use this to control per-category sample sizes # 1000\n",
    "TEST_SET_SIZE = round(CHOSEN_SAMPLE_SIZE * 0.2)  # number of images per category to put in the test set\n",
    "\n",
    "remove_from_sample = {\n",
    "#     'A': 0.5,\n",
    "#     'B': 0.6,\n",
    "#     'C': 0.5,\n",
    "#     'D': 0.4,\n",
    "#     'E': 0.9,\n",
    "# #     'L': 0.7,\n",
    "#     'M': 0.8,\n",
    "# #     'N': 0.9,\n",
    "# #     'O': 0.75,\n",
    "#     'Q': 0.75,\n",
    "#     'R': 0.4,\n",
    "#     'Y': 0.8 \n",
    "    \n",
    "#     'A': 0.7,\n",
    "#     'C': 0.5,\n",
    "#     'G': 0.7,\n",
    "\n",
    "#     'H': 0.5\n",
    "#     'V': 0.7\n",
    "}  # fractions of original samples to keep\n",
    "\n",
    "FROZEN_EPOCHS = 1  # 1\n",
    "EPOCHS = 30  # 4\n",
    "BATCH_SIZE = 28  # 16\n",
    "RESOLUTION = 280  # 300\n",
    "\n",
    "PRETRAINED_FLAG = True\n",
    "\n",
    "data = 'combined2'\n",
    "rn_addon = f'_data={data}'\n",
    "time = datetime.today().strftime(\"%Y%m%d-%H%M\")\n",
    "\n",
    "RUN_NAME = f'{time} - arch={ARCH.__name__} - samples={CHOSEN_SAMPLE_SIZE} frozen={FROZEN_EPOCHS} epochs={EPOCHS} bs={BATCH_SIZE} res={RESOLUTION} {rn_addon}'\n",
    "print(f\"RUN_NAME = '{RUN_NAME}'\")\n",
    "\n",
    "\n",
    "\n",
    "\n",
    "import matplotlib.pyplot as plt\n",
    "import matplotlib.ticker as ticker\n",
    "# %matplotlib inline\n",
    "%matplotlib widget\n",
    "plt.rcParams['figure.figsize'] = [10, 6]\n",
    "plt.rcParams['figure.dpi'] = 120\n",
    "plt.style.use('dark_background')\n",
    "\n",
    "%env WANDB_WATCH=false\n",
    "\n",
    "import wandb\n",
    "from fastai.callback.wandb import *\n",
    "\n",
    "wandb.init(project=\"asl-sign-language-recognition\", mode='disabled')\n",
    "wandb.run.name = RUN_NAME\n",
    "\n"
   ]
  },
  {
   "cell_type": "code",
   "execution_count": 2,
   "metadata": {
    "execution": {
     "iopub.execute_input": "2021-01-28T01:17:28.439869Z",
     "iopub.status.busy": "2021-01-28T01:17:28.439760Z",
     "iopub.status.idle": "2021-01-28T01:17:28.441948Z",
     "shell.execute_reply": "2021-01-28T01:17:28.441545Z",
     "shell.execute_reply.started": "2021-01-28T01:17:28.439858Z"
    }
   },
   "outputs": [],
   "source": [
    "# path = '../data/external/Training_Set'\n",
    "path = f'../data/{data}/Training_Set'\n",
    "# path2 = '../data/frank-ledlights-L'\n",
    "path2 = None"
   ]
  },
  {
   "cell_type": "markdown",
   "metadata": {},
   "source": [
    "<br>\n",
    "<br>"
   ]
  },
  {
   "cell_type": "markdown",
   "metadata": {},
   "source": [
    "## Check for an available GPU"
   ]
  },
  {
   "cell_type": "code",
   "execution_count": 3,
   "metadata": {
    "execution": {
     "iopub.execute_input": "2021-01-28T01:17:28.442566Z",
     "iopub.status.busy": "2021-01-28T01:17:28.442459Z",
     "iopub.status.idle": "2021-01-28T01:17:28.448286Z",
     "shell.execute_reply": "2021-01-28T01:17:28.447829Z",
     "shell.execute_reply.started": "2021-01-28T01:17:28.442556Z"
    }
   },
   "outputs": [
    {
     "name": "stdout",
     "output_type": "stream",
     "text": [
      "CUDA available:              True\n",
      "CUDA device count:           1\n",
      "Current CUDA Device index:   0\n",
      "Current CUDA Device:         GeForce RTX 2070 SUPER\n",
      "\n",
      "fastai version:              2.2.5\n",
      "cuda version:                11.0\n",
      "torch version:               1.7.0\n"
     ]
    }
   ],
   "source": [
    "import torch\n",
    "print('CUDA available: '.ljust(28), torch.cuda.is_available())\n",
    "print('CUDA device count: '.ljust(28), torch.cuda.device_count())\n",
    "\n",
    "current_device = torch.cuda.current_device()\n",
    "print('Current CUDA Device index: '.ljust(28), current_device)\n",
    "# torch.cuda.device(current_device)\n",
    "print('Current CUDA Device: '.ljust(28), torch.cuda.get_device_name(current_device))\n",
    "print()\n",
    "# print('CUDA available: '.ljust(24), torch.cuda.is_available())\n",
    "print(f'fastai version:              {fastai.__version__}')\n",
    "# print(f'fastcore version:            {fastcore.__version__}')\n",
    "# print(f'fastbook version:            {fastbook.__version__}')\n",
    "print(f'cuda version:                {torch.version.cuda}')\n",
    "print(f'torch version:               {torch.__version__}')\n",
    "# print(f'python version:              {python_version()}')"
   ]
  },
  {
   "cell_type": "markdown",
   "metadata": {},
   "source": [
    "<br>\n",
    "<br>"
   ]
  },
  {
   "cell_type": "markdown",
   "metadata": {},
   "source": [
    "### Check for Dataset Imbalance"
   ]
  },
  {
   "cell_type": "code",
   "execution_count": 4,
   "metadata": {
    "execution": {
     "iopub.execute_input": "2021-01-28T01:17:28.449100Z",
     "iopub.status.busy": "2021-01-28T01:17:28.448927Z",
     "iopub.status.idle": "2021-01-28T01:17:28.604335Z",
     "shell.execute_reply": "2021-01-28T01:17:28.603874Z",
     "shell.execute_reply.started": "2021-01-28T01:17:28.449084Z"
    }
   },
   "outputs": [
    {
     "name": "stdout",
     "output_type": "stream",
     "text": [
      "\n",
      "Character with the most images:   A,   with 1100 images\n",
      "Character with the least images:  A,   with 1100 images\n",
      "Average number of images:         1100\n"
     ]
    }
   ],
   "source": [
    "from string import ascii_uppercase\n",
    "import numpy as np\n",
    "import operator\n",
    "\n",
    "\n",
    "\n",
    "\n",
    "image_files = {}\n",
    "image_files_qty = {}\n",
    "\n",
    "# loop through all the characters to build dictionaries of image files and quartity of each category\n",
    "for c, i in zip(ascii_uppercase, np.arange(len(ascii_uppercase))):\n",
    "    image_files[c] = get_image_files(path + f'/{c}')\n",
    "    if path2 != None:\n",
    "        image_files[c] += get_image_files(path2 + f'/{c}')\n",
    "\n",
    "        \n",
    "    l = len(image_files[c])\n",
    "    image_files_qty[c] = l\n",
    "    \n",
    "# custom code since we don't use 'Z'\n",
    "image_files.pop('J')\n",
    "image_files_qty.pop('J')\n",
    "image_files.pop('Z')\n",
    "image_files_qty.pop('Z')\n",
    "\n",
    "# Get the character with the largest and smallest number of entries\n",
    "maxqc = max(image_files_qty, key=image_files_qty.get)\n",
    "minqc = min(image_files_qty, key=image_files_qty.get)\n",
    "\n",
    "\n",
    "print()\n",
    "print(f'Character with the most images:   {maxqc},   with {image_files_qty[maxqc]} images')\n",
    "print(f'Character with the least images:  {minqc},   with {image_files_qty[minqc]} images')\n",
    "print(f'Average number of images:         {round(np.mean(list(image_files_qty.values())))}')\n",
    "\n"
   ]
  },
  {
   "cell_type": "markdown",
   "metadata": {},
   "source": [
    "<br>\n",
    "<br>"
   ]
  },
  {
   "cell_type": "markdown",
   "metadata": {},
   "source": [
    "<br>\n",
    "<br>"
   ]
  },
  {
   "cell_type": "markdown",
   "metadata": {},
   "source": [
    "# Data Preparation and EDA"
   ]
  },
  {
   "cell_type": "markdown",
   "metadata": {},
   "source": [
    "## Display the number of image files for each category"
   ]
  },
  {
   "cell_type": "code",
   "execution_count": 5,
   "metadata": {
    "execution": {
     "iopub.execute_input": "2021-01-28T01:17:28.604916Z",
     "iopub.status.busy": "2021-01-28T01:17:28.604810Z",
     "iopub.status.idle": "2021-01-28T01:17:28.639906Z",
     "shell.execute_reply": "2021-01-28T01:17:28.639543Z",
     "shell.execute_reply.started": "2021-01-28T01:17:28.604905Z"
    }
   },
   "outputs": [
    {
     "data": {
      "application/vnd.jupyter.widget-view+json": {
       "model_id": "89368d40408d43caa0b5602ec02f98c9",
       "version_major": 2,
       "version_minor": 0
      },
      "text/plain": [
       "Canvas(toolbar=Toolbar(toolitems=[('Home', 'Reset original view', 'home', 'home'), ('Back', 'Back to previous …"
      ]
     },
     "metadata": {},
     "output_type": "display_data"
    }
   ],
   "source": [
    "# plt.hist(image_files_qty.items)\n",
    "plt.figure(figsize=(6,3))\n",
    "plt.bar(image_files_qty.keys(), image_files_qty.values())\n",
    "plt.axhline(CHOSEN_SAMPLE_SIZE, ls='--', color='r', label='Per-Category Sample Size')\n",
    "plt.xlabel('Hand Sign Categories')\n",
    "plt.ylabel('Sample Size')\n",
    "plt.legend();"
   ]
  },
  {
   "cell_type": "markdown",
   "metadata": {},
   "source": [
    "<br>\n",
    "<br>"
   ]
  },
  {
   "cell_type": "markdown",
   "metadata": {},
   "source": [
    "### Balance the Dataset with Oversampling or Undersampling\n",
    "\n",
    "Sampled size is modulated by variable `CHOSEN_SAMPLE_SIZE` and will oversample or undersample (or both) depending on the amount of data available vs the chosen sample size"
   ]
  },
  {
   "cell_type": "code",
   "execution_count": 6,
   "metadata": {
    "execution": {
     "iopub.execute_input": "2021-01-28T01:17:28.640483Z",
     "iopub.status.busy": "2021-01-28T01:17:28.640378Z",
     "iopub.status.idle": "2021-01-28T01:17:28.667001Z",
     "shell.execute_reply": "2021-01-28T01:17:28.666597Z",
     "shell.execute_reply.started": "2021-01-28T01:17:28.640472Z"
    }
   },
   "outputs": [],
   "source": [
    "import pandas as pd\n",
    "\n",
    "maxq = image_files_qty[maxqc] # the quantity of the largest category\n",
    "minq = image_files_qty[minqc] # the quantity of the smallest category\n",
    "\n",
    "# all_image_files = pd.DataFrame(columns=[0])  # holds all the image files in one dataframe\n",
    "train_image_files = {}\n",
    "test_image_files = pd.DataFrame()\n",
    "\n",
    "for char, q in iter(image_files_qty.items()):\n",
    "    df = pd.DataFrame(data=list(image_files[char]), columns=[0])  # create a dataframe from each list\n",
    "    \n",
    "\n",
    "    # undersample or over sample as needed\n",
    "    if len(df) >= CHOSEN_SAMPLE_SIZE:\n",
    "        df = df.sample(CHOSEN_SAMPLE_SIZE, replace=False)  # undersample\n",
    "    else:\n",
    "        delta = CHOSEN_SAMPLE_SIZE - len(df)\n",
    "        df = pd.concat([df, df.sample(delta, replace=(delta > len(df)))], ignore_index=True)  # oversample\n",
    "        \n",
    "    # siphon off the test set\n",
    "    _tif = df[0].sample(TEST_SET_SIZE, replace=False)\n",
    "    test_image_files[char] = _tif.reset_index(drop=True)\n",
    "    \n",
    "    # form  the training set\n",
    "    train_image_files[char] = df[0].drop(_tif.index)\n",
    "       \n",
    "test_image_files = test_image_files.sample(frac=1)  # shuffle - training set is shuffled later"
   ]
  },
  {
   "cell_type": "markdown",
   "metadata": {},
   "source": [
    "<br>\n",
    "<br>"
   ]
  },
  {
   "cell_type": "markdown",
   "metadata": {},
   "source": [
    "### Ensure the Dataset is Balanced"
   ]
  },
  {
   "cell_type": "code",
   "execution_count": 7,
   "metadata": {
    "execution": {
     "iopub.execute_input": "2021-01-28T01:17:28.668089Z",
     "iopub.status.busy": "2021-01-28T01:17:28.667976Z",
     "iopub.status.idle": "2021-01-28T01:17:28.695793Z",
     "shell.execute_reply": "2021-01-28T01:17:28.695438Z",
     "shell.execute_reply.started": "2021-01-28T01:17:28.668078Z"
    }
   },
   "outputs": [
    {
     "data": {
      "application/vnd.jupyter.widget-view+json": {
       "model_id": "167980776d994b04848d46d04f3de43d",
       "version_major": 2,
       "version_minor": 0
      },
      "text/plain": [
       "Canvas(toolbar=Toolbar(toolitems=[('Home', 'Reset original view', 'home', 'home'), ('Back', 'Back to previous …"
      ]
     },
     "metadata": {},
     "output_type": "display_data"
    }
   ],
   "source": [
    "plt.figure(figsize=(6,3))\n",
    "plt.bar(train_image_files.keys(), [len(l) for l in train_image_files.values()])\n",
    "# plt.ylim(0, CHOSEN_SAMPLE_SIZE)\n",
    "plt.axhline(CHOSEN_SAMPLE_SIZE, ls='--', color='r', label='Original Sample Size')\n",
    "plt.xlabel('Hand Sign Categories')\n",
    "plt.ylabel('Sample Size of Training Set')\n",
    "plt.legend();"
   ]
  },
  {
   "cell_type": "markdown",
   "metadata": {},
   "source": [
    "<br>\n",
    "<br>"
   ]
  },
  {
   "cell_type": "markdown",
   "metadata": {},
   "source": [
    "### Check the  Test Set"
   ]
  },
  {
   "cell_type": "code",
   "execution_count": 8,
   "metadata": {
    "execution": {
     "iopub.execute_input": "2021-01-28T01:17:28.696531Z",
     "iopub.status.busy": "2021-01-28T01:17:28.696425Z",
     "iopub.status.idle": "2021-01-28T01:17:28.728787Z",
     "shell.execute_reply": "2021-01-28T01:17:28.728425Z",
     "shell.execute_reply.started": "2021-01-28T01:17:28.696519Z"
    }
   },
   "outputs": [
    {
     "data": {
      "application/vnd.jupyter.widget-view+json": {
       "model_id": "dadec4ad2a784a5590afb96360ff9252",
       "version_major": 2,
       "version_minor": 0
      },
      "text/plain": [
       "Canvas(toolbar=Toolbar(toolitems=[('Home', 'Reset original view', 'home', 'home'), ('Back', 'Back to previous …"
      ]
     },
     "metadata": {},
     "output_type": "display_data"
    }
   ],
   "source": [
    "fig, ax = plt.subplots(figsize=(6,3))\n",
    "ax.bar(test_image_files.count().index, test_image_files.count() / CHOSEN_SAMPLE_SIZE * 100)\n",
    "ax.axhline(100, ls='--', color='r', label='Original Sample')\n",
    "plt.xlabel('Hand Sign Categories')\n",
    "plt.ylabel('Test Sample (%)')\n",
    "formatter = ticker.PercentFormatter()\n",
    "ax.yaxis.set_major_formatter(formatter)\n",
    "plt.legend(loc=(0.5,0.75));"
   ]
  },
  {
   "cell_type": "markdown",
   "metadata": {},
   "source": [
    "<br>\n",
    "<br>"
   ]
  },
  {
   "cell_type": "markdown",
   "metadata": {},
   "source": [
    "### Deliberately Adjust the Sample Size of Certain Categories to Fine Tune the Model\n",
    "Because the data is so easy to overfit and because we see certain categories fitting faster/stronger than others - causing the model to always select those categories... we try to balance that effect by decreasing the number of samples."
   ]
  },
  {
   "cell_type": "code",
   "execution_count": 9,
   "metadata": {
    "execution": {
     "iopub.execute_input": "2021-01-28T01:17:28.729332Z",
     "iopub.status.busy": "2021-01-28T01:17:28.729226Z",
     "iopub.status.idle": "2021-01-28T01:17:28.731853Z",
     "shell.execute_reply": "2021-01-28T01:17:28.731504Z",
     "shell.execute_reply.started": "2021-01-28T01:17:28.729321Z"
    }
   },
   "outputs": [],
   "source": [
    "for key in remove_from_sample:\n",
    "    train_image_files[key] = np.random.choice(train_image_files[key], \\\n",
    "                        int(remove_from_sample[key] * len(train_image_files[key])), replace=False)"
   ]
  },
  {
   "cell_type": "markdown",
   "metadata": {},
   "source": [
    "<br>\n",
    "<br>"
   ]
  },
  {
   "cell_type": "markdown",
   "metadata": {},
   "source": [
    "### Check that the Training Dataset has been Appropriately Altered"
   ]
  },
  {
   "cell_type": "code",
   "execution_count": 10,
   "metadata": {
    "execution": {
     "iopub.execute_input": "2021-01-28T01:17:28.732327Z",
     "iopub.status.busy": "2021-01-28T01:17:28.732226Z",
     "iopub.status.idle": "2021-01-28T01:17:28.735426Z",
     "shell.execute_reply": "2021-01-28T01:17:28.735075Z",
     "shell.execute_reply.started": "2021-01-28T01:17:28.732317Z"
    }
   },
   "outputs": [
    {
     "name": "stdout",
     "output_type": "stream",
     "text": [
      "\n",
      "No dataset alterations were selected.\n"
     ]
    }
   ],
   "source": [
    "if remove_from_sample != {}:\n",
    "    plt.bar(train_image_files.keys(), [len(l) for l in train_image_files.values()])\n",
    "    plt.xlabel('Hand Sign Categories')\n",
    "    plt.ylabel('Sample Size')\n",
    "    \n",
    "else:\n",
    "    print('\\nNo dataset alterations were selected.')"
   ]
  },
  {
   "cell_type": "markdown",
   "metadata": {},
   "source": [
    "<br>\n",
    "<hr/>\n",
    "<br>\n",
    "<br>\n",
    "<br>\n",
    "\n",
    "## Model Creation and Training\n",
    "\n",
    "<br>"
   ]
  },
  {
   "cell_type": "markdown",
   "metadata": {},
   "source": [
    "<br>\n",
    "\n",
    "### Create the DataBlock, while Resizing and Augmenting"
   ]
  },
  {
   "cell_type": "code",
   "execution_count": 11,
   "metadata": {
    "execution": {
     "iopub.execute_input": "2021-01-28T01:17:28.735988Z",
     "iopub.status.busy": "2021-01-28T01:17:28.735886Z",
     "iopub.status.idle": "2021-01-28T01:17:28.741096Z",
     "shell.execute_reply": "2021-01-28T01:17:28.740692Z",
     "shell.execute_reply.started": "2021-01-28T01:17:28.735978Z"
    }
   },
   "outputs": [],
   "source": [
    "import random\n",
    "\n",
    "# Needed to pass into the DataBlock    \n",
    "def get_fnames(path): \n",
    "    retlist = []\n",
    "\n",
    "    for arr in train_image_files.values():\n",
    "        for f in arr:\n",
    "            retlist.append(f)\n",
    "        \n",
    "    return random.sample(retlist, len(retlist))\n",
    "        \n",
    "\n",
    "    \n",
    "    \n",
    "    \n",
    "signs = DataBlock(\n",
    "    blocks=(ImageBlock, CategoryBlock), \n",
    "    get_items=get_fnames, \n",
    "    splitter=RandomSplitter(valid_pct=0.25, seed=42),\n",
    "    get_y=parent_label,\n",
    "#     item_tfms=Resize(RESOLUTION, method='bilinear') #,\n",
    "\n",
    "    item_tfms=CropPad(RESOLUTION, pad_mode='zeros')\n",
    "  ,    batch_tfms=aug_transforms(do_flip=True, size=RESOLUTION, batch=False, max_zoom=1.2, mult=1.5, pad_mode='zeros'))\n"
   ]
  },
  {
   "cell_type": "markdown",
   "metadata": {},
   "source": [
    "<br>\n",
    "<br>"
   ]
  },
  {
   "cell_type": "markdown",
   "metadata": {},
   "source": [
    "<br>\n",
    "\n",
    "### Load the Data by Path"
   ]
  },
  {
   "cell_type": "code",
   "execution_count": 12,
   "metadata": {
    "execution": {
     "iopub.execute_input": "2021-01-28T01:17:28.741836Z",
     "iopub.status.busy": "2021-01-28T01:17:28.741681Z",
     "iopub.status.idle": "2021-01-28T01:17:31.081111Z",
     "shell.execute_reply": "2021-01-28T01:17:31.080717Z",
     "shell.execute_reply.started": "2021-01-28T01:17:28.741821Z"
    }
   },
   "outputs": [],
   "source": [
    "dls = signs.dataloaders(path, bs=BATCH_SIZE)\n",
    "# wandb.log({'dataset':'../data/external/Training Set'})"
   ]
  },
  {
   "cell_type": "markdown",
   "metadata": {},
   "source": [
    "<br>\n",
    "\n",
    "### Verify the Training and Validation Batches"
   ]
  },
  {
   "cell_type": "code",
   "execution_count": 13,
   "metadata": {
    "execution": {
     "iopub.execute_input": "2021-01-28T01:17:31.081710Z",
     "iopub.status.busy": "2021-01-28T01:17:31.081604Z",
     "iopub.status.idle": "2021-01-28T01:17:31.272629Z",
     "shell.execute_reply": "2021-01-28T01:17:31.272293Z",
     "shell.execute_reply.started": "2021-01-28T01:17:31.081699Z"
    }
   },
   "outputs": [
    {
     "data": {
      "application/vnd.jupyter.widget-view+json": {
       "model_id": "9f97e533a21f46988d2e13a4fabdd154",
       "version_major": 2,
       "version_minor": 0
      },
      "text/plain": [
       "Canvas(toolbar=Toolbar(toolitems=[('Home', 'Reset original view', 'home', 'home'), ('Back', 'Back to previous …"
      ]
     },
     "metadata": {},
     "output_type": "display_data"
    }
   ],
   "source": [
    "dls.train.show_batch(max_n=9)"
   ]
  },
  {
   "cell_type": "markdown",
   "metadata": {},
   "source": [
    "<br>\n",
    "<br>"
   ]
  },
  {
   "cell_type": "markdown",
   "metadata": {
    "execution": {
     "iopub.execute_input": "2020-09-26T12:47:39.994667Z",
     "iopub.status.busy": "2020-09-26T12:47:39.994388Z",
     "iopub.status.idle": "2020-09-26T12:47:39.999492Z",
     "shell.execute_reply": "2020-09-26T12:47:39.998668Z",
     "shell.execute_reply.started": "2020-09-26T12:47:39.994592Z"
    }
   },
   "source": [
    "<br>\n",
    "<br>\n",
    "<br>\n",
    "\n",
    "## Create Callbacks"
   ]
  },
  {
   "cell_type": "code",
   "execution_count": 14,
   "metadata": {
    "execution": {
     "iopub.execute_input": "2021-01-28T01:17:31.273249Z",
     "iopub.status.busy": "2021-01-28T01:17:31.273105Z",
     "iopub.status.idle": "2021-01-28T01:17:31.277516Z",
     "shell.execute_reply": "2021-01-28T01:17:31.277131Z",
     "shell.execute_reply.started": "2021-01-28T01:17:31.273234Z"
    }
   },
   "outputs": [
    {
     "name": "stdout",
     "output_type": "stream",
     "text": [
      "\n",
      "All Callbacks:  [ShowGraphCallback, SaveModelCallback, EarlyStoppingCallback]\n"
     ]
    }
   ],
   "source": [
    "# Eary stopping callback\n",
    "early_stop_cb = EarlyStoppingCallback(monitor='error_rate', min_delta=0.0001, patience=4)\n",
    "\n",
    "# Save the current model's weights every epoch\n",
    "save_cb = SaveModelCallback(fname=RUN_NAME, every_epoch=True, with_opt=True)\n",
    "\n",
    "# Wandb Callback for logging\n",
    "wandb_cb = WandbCallback(log='all', log_dataset=False)  #, log_dataset=True)\n",
    "\n",
    "# Mixup callback for regularization\n",
    "# mixup_cb = MixUp(alpha=0.2)\n",
    "mixup_cb = None\n",
    "\n",
    "# Cutmix callback for regularization\n",
    "#cutmix_cb = CutMix(alpha=0.4)\n",
    "cutmix_cb = None\n",
    "\n",
    "\n",
    "# List of callbacks to be used later\n",
    "cbs = [ShowGraphCallback(), save_cb, early_stop_cb]\n",
    "\n",
    "if mixup_cb != None:\n",
    "    cbs.insert(0, mixup_cb)\n",
    "    \n",
    "if cutmix_cb != None:\n",
    "    cbs.insert(0, cutmix_cb)\n",
    "\n",
    "print('\\nAll Callbacks: ', cbs)"
   ]
  },
  {
   "cell_type": "markdown",
   "metadata": {},
   "source": [
    "<br>\n",
    "<br>"
   ]
  },
  {
   "cell_type": "markdown",
   "metadata": {},
   "source": [
    "### Visualize the effect of CutMix\n"
   ]
  },
  {
   "cell_type": "code",
   "execution_count": 15,
   "metadata": {
    "execution": {
     "iopub.execute_input": "2021-01-28T01:17:31.278262Z",
     "iopub.status.busy": "2021-01-28T01:17:31.278107Z",
     "iopub.status.idle": "2021-01-28T01:17:31.282849Z",
     "shell.execute_reply": "2021-01-28T01:17:31.282522Z",
     "shell.execute_reply.started": "2021-01-28T01:17:31.278246Z"
    }
   },
   "outputs": [
    {
     "name": "stdout",
     "output_type": "stream",
     "text": [
      "\n",
      " CutMix was not selected.\n"
     ]
    }
   ],
   "source": [
    "if cutmix_cb != None:\n",
    "    with Learner(dls, nn.Linear(3,4), loss_func=CrossEntropyLossFlat(), cbs=cutmix_cb) as learn:\n",
    "        learn.epoch,learn.training = 0,True\n",
    "        learn.dl = dls.train\n",
    "        b = dls.one_batch()\n",
    "        learn._split(b)\n",
    "        learn('before_batch')\n",
    "\n",
    "    _,axs = plt.subplots(3,3, figsize=(9,9))\n",
    "    dls.show_batch(b=(cutmix_cb.x,cutmix_cb.y), ctxs=axs.flatten())\n",
    "    \n",
    "else: print('\\n CutMix was not selected.')"
   ]
  },
  {
   "cell_type": "markdown",
   "metadata": {},
   "source": [
    "<br>\n",
    "\n",
    "### Visualize the Effect of MixUp\n",
    "\n",
    "MixUp creates a linear interpolation between the target data and another datapoint.  In images, it shows up as ghostly figures.  The technique has been shown to be a good to decrease the liklihood of overfitting."
   ]
  },
  {
   "cell_type": "code",
   "execution_count": 16,
   "metadata": {
    "execution": {
     "iopub.execute_input": "2021-01-28T01:17:31.283374Z",
     "iopub.status.busy": "2021-01-28T01:17:31.283270Z",
     "iopub.status.idle": "2021-01-28T01:17:31.286820Z",
     "shell.execute_reply": "2021-01-28T01:17:31.286461Z",
     "shell.execute_reply.started": "2021-01-28T01:17:31.283364Z"
    }
   },
   "outputs": [
    {
     "name": "stdout",
     "output_type": "stream",
     "text": [
      "\n",
      " MixUp was not selected.\n"
     ]
    }
   ],
   "source": [
    "if mixup_cb != None:\n",
    "    with Learner(dls, nn.Linear(3,4), loss_func=CrossEntropyLossFlat(), cbs=mixup_cb) as learn:\n",
    "        learn.epoch,learn.training = 0,True\n",
    "        learn.dl = dls.train\n",
    "        b = dls.one_batch()\n",
    "        learn._split(b)\n",
    "        learn('before_batch')\n",
    "\n",
    "    _,axs = plt.subplots(3,3, figsize=(9,9))\n",
    "    dls.show_batch(b=(mixup_cb.x,mixup_cb.y), ctxs=axs.flatten())\n",
    "\n",
    "else: print('\\n MixUp was not selected.')"
   ]
  },
  {
   "cell_type": "markdown",
   "metadata": {},
   "source": [
    "<br>\n",
    "<br>"
   ]
  },
  {
   "cell_type": "markdown",
   "metadata": {},
   "source": [
    "<br>\n",
    "<br>"
   ]
  },
  {
   "cell_type": "markdown",
   "metadata": {},
   "source": [
    "# Model Creation"
   ]
  },
  {
   "cell_type": "markdown",
   "metadata": {},
   "source": [
    "## Define the model and fit"
   ]
  },
  {
   "cell_type": "code",
   "execution_count": 17,
   "metadata": {
    "execution": {
     "iopub.execute_input": "2021-01-28T01:17:31.287433Z",
     "iopub.status.busy": "2021-01-28T01:17:31.287306Z",
     "iopub.status.idle": "2021-01-28T01:17:31.777328Z",
     "shell.execute_reply": "2021-01-28T01:17:31.776986Z",
     "shell.execute_reply.started": "2021-01-28T01:17:31.287420Z"
    }
   },
   "outputs": [],
   "source": [
    "# wandb.log()\n",
    "learn = cnn_learner(dls, arch=ARCH, metrics=[error_rate, accuracy], cbs=cbs, loss_func=LabelSmoothingCrossEntropy(), pretrained=PRETRAINED_FLAG)\n",
    "# learn = cnn_learner(dls, arch=ARCH, metrics=[error_rate, accuracy], cbs=cbs, pretrained=PRETRAINED_FLAG)\n"
   ]
  },
  {
   "cell_type": "code",
   "execution_count": 18,
   "metadata": {
    "execution": {
     "iopub.execute_input": "2021-01-28T01:17:31.777902Z",
     "iopub.status.busy": "2021-01-28T01:17:31.777795Z",
     "iopub.status.idle": "2021-01-28T01:17:31.780666Z",
     "shell.execute_reply": "2021-01-28T01:17:31.780201Z",
     "shell.execute_reply.started": "2021-01-28T01:17:31.777891Z"
    }
   },
   "outputs": [],
   "source": [
    "# learn = load_learner('../models/20210116-2147 - arch=xresnet50 - samples=1000 frozen=3 epochs=3 bs=20 res=300 _data=external preuntrained percent=88.pkl')\n",
    "# learn.load('20210116-2343 - arch=xresnet50 - samples=480 frozen=1 epochs=1 bs=20 res=300 _data=external_0')\n",
    "# learn.cbs = L()\n",
    "# learn.add_cbs(cbs)\n",
    "# learn.parameters\n",
    "# learn = learn.load('20210125-0016 - arch=xresnet50 - samples=800 frozen=1 epochs=20 bs=16 res=360 _data=combined1_9')"
   ]
  },
  {
   "cell_type": "markdown",
   "metadata": {},
   "source": [
    "<br>\n",
    "<br>"
   ]
  },
  {
   "cell_type": "markdown",
   "metadata": {},
   "source": [
    "### Look at the Loss Function, Optimization Function and Model Architecture"
   ]
  },
  {
   "cell_type": "code",
   "execution_count": 19,
   "metadata": {
    "execution": {
     "iopub.execute_input": "2021-01-28T01:17:31.781173Z",
     "iopub.status.busy": "2021-01-28T01:17:31.781070Z",
     "iopub.status.idle": "2021-01-28T01:17:31.789605Z",
     "shell.execute_reply": "2021-01-28T01:17:31.788989Z",
     "shell.execute_reply.started": "2021-01-28T01:17:31.781163Z"
    }
   },
   "outputs": [
    {
     "name": "stdout",
     "output_type": "stream",
     "text": [
      "\n",
      "Loss Function:  LabelSmoothingCrossEntropy()\n",
      "\n",
      "Optimization Function:  <function Adam at 0x7f9021f47280>\n"
     ]
    }
   ],
   "source": [
    "print('\\nLoss Function: ', learn.loss_func)\n",
    "print('\\nOptimization Function: ', learn.opt_func)\n",
    "# print('\\n\\n', learn.model)"
   ]
  },
  {
   "cell_type": "markdown",
   "metadata": {},
   "source": [
    "<br>\n",
    "<br>\n",
    "<br>\n",
    "\n",
    "## Find a Good Learning Rate to Start With"
   ]
  },
  {
   "cell_type": "code",
   "execution_count": 20,
   "metadata": {
    "execution": {
     "iopub.execute_input": "2021-01-28T01:17:31.790462Z",
     "iopub.status.busy": "2021-01-28T01:17:31.790289Z",
     "iopub.status.idle": "2021-01-28T01:17:31.793324Z",
     "shell.execute_reply": "2021-01-28T01:17:31.792894Z",
     "shell.execute_reply.started": "2021-01-28T01:17:31.790445Z"
    }
   },
   "outputs": [],
   "source": [
    "LR_DIV = 14  # Shift the lr_min left by this amount.  Adjust as necessary"
   ]
  },
  {
   "cell_type": "code",
   "execution_count": 21,
   "metadata": {
    "execution": {
     "iopub.execute_input": "2021-01-28T01:17:31.794075Z",
     "iopub.status.busy": "2021-01-28T01:17:31.793895Z",
     "iopub.status.idle": "2021-01-28T01:18:01.509010Z",
     "shell.execute_reply": "2021-01-28T01:18:01.508755Z",
     "shell.execute_reply.started": "2021-01-28T01:17:31.794058Z"
    }
   },
   "outputs": [
    {
     "data": {
      "text/html": [],
      "text/plain": [
       "<IPython.core.display.HTML object>"
      ]
     },
     "metadata": {},
     "output_type": "display_data"
    },
    {
     "data": {
      "application/vnd.jupyter.widget-view+json": {
       "model_id": "4a17ca65511241ccb86f9a0851cc29d4",
       "version_major": 2,
       "version_minor": 0
      },
      "text/plain": [
       "Canvas(toolbar=Toolbar(toolitems=[('Home', 'Reset original view', 'home', 'home'), ('Back', 'Back to previous …"
      ]
     },
     "metadata": {},
     "output_type": "display_data"
    }
   ],
   "source": [
    "lr_min,lr_steep = learn.lr_find()\n",
    "plt.axvline(lr_min, ls='--', color='red', label=f'lr_min={round(lr_min,6)}')\n",
    "plt.axvline(lr_min/LR_DIV, ls='--', color='yellow', label=f'lr_min / {LR_DIV}={round(lr_min/LR_DIV,6)}')\n",
    "plt.axvline(lr_steep, ls='--', color='grey', label=f'lr_steep={round(lr_steep,6)}')\n",
    "plt.legend()\n",
    "plt.show()"
   ]
  },
  {
   "cell_type": "code",
   "execution_count": 22,
   "metadata": {
    "execution": {
     "iopub.execute_input": "2021-01-28T01:18:01.510450Z",
     "iopub.status.busy": "2021-01-28T01:18:01.510347Z",
     "iopub.status.idle": "2021-01-28T01:18:01.512903Z",
     "shell.execute_reply": "2021-01-28T01:18:01.512675Z",
     "shell.execute_reply.started": "2021-01-28T01:18:01.510438Z"
    }
   },
   "outputs": [
    {
     "name": "stdout",
     "output_type": "stream",
     "text": [
      "Minimum/10: 1.32e-03, steepest point: 3.98e-04, (Mim/10)/14: 9.416119594659124e-05\n"
     ]
    }
   ],
   "source": [
    "print(f\"Minimum/10: {lr_min:.2e}, steepest point: {lr_steep:.2e}, (Mim/10)/{LR_DIV}: {lr_min/LR_DIV}\")"
   ]
  },
  {
   "cell_type": "markdown",
   "metadata": {},
   "source": [
    "<br>\n",
    "<br>"
   ]
  },
  {
   "cell_type": "markdown",
   "metadata": {},
   "source": [
    "## Pick a Good Initial Learning Rate"
   ]
  },
  {
   "cell_type": "code",
   "execution_count": 24,
   "metadata": {
    "execution": {
     "iopub.execute_input": "2021-01-28T01:21:46.311470Z",
     "iopub.status.busy": "2021-01-28T01:21:46.311199Z",
     "iopub.status.idle": "2021-01-28T01:21:46.314085Z",
     "shell.execute_reply": "2021-01-28T01:21:46.313532Z",
     "shell.execute_reply.started": "2021-01-28T01:21:46.311447Z"
    }
   },
   "outputs": [],
   "source": [
    "LR_CHOICE = lr_steep"
   ]
  },
  {
   "cell_type": "markdown",
   "metadata": {},
   "source": [
    "<br>\n",
    "<br>"
   ]
  },
  {
   "cell_type": "markdown",
   "metadata": {},
   "source": [
    "<br>\n",
    "<br>"
   ]
  },
  {
   "cell_type": "markdown",
   "metadata": {},
   "source": [
    "# Training the Model"
   ]
  },
  {
   "cell_type": "markdown",
   "metadata": {
    "slideshow": {
     "slide_type": "slide"
    }
   },
   "source": [
    "<br>\n",
    "\n",
    "## Fit the last layers, unfreeze, fit the whole net, with a decent initial LR, all in one go.\n",
    "\n"
   ]
  },
  {
   "cell_type": "code",
   "execution_count": 25,
   "metadata": {
    "execution": {
     "iopub.execute_input": "2021-01-28T01:24:32.094660Z",
     "iopub.status.busy": "2021-01-28T01:24:32.094400Z",
     "iopub.status.idle": "2021-01-28T01:27:48.320592Z",
     "shell.execute_reply": "2021-01-28T01:27:48.320200Z",
     "shell.execute_reply.started": "2021-01-28T01:24:32.094637Z"
    }
   },
   "outputs": [
    {
     "name": "stdout",
     "output_type": "stream",
     "text": [
      "FROZEN_EPOCHS:  1\n",
      "EPOCHS:         40\n",
      "Learning Rate:  0.0003981071640737355\n",
      "\n",
      "\n"
     ]
    },
    {
     "data": {
      "text/html": [
       "<table border=\"1\" class=\"dataframe\">\n",
       "  <thead>\n",
       "    <tr style=\"text-align: left;\">\n",
       "      <th>epoch</th>\n",
       "      <th>train_loss</th>\n",
       "      <th>valid_loss</th>\n",
       "      <th>error_rate</th>\n",
       "      <th>accuracy</th>\n",
       "      <th>time</th>\n",
       "    </tr>\n",
       "  </thead>\n",
       "  <tbody>\n",
       "    <tr>\n",
       "      <td>0</td>\n",
       "      <td>3.270460</td>\n",
       "      <td>2.736051</td>\n",
       "      <td>0.763068</td>\n",
       "      <td>0.236932</td>\n",
       "      <td>03:15</td>\n",
       "    </tr>\n",
       "  </tbody>\n",
       "</table>"
      ],
      "text/plain": [
       "<IPython.core.display.HTML object>"
      ]
     },
     "metadata": {},
     "output_type": "display_data"
    },
    {
     "data": {
      "application/vnd.jupyter.widget-view+json": {
       "model_id": "fd1aa2ea9ee64ff69856b93804a011e0",
       "version_major": 2,
       "version_minor": 0
      },
      "text/plain": [
       "Canvas(toolbar=Toolbar(toolitems=[('Home', 'Reset original view', 'home', 'home'), ('Back', 'Back to previous …"
      ]
     },
     "metadata": {},
     "output_type": "display_data"
    },
    {
     "data": {
      "image/png": "[encoded data removed]",
      "text/plain": [
       "<Figure size 720x480 with 1 Axes>"
      ]
     },
     "metadata": {},
     "output_type": "display_data"
    }
   ],
   "source": [
    "\n",
    "\n",
    "print(f'FROZEN_EPOCHS:  {FROZEN_EPOCHS}')\n",
    "print(f'EPOCHS:         {EPOCHS}')\n",
    "print(f'Learning Rate:  {LR_CHOICE}\\n\\n')\n",
    "\n",
    "# learn.fine_tune(EPOCHS, freeze_epochs=FROZEN_EPOCHS, base_lr=lr_min/LR_DIV)\n",
    "#learn.fine_tune(EPOCHS, freeze_epochs=0)\n",
    "learn.fit_one_cycle(FROZEN_EPOCHS, LR_CHOICE)\n",
    "\n",
    "# learn.fine_tune(1, base_lr=lr_min/12)"
   ]
  },
  {
   "cell_type": "markdown",
   "metadata": {},
   "source": [
    "## Manually set up the unfrozen runs"
   ]
  },
  {
   "cell_type": "code",
   "execution_count": 26,
   "metadata": {
    "execution": {
     "iopub.execute_input": "2021-01-28T01:28:33.162428Z",
     "iopub.status.busy": "2021-01-28T01:28:33.162162Z",
     "iopub.status.idle": "2021-01-28T01:28:33.170438Z",
     "shell.execute_reply": "2021-01-28T01:28:33.169879Z",
     "shell.execute_reply.started": "2021-01-28T01:28:33.162398Z"
    }
   },
   "outputs": [],
   "source": [
    "learn.unfreeze()"
   ]
  },
  {
   "cell_type": "code",
   "execution_count": 28,
   "metadata": {
    "execution": {
     "iopub.execute_input": "2021-01-28T01:31:21.174259Z",
     "iopub.status.busy": "2021-01-28T01:31:21.173976Z",
     "iopub.status.idle": "2021-01-28T01:32:02.539106Z",
     "shell.execute_reply": "2021-01-28T01:32:02.538766Z",
     "shell.execute_reply.started": "2021-01-28T01:31:21.174229Z"
    }
   },
   "outputs": [
    {
     "data": {
      "text/html": [],
      "text/plain": [
       "<IPython.core.display.HTML object>"
      ]
     },
     "metadata": {},
     "output_type": "display_data"
    },
    {
     "data": {
      "application/vnd.jupyter.widget-view+json": {
       "model_id": "64769e0260df49bd9195fc235daa8aaf",
       "version_major": 2,
       "version_minor": 0
      },
      "text/plain": [
       "Canvas(toolbar=Toolbar(toolitems=[('Home', 'Reset original view', 'home', 'home'), ('Back', 'Back to previous …"
      ]
     },
     "metadata": {},
     "output_type": "display_data"
    }
   ],
   "source": [
    "lr_min,lr_steep = learn.lr_find()\n",
    "plt.axvline(lr_min, ls='--', color='red', label=f'lr_min={round(lr_min,6)}')\n",
    "plt.axvline(LR_CHOICE/2, ls='--', color='yellow', label=f'LR_CHOICE/2={round(LR_CHOICE/2,6)}')\n",
    "plt.axvline(lr_steep, ls='--', color='grey', label=f'lr_steep={round(lr_steep,6)}')\n",
    "plt.legend()\n",
    "plt.show()"
   ]
  },
  {
   "cell_type": "code",
   "execution_count": 29,
   "metadata": {
    "execution": {
     "iopub.execute_input": "2021-01-28T01:32:52.483585Z",
     "iopub.status.busy": "2021-01-28T01:32:52.483324Z",
     "iopub.status.idle": "2021-01-28T01:32:52.486822Z",
     "shell.execute_reply": "2021-01-28T01:32:52.486335Z",
     "shell.execute_reply.started": "2021-01-28T01:32:52.483556Z"
    }
   },
   "outputs": [
    {
     "name": "stdout",
     "output_type": "stream",
     "text": [
      "Minimum/10: 9.12e-08, steepest point: 2.29e-06, LR_CHOICE/2: 0.00019905358203686774\n"
     ]
    }
   ],
   "source": [
    "print(f\"Minimum/10: {lr_min:.2e}, steepest point: {lr_steep:.2e}, LR_CHOICE/2: {LR_CHOICE / 2}\")"
   ]
  },
  {
   "cell_type": "markdown",
   "metadata": {},
   "source": [
    "## Pick a new Learning Rate"
   ]
  },
  {
   "cell_type": "code",
   "execution_count": 30,
   "metadata": {
    "execution": {
     "iopub.execute_input": "2021-01-28T01:35:25.359113Z",
     "iopub.status.busy": "2021-01-28T01:35:25.358850Z",
     "iopub.status.idle": "2021-01-28T01:35:25.361757Z",
     "shell.execute_reply": "2021-01-28T01:35:25.361209Z",
     "shell.execute_reply.started": "2021-01-28T01:35:25.359089Z"
    }
   },
   "outputs": [],
   "source": [
    "LR_CHOICE_UNFROZ = 5.7e-5"
   ]
  },
  {
   "cell_type": "markdown",
   "metadata": {},
   "source": [
    "### Train"
   ]
  },
  {
   "cell_type": "code",
   "execution_count": null,
   "metadata": {
    "execution": {
     "iopub.execute_input": "2021-01-28T01:35:33.576223Z",
     "iopub.status.busy": "2021-01-28T01:35:33.576018Z"
    }
   },
   "outputs": [
    {
     "data": {
      "text/html": [
       "\n",
       "    <div>\n",
       "        <style>\n",
       "            /* Turns off some styling */\n",
       "            progress {\n",
       "                /* gets rid of default border in Firefox and Opera. */\n",
       "                border: none;\n",
       "                /* Needs to be in here for Safari polyfill so background images work as expected. */\n",
       "                background-size: auto;\n",
       "            }\n",
       "            .progress-bar-interrupted, .progress-bar-interrupted::-webkit-progress-bar {\n",
       "                background: #F44336;\n",
       "            }\n",
       "        </style>\n",
       "      <progress value='39' class='' max='40' style='width:300px; height:20px; vertical-align: middle;'></progress>\n",
       "      97.50% [39/40 2:55:52<04:30]\n",
       "    </div>\n",
       "    \n",
       "<table border=\"1\" class=\"dataframe\">\n",
       "  <thead>\n",
       "    <tr style=\"text-align: left;\">\n",
       "      <th>epoch</th>\n",
       "      <th>train_loss</th>\n",
       "      <th>valid_loss</th>\n",
       "      <th>error_rate</th>\n",
       "      <th>accuracy</th>\n",
       "      <th>time</th>\n",
       "    </tr>\n",
       "  </thead>\n",
       "  <tbody>\n",
       "    <tr>\n",
       "      <td>0</td>\n",
       "      <td>3.180978</td>\n",
       "      <td>2.697123</td>\n",
       "      <td>0.754545</td>\n",
       "      <td>0.245455</td>\n",
       "      <td>04:32</td>\n",
       "    </tr>\n",
       "    <tr>\n",
       "      <td>1</td>\n",
       "      <td>3.070138</td>\n",
       "      <td>2.623666</td>\n",
       "      <td>0.726515</td>\n",
       "      <td>0.273485</td>\n",
       "      <td>04:32</td>\n",
       "    </tr>\n",
       "    <tr>\n",
       "      <td>2</td>\n",
       "      <td>2.997524</td>\n",
       "      <td>2.493131</td>\n",
       "      <td>0.675189</td>\n",
       "      <td>0.324811</td>\n",
       "      <td>04:31</td>\n",
       "    </tr>\n",
       "    <tr>\n",
       "      <td>3</td>\n",
       "      <td>2.866323</td>\n",
       "      <td>2.434700</td>\n",
       "      <td>0.655871</td>\n",
       "      <td>0.344129</td>\n",
       "      <td>04:32</td>\n",
       "    </tr>\n",
       "    <tr>\n",
       "      <td>4</td>\n",
       "      <td>2.768170</td>\n",
       "      <td>2.306039</td>\n",
       "      <td>0.605303</td>\n",
       "      <td>0.394697</td>\n",
       "      <td>04:32</td>\n",
       "    </tr>\n",
       "    <tr>\n",
       "      <td>5</td>\n",
       "      <td>2.633304</td>\n",
       "      <td>2.169708</td>\n",
       "      <td>0.561364</td>\n",
       "      <td>0.438636</td>\n",
       "      <td>04:31</td>\n",
       "    </tr>\n",
       "    <tr>\n",
       "      <td>6</td>\n",
       "      <td>2.471163</td>\n",
       "      <td>2.073820</td>\n",
       "      <td>0.520076</td>\n",
       "      <td>0.479924</td>\n",
       "      <td>04:35</td>\n",
       "    </tr>\n",
       "    <tr>\n",
       "      <td>7</td>\n",
       "      <td>2.314790</td>\n",
       "      <td>1.887091</td>\n",
       "      <td>0.455303</td>\n",
       "      <td>0.544697</td>\n",
       "      <td>04:40</td>\n",
       "    </tr>\n",
       "    <tr>\n",
       "      <td>8</td>\n",
       "      <td>2.162647</td>\n",
       "      <td>1.808740</td>\n",
       "      <td>0.428598</td>\n",
       "      <td>0.571402</td>\n",
       "      <td>04:39</td>\n",
       "    </tr>\n",
       "    <tr>\n",
       "      <td>9</td>\n",
       "      <td>2.018938</td>\n",
       "      <td>1.659315</td>\n",
       "      <td>0.364962</td>\n",
       "      <td>0.635038</td>\n",
       "      <td>04:49</td>\n",
       "    </tr>\n",
       "    <tr>\n",
       "      <td>10</td>\n",
       "      <td>1.900470</td>\n",
       "      <td>1.588468</td>\n",
       "      <td>0.345076</td>\n",
       "      <td>0.654924</td>\n",
       "      <td>04:39</td>\n",
       "    </tr>\n",
       "    <tr>\n",
       "      <td>11</td>\n",
       "      <td>1.813995</td>\n",
       "      <td>1.451119</td>\n",
       "      <td>0.278788</td>\n",
       "      <td>0.721212</td>\n",
       "      <td>04:33</td>\n",
       "    </tr>\n",
       "    <tr>\n",
       "      <td>12</td>\n",
       "      <td>1.712551</td>\n",
       "      <td>1.433194</td>\n",
       "      <td>0.273106</td>\n",
       "      <td>0.726894</td>\n",
       "      <td>04:32</td>\n",
       "    </tr>\n",
       "    <tr>\n",
       "      <td>13</td>\n",
       "      <td>1.629988</td>\n",
       "      <td>1.313071</td>\n",
       "      <td>0.218182</td>\n",
       "      <td>0.781818</td>\n",
       "      <td>04:31</td>\n",
       "    </tr>\n",
       "    <tr>\n",
       "      <td>14</td>\n",
       "      <td>1.542195</td>\n",
       "      <td>1.322889</td>\n",
       "      <td>0.220644</td>\n",
       "      <td>0.779356</td>\n",
       "      <td>04:31</td>\n",
       "    </tr>\n",
       "    <tr>\n",
       "      <td>15</td>\n",
       "      <td>1.486523</td>\n",
       "      <td>1.230998</td>\n",
       "      <td>0.184659</td>\n",
       "      <td>0.815341</td>\n",
       "      <td>04:31</td>\n",
       "    </tr>\n",
       "    <tr>\n",
       "      <td>16</td>\n",
       "      <td>1.411401</td>\n",
       "      <td>1.213234</td>\n",
       "      <td>0.183333</td>\n",
       "      <td>0.816667</td>\n",
       "      <td>04:26</td>\n",
       "    </tr>\n",
       "    <tr>\n",
       "      <td>17</td>\n",
       "      <td>1.371117</td>\n",
       "      <td>1.180895</td>\n",
       "      <td>0.167235</td>\n",
       "      <td>0.832765</td>\n",
       "      <td>04:24</td>\n",
       "    </tr>\n",
       "    <tr>\n",
       "      <td>18</td>\n",
       "      <td>1.332632</td>\n",
       "      <td>1.141755</td>\n",
       "      <td>0.144697</td>\n",
       "      <td>0.855303</td>\n",
       "      <td>04:23</td>\n",
       "    </tr>\n",
       "    <tr>\n",
       "      <td>19</td>\n",
       "      <td>1.277291</td>\n",
       "      <td>1.081872</td>\n",
       "      <td>0.121402</td>\n",
       "      <td>0.878599</td>\n",
       "      <td>04:28</td>\n",
       "    </tr>\n",
       "    <tr>\n",
       "      <td>20</td>\n",
       "      <td>1.248563</td>\n",
       "      <td>1.050072</td>\n",
       "      <td>0.108523</td>\n",
       "      <td>0.891477</td>\n",
       "      <td>04:27</td>\n",
       "    </tr>\n",
       "    <tr>\n",
       "      <td>21</td>\n",
       "      <td>1.199738</td>\n",
       "      <td>1.033137</td>\n",
       "      <td>0.105682</td>\n",
       "      <td>0.894318</td>\n",
       "      <td>04:27</td>\n",
       "    </tr>\n",
       "    <tr>\n",
       "      <td>22</td>\n",
       "      <td>1.213531</td>\n",
       "      <td>1.026419</td>\n",
       "      <td>0.103788</td>\n",
       "      <td>0.896212</td>\n",
       "      <td>04:27</td>\n",
       "    </tr>\n",
       "    <tr>\n",
       "      <td>23</td>\n",
       "      <td>1.138164</td>\n",
       "      <td>1.011432</td>\n",
       "      <td>0.096970</td>\n",
       "      <td>0.903030</td>\n",
       "      <td>04:24</td>\n",
       "    </tr>\n",
       "    <tr>\n",
       "      <td>24</td>\n",
       "      <td>1.127264</td>\n",
       "      <td>0.996677</td>\n",
       "      <td>0.090720</td>\n",
       "      <td>0.909280</td>\n",
       "      <td>04:22</td>\n",
       "    </tr>\n",
       "    <tr>\n",
       "      <td>25</td>\n",
       "      <td>1.096680</td>\n",
       "      <td>0.986861</td>\n",
       "      <td>0.086553</td>\n",
       "      <td>0.913447</td>\n",
       "      <td>04:21</td>\n",
       "    </tr>\n",
       "    <tr>\n",
       "      <td>26</td>\n",
       "      <td>1.073102</td>\n",
       "      <td>0.957994</td>\n",
       "      <td>0.076515</td>\n",
       "      <td>0.923485</td>\n",
       "      <td>04:21</td>\n",
       "    </tr>\n",
       "    <tr>\n",
       "      <td>27</td>\n",
       "      <td>1.066178</td>\n",
       "      <td>0.937163</td>\n",
       "      <td>0.067803</td>\n",
       "      <td>0.932197</td>\n",
       "      <td>04:21</td>\n",
       "    </tr>\n",
       "    <tr>\n",
       "      <td>28</td>\n",
       "      <td>1.060796</td>\n",
       "      <td>0.936996</td>\n",
       "      <td>0.069129</td>\n",
       "      <td>0.930871</td>\n",
       "      <td>04:21</td>\n",
       "    </tr>\n",
       "    <tr>\n",
       "      <td>29</td>\n",
       "      <td>1.046438</td>\n",
       "      <td>0.936244</td>\n",
       "      <td>0.067803</td>\n",
       "      <td>0.932197</td>\n",
       "      <td>04:21</td>\n",
       "    </tr>\n",
       "    <tr>\n",
       "      <td>30</td>\n",
       "      <td>1.023096</td>\n",
       "      <td>0.922134</td>\n",
       "      <td>0.061364</td>\n",
       "      <td>0.938636</td>\n",
       "      <td>04:21</td>\n",
       "    </tr>\n",
       "    <tr>\n",
       "      <td>31</td>\n",
       "      <td>1.012269</td>\n",
       "      <td>0.927540</td>\n",
       "      <td>0.064962</td>\n",
       "      <td>0.935038</td>\n",
       "      <td>04:21</td>\n",
       "    </tr>\n",
       "    <tr>\n",
       "      <td>32</td>\n",
       "      <td>0.985804</td>\n",
       "      <td>0.914412</td>\n",
       "      <td>0.057197</td>\n",
       "      <td>0.942803</td>\n",
       "      <td>04:22</td>\n",
       "    </tr>\n",
       "    <tr>\n",
       "      <td>33</td>\n",
       "      <td>1.009758</td>\n",
       "      <td>0.908470</td>\n",
       "      <td>0.058144</td>\n",
       "      <td>0.941856</td>\n",
       "      <td>04:35</td>\n",
       "    </tr>\n",
       "    <tr>\n",
       "      <td>34</td>\n",
       "      <td>1.005998</td>\n",
       "      <td>0.912022</td>\n",
       "      <td>0.056629</td>\n",
       "      <td>0.943371</td>\n",
       "      <td>04:33</td>\n",
       "    </tr>\n",
       "    <tr>\n",
       "      <td>35</td>\n",
       "      <td>1.000795</td>\n",
       "      <td>0.909133</td>\n",
       "      <td>0.057008</td>\n",
       "      <td>0.942992</td>\n",
       "      <td>04:36</td>\n",
       "    </tr>\n",
       "    <tr>\n",
       "      <td>36</td>\n",
       "      <td>1.000281</td>\n",
       "      <td>0.904842</td>\n",
       "      <td>0.053220</td>\n",
       "      <td>0.946780</td>\n",
       "      <td>04:35</td>\n",
       "    </tr>\n",
       "    <tr>\n",
       "      <td>37</td>\n",
       "      <td>1.007037</td>\n",
       "      <td>0.905188</td>\n",
       "      <td>0.057008</td>\n",
       "      <td>0.942992</td>\n",
       "      <td>04:32</td>\n",
       "    </tr>\n",
       "    <tr>\n",
       "      <td>38</td>\n",
       "      <td>0.989222</td>\n",
       "      <td>0.900428</td>\n",
       "      <td>0.055682</td>\n",
       "      <td>0.944318</td>\n",
       "      <td>04:34</td>\n",
       "    </tr>\n",
       "  </tbody>\n",
       "</table><p>\n",
       "\n",
       "    <div>\n",
       "        <style>\n",
       "            /* Turns off some styling */\n",
       "            progress {\n",
       "                /* gets rid of default border in Firefox and Opera. */\n",
       "                border: none;\n",
       "                /* Needs to be in here for Safari polyfill so background images work as expected. */\n",
       "                background-size: auto;\n",
       "            }\n",
       "            .progress-bar-interrupted, .progress-bar-interrupted::-webkit-progress-bar {\n",
       "                background: #F44336;\n",
       "            }\n",
       "        </style>\n",
       "      <progress value='472' class='' max='565' style='width:300px; height:20px; vertical-align: middle;'></progress>\n",
       "      83.54% [472/565 03:29<00:41 1.0029]\n",
       "    </div>\n",
       "    "
      ],
      "text/plain": [
       "<IPython.core.display.HTML object>"
      ]
     },
     "metadata": {},
     "output_type": "display_data"
    },
    {
     "data": {
      "application/vnd.jupyter.widget-view+json": {
       "model_id": "12438ceafd7c404db7da47e2bc7c3e7b",
       "version_major": 2,
       "version_minor": 0
      },
      "text/plain": [
       "Canvas(toolbar=Toolbar(toolitems=[('Home', 'Reset original view', 'home', 'home'), ('Back', 'Back to previous …"
      ]
     },
     "metadata": {},
     "output_type": "display_data"
    },
    {
     "data": {
      "image/png": "[encoded data removed]",
      "text/plain": [
       "<Figure size 720x480 with 1 Axes>"
      ]
     },
     "metadata": {},
     "output_type": "display_data"
    }
   ],
   "source": [
    "learn.fit_one_cycle(EPOCHS, LR_CHOICE_UNFROZ)"
   ]
  },
  {
   "cell_type": "code",
   "execution_count": null,
   "metadata": {},
   "outputs": [],
   "source": [
    "# learn.fine_tune(1, freeze_epochs=1, base_lr=5e-5, cbs=cbs)"
   ]
  },
  {
   "cell_type": "code",
   "execution_count": null,
   "metadata": {},
   "outputs": [],
   "source": [
    "# learn.fit(1, cbs=[mixup_cb, ShowGraphCallback(), early_stop])"
   ]
  },
  {
   "cell_type": "markdown",
   "metadata": {},
   "source": [
    "<br>\n",
    "<br>\n",
    "\n",
    "## Persist the Model"
   ]
  },
  {
   "cell_type": "code",
   "execution_count": null,
   "metadata": {},
   "outputs": [],
   "source": [
    "learn.export(f'../models/{RUN_NAME}.pkl')\n",
    "# path = Path('../models')\n",
    "# path.ls(file_exts='.pkl')"
   ]
  },
  {
   "cell_type": "markdown",
   "metadata": {},
   "source": [
    "<br>\n",
    "<br>"
   ]
  },
  {
   "cell_type": "markdown",
   "metadata": {},
   "source": [
    "### Show some Results"
   ]
  },
  {
   "cell_type": "code",
   "execution_count": null,
   "metadata": {},
   "outputs": [],
   "source": [
    "learn.show_results()"
   ]
  },
  {
   "cell_type": "markdown",
   "metadata": {},
   "source": [
    "<br>\n",
    "<hr>\n",
    "<br>\n",
    "<br>\n",
    "<br>"
   ]
  },
  {
   "cell_type": "markdown",
   "metadata": {},
   "source": [
    "# Validation Set (not test set) Analysis"
   ]
  },
  {
   "cell_type": "markdown",
   "metadata": {},
   "source": [
    "<br>\n",
    "\n",
    "### Plot Losses"
   ]
  },
  {
   "cell_type": "code",
   "execution_count": null,
   "metadata": {},
   "outputs": [],
   "source": [
    "# learn.recorder.plot_loss()\n",
    "# plt.ylabel('Loss')\n",
    "# plt.xlabel('Batches Processed')"
   ]
  },
  {
   "cell_type": "markdown",
   "metadata": {},
   "source": [
    "<br>\n",
    "\n",
    "### Visualize with a confusion Matrix"
   ]
  },
  {
   "cell_type": "code",
   "execution_count": null,
   "metadata": {},
   "outputs": [],
   "source": [
    "interp = ClassificationInterpretation.from_learner(learn)\n",
    "interp.plot_confusion_matrix(figsize=(8,8))"
   ]
  },
  {
   "cell_type": "code",
   "execution_count": null,
   "metadata": {},
   "outputs": [],
   "source": [
    "interp.most_confused()[:10]"
   ]
  },
  {
   "cell_type": "markdown",
   "metadata": {},
   "source": [
    "<br>\n",
    "<br>"
   ]
  },
  {
   "cell_type": "markdown",
   "metadata": {},
   "source": [
    "## Classification Report"
   ]
  },
  {
   "cell_type": "code",
   "execution_count": null,
   "metadata": {},
   "outputs": [],
   "source": [
    "interp.print_classification_report()"
   ]
  },
  {
   "cell_type": "markdown",
   "metadata": {},
   "source": [
    "<br>\n",
    "\n",
    "### Show the top 15 most error prone images"
   ]
  },
  {
   "cell_type": "code",
   "execution_count": null,
   "metadata": {},
   "outputs": [],
   "source": [
    "interp.plot_top_losses(15, nrows=3)"
   ]
  },
  {
   "cell_type": "markdown",
   "metadata": {},
   "source": [
    "<br>\n",
    "<br>"
   ]
  },
  {
   "cell_type": "markdown",
   "metadata": {},
   "source": [
    "<br>\n",
    "\n",
    "### ~~Clean the images that were hard to interpret and obviously bad~~\n",
    "\n",
    "(I had to remove this section as it was using too much RAM and crashing the kernel)"
   ]
  },
  {
   "cell_type": "markdown",
   "metadata": {},
   "source": [
    "### Show a Widget that allows us to mark poor exemplars for deletion"
   ]
  },
  {
   "cell_type": "code",
   "execution_count": null,
   "metadata": {},
   "outputs": [],
   "source": [
    "# import gc\n",
    "# cleaner = None\n",
    "# gc.collect()\n",
    "\n",
    "# cleaner = ImageClassifierCleaner(learn)\n",
    "# cleaner"
   ]
  },
  {
   "cell_type": "markdown",
   "metadata": {},
   "source": [
    "### Show the Indexes of the images we want to delete"
   ]
  },
  {
   "cell_type": "code",
   "execution_count": null,
   "metadata": {},
   "outputs": [],
   "source": [
    "# cleaner.delete()"
   ]
  },
  {
   "cell_type": "markdown",
   "metadata": {},
   "source": [
    "### Delete the files"
   ]
  },
  {
   "cell_type": "code",
   "execution_count": null,
   "metadata": {},
   "outputs": [],
   "source": [
    "# import os\n",
    "\n",
    "# for idx in cleaner.delete():\n",
    "#     print(f'removing: {str(cleaner.fns[idx])}')\n",
    "#     os.remove(str(cleaner.fns[idx]))"
   ]
  },
  {
   "cell_type": "markdown",
   "metadata": {},
   "source": [
    "<br>\n",
    "<br>\n",
    "<hr>\n",
    "<br>\n",
    "<br>\n",
    "\n",
    "\n"
   ]
  },
  {
   "cell_type": "markdown",
   "metadata": {},
   "source": [
    "<br>\n",
    "<br>"
   ]
  },
  {
   "cell_type": "markdown",
   "metadata": {},
   "source": [
    "# Test Set Analysis\n",
    "\n",
    "<br>"
   ]
  },
  {
   "cell_type": "code",
   "execution_count": null,
   "metadata": {},
   "outputs": [],
   "source": [
    "import gc\n",
    "cleaner = None\n",
    "test_learn = None\n",
    "inputs = None\n",
    "preds = None\n",
    "interp = None\n",
    "targs = None\n",
    "decoded = None\n",
    "losses = None\n",
    "# learn = None\n",
    "gc.collect()"
   ]
  },
  {
   "cell_type": "code",
   "execution_count": null,
   "metadata": {},
   "outputs": [],
   "source": [
    "# test_learn = learn\n",
    "num = 3\n",
    "# RUN_NAME='20210122-0037 - arch=xresnet50_deep - samples=3000 frozen=1 epochs=40 bs=16 res=360 _data=external'\n",
    "# RUN_NAME = '20210122-2356 - arch=xresnet50_deep - samples=3000 frozen=1 epochs=40 bs=16 res=360 _data=external'\n",
    "\n",
    "# test_learn = load_learner(f'../models/{RUN_NAME}.pkl', cpu=False)\n",
    "# load_model(f'models/{RUN_NAME}_{num}.pth', test_learn, opt=Adam, with_opt=False)\n",
    "\n",
    "\n",
    "\n",
    "test_learn = learn"
   ]
  },
  {
   "cell_type": "code",
   "execution_count": null,
   "metadata": {},
   "outputs": [],
   "source": [
    "def get_test_fnames(path):\n",
    "    return random.sample(list(test_image_files.values.flatten()), 1000)"
   ]
  },
  {
   "cell_type": "code",
   "execution_count": null,
   "metadata": {},
   "outputs": [],
   "source": [
    "path"
   ]
  },
  {
   "cell_type": "code",
   "execution_count": null,
   "metadata": {},
   "outputs": [],
   "source": [
    "test_db = DataBlock(\n",
    "    blocks=(ImageBlock, CategoryBlock), \n",
    "    get_items=get_test_fnames,\n",
    "    get_y=parent_label, \n",
    "    item_tfms=Resize(RESOLUTION, method='bilinear')) #,\n",
    "#     item_tfms=CropPad(RESOLUTION, pad_mode='zeros'))\n",
    "#    ,    batch_tfms=aug_transforms(do_flip=True, size=RESOLUTION, batch=False, max_zoom=1.0, mult=1, pad_mode='zeros'))\n",
    "\n",
    "\n",
    "dls = test_db.dataloaders(path, bs=BATCH_SIZE)\n",
    "\n",
    "test_dl = dls.test_dl(get_test_fnames('None'), with_labels=True)"
   ]
  },
  {
   "cell_type": "code",
   "execution_count": null,
   "metadata": {},
   "outputs": [],
   "source": [
    "# test_learn = load_learner(f'../models/{RUN_NAME}.pkl', cpu=False)\n",
    "# test_learn = cnn_learner(dls, arch=ARCH, metrics=[error_rate, accuracy], cbs=cbs, loss_func=LabelSmoothingCrossEntropy(), pretrained=PRETRAINED_FLAG)\n",
    "# RUN_NAME = '20210119-0130 - arch=xresnet50 - samples=1000 frozen=0 epochs=25 bs=20 res=300 _data=external'\n",
    "# load_model(f'models/{RUN_NAME}_1.pth', test_learn, opt=Adam)\n",
    "\n",
    "\n",
    "# test_learn = cnn_learner(dls, arch=ARCH, metrics=[error_rate, accuracy], pretrained=PRETRAINED_FLAG)\n",
    "# test_learn.load(f'{RUN_NAME}_24')"
   ]
  },
  {
   "cell_type": "markdown",
   "metadata": {},
   "source": [
    "<br>\n",
    "<br>"
   ]
  },
  {
   "cell_type": "markdown",
   "metadata": {},
   "source": [
    "####  Get the Inferrences on the Test Set"
   ]
  },
  {
   "cell_type": "code",
   "execution_count": null,
   "metadata": {},
   "outputs": [],
   "source": [
    "inputs, preds, targs, decoded, losses = test_learn.get_preds(dl=test_dl, with_input=True, with_decoded=True, with_loss=True)\n"
   ]
  },
  {
   "cell_type": "code",
   "execution_count": null,
   "metadata": {},
   "outputs": [],
   "source": [
    "interp = ClassificationInterpretation(dl=test_dl, inputs=inputs, preds=preds, targs=targs, decoded=decoded, losses=losses )"
   ]
  },
  {
   "cell_type": "code",
   "execution_count": null,
   "metadata": {},
   "outputs": [],
   "source": [
    "# test_learn.get_preds()"
   ]
  },
  {
   "cell_type": "raw",
   "metadata": {
    "execution": {
     "iopub.execute_input": "2021-01-19T11:34:38.275317Z",
     "iopub.status.busy": "2021-01-19T11:34:38.275201Z",
     "iopub.status.idle": "2021-01-19T11:34:38.281831Z",
     "shell.execute_reply": "2021-01-19T11:34:38.281519Z",
     "shell.execute_reply.started": "2021-01-19T11:34:38.275306Z"
    }
   },
   "source": [
    "# pos = 0\n",
    "# neg = 0\n",
    "\n",
    "\n",
    "# for pred, targ in preds, targs:\n",
    "#     if pred == targ: TP = TP + 1\n",
    "#     if pred != targ:\n",
    "            \n",
    "# print(f'Correct: {correct}')\n",
    "# print(f'Wrong:   {wrong}')"
   ]
  },
  {
   "cell_type": "markdown",
   "metadata": {},
   "source": [
    "<br>\n",
    "\n",
    "### Visualize with a confusion Matrix"
   ]
  },
  {
   "cell_type": "code",
   "execution_count": null,
   "metadata": {},
   "outputs": [],
   "source": [
    "interp.plot_confusion_matrix(figsize=(8,8))"
   ]
  },
  {
   "cell_type": "code",
   "execution_count": null,
   "metadata": {},
   "outputs": [],
   "source": [
    "interp.most_confused()[:10]"
   ]
  },
  {
   "cell_type": "markdown",
   "metadata": {},
   "source": [
    "<br>\n",
    "<br>"
   ]
  },
  {
   "cell_type": "markdown",
   "metadata": {},
   "source": [
    "## Classification Report"
   ]
  },
  {
   "cell_type": "code",
   "execution_count": null,
   "metadata": {
    "jupyter": {
     "source_hidden": true
    }
   },
   "outputs": [],
   "source": [
    "interp.print_classification_report()"
   ]
  },
  {
   "cell_type": "code",
   "execution_count": null,
   "metadata": {},
   "outputs": [],
   "source": [
    "interp.plot_top_losses(k=15)"
   ]
  },
  {
   "cell_type": "markdown",
   "metadata": {},
   "source": [
    "<br>\n",
    "<br>\n",
    "<br>\n",
    "\n",
    "## Clean up\n",
    "\n",
    "<br>"
   ]
  },
  {
   "cell_type": "code",
   "execution_count": null,
   "metadata": {},
   "outputs": [],
   "source": [
    "wandb.join()"
   ]
  },
  {
   "cell_type": "code",
   "execution_count": null,
   "metadata": {},
   "outputs": [],
   "source": [
    "wandb.finish()"
   ]
  },
  {
   "cell_type": "markdown",
   "metadata": {},
   "source": [
    "<br>\n",
    "<br>\n",
    "<br>\n",
    "<hr>\n",
    "<br>\n",
    "\n",
    "# Log\n",
    "\n",
    "* started to plot the learning rates and started to use that information while fitting.\n",
    "* Downgraded to resnet34 @ 300px in order to increase the resolution fed to the model from 128px to 300px - this made a major difference.\n",
    "* Decreased the number of training epochs to 6 after experimenting to find the sweet spot. - also positive change\n",
    "* Changed to exclusively use fine-tune() with it's built in freeze_epochs parameter\n",
    "* Changed the Batch Size in order to bring the arch back to resnet101 @300px\n",
    "* Cleaned up the markdown, removed cells and reordered the rest.\n",
    "* Added an Early Stop.  Starting with 0.01 delta.  \n",
    "* Now moving to 0.1 delta\n",
    "* Integrated wandb to keep track of experiments.\n",
    "* added section to balance the dataset through oversampling.\n",
    "\n",
    "** Attempting a batch size of 12 and 384px with resnet101.  long training times.\n",
    "** Also increased the epochs to 4 on the final layer and 7 on the rest.\n",
    "    "
   ]
  },
  {
   "cell_type": "code",
   "execution_count": null,
   "metadata": {},
   "outputs": [],
   "source": []
  },
  {
   "cell_type": "code",
   "execution_count": null,
   "metadata": {},
   "outputs": [],
   "source": [
    "# learn.unfreeze()"
   ]
  },
  {
   "cell_type": "code",
   "execution_count": null,
   "metadata": {},
   "outputs": [],
   "source": [
    "# learn.fine_tune(epochs=2, freeze_epochs=1, base_lr=high)\n",
    "#                 cbs=[mixup_cb, ShowGraphCallback(), SaveModelCallback(), early_stop])"
   ]
  },
  {
   "cell_type": "code",
   "execution_count": null,
   "metadata": {},
   "outputs": [],
   "source": [
    "# low, high = learn.lr_find()"
   ]
  },
  {
   "cell_type": "code",
   "execution_count": null,
   "metadata": {},
   "outputs": [],
   "source": [
    "# low"
   ]
  },
  {
   "cell_type": "code",
   "execution_count": null,
   "metadata": {},
   "outputs": [],
   "source": [
    "# high"
   ]
  },
  {
   "cell_type": "markdown",
   "metadata": {},
   "source": [
    "## Archive this version of the notehook"
   ]
  },
  {
   "cell_type": "code",
   "execution_count": null,
   "metadata": {},
   "outputs": [],
   "source": [
    "import os\n",
    "import shutil\n",
    "\n",
    "# Allow Jupyter the opportunity to autosave\n",
    "!sleep 20\n",
    "# time = '20210122-2356'\n",
    "# copy the notebook file - the prefix links it to the saved model\n",
    "shutil.copyfile('Sign3.ipynb', f'.Archive/{time} - Sign3.ipynb')"
   ]
  },
  {
   "cell_type": "code",
   "execution_count": null,
   "metadata": {},
   "outputs": [],
   "source": []
  },
  {
   "cell_type": "code",
   "execution_count": null,
   "metadata": {},
   "outputs": [],
   "source": []
  },
  {
   "cell_type": "code",
   "execution_count": null,
   "metadata": {},
   "outputs": [],
   "source": []
  },
  {
   "cell_type": "code",
   "execution_count": null,
   "metadata": {},
   "outputs": [],
   "source": [
    "# # learn = cnn_learner(dls, arch=ARCH, metrics=[error_rate, accuracy], cbs=cbs, loss_func=LabelSmoothingCrossEntropy(), pretrained=PRETRAINED_FLAG)\n",
    "# learn = load_learner('../models/20210118-1443 - arch=resnet50 - samples=480 frozen=0 epochs=6 bs=20 res=300 _data=external.pkl', cpu=False)\n",
    "# learn.dls = dls\n",
    "\n",
    "# lr_min,lr_steep = learn.lr_find()\n",
    "# print(f\"Minimum/10: {lr_min:.2e}, steepest point: {lr_steep:.2e}\")\n",
    "\n",
    "# learn.fine_tune(1, freeze_epochs=2, base_lr=lr_min)"
   ]
  },
  {
   "cell_type": "code",
   "execution_count": null,
   "metadata": {},
   "outputs": [],
   "source": [
    "# image = PILImage.create('../data/20210121_132256.jpg')\n",
    "letter = 'F'\n",
    "images = [PILImage.create(f'../data/frank/Training_Set/{letter}/1000.jpg'),    PILImage.create(f'../data/frank/Training_Set/{letter}/1008.jpg'),    PILImage.create(f'../data/frank/Training_Set/{letter}/1016.jpg'),    PILImage.create(f'../data/frank/Training_Set/{letter}/1024.jpg'),    PILImage.create(f'../data/frank/Training_Set/{letter}/1032.jpg'),    PILImage.create(f'../data/frank/Training_Set/{letter}/1040.jpg')]"
   ]
  },
  {
   "cell_type": "code",
   "execution_count": null,
   "metadata": {},
   "outputs": [],
   "source": [
    "for img in images:\n",
    "    print(test_learn.predict(img)[0])\n"
   ]
  },
  {
   "cell_type": "code",
   "execution_count": null,
   "metadata": {},
   "outputs": [],
   "source": [
    "test_learn.predict(PILImage.create(f'../data/frank/Training_Set/E/1000.jpg'))"
   ]
  },
  {
   "cell_type": "code",
   "execution_count": null,
   "metadata": {},
   "outputs": [],
   "source": []
  },
  {
   "cell_type": "code",
   "execution_count": null,
   "metadata": {},
   "outputs": [],
   "source": [
    "print(f\"RUN_NAME = '{RUN_NAME}'\")\n"
   ]
  }
 ],
 "metadata": {
  "kernelspec": {
   "display_name": "Python [conda env:learn] *",
   "language": "python",
   "name": "conda-env-learn-py"
  },
  "language_info": {
   "codemirror_mode": {
    "name": "ipython",
    "version": 3
   },
   "file_extension": ".py",
   "mimetype": "text/x-python",
   "name": "python",
   "nbconvert_exporter": "python",
   "pygments_lexer": "ipython3",
   "version": "3.8.6"
  },
  "toc-autonumbering": true,
  "toc-showcode": false,
  "toc-showmarkdowntxt": true,
  "toc-showtags": false,
  "widgets": {
   "application/vnd.jupyter.widget-state+json": {
    "state": {
     "12438ceafd7c404db7da47e2bc7c3e7b": {
      "model_module": "jupyter-matplotlib",
      "model_module_version": "^0.8.3",
      "model_name": "MPLCanvasModel",
      "state": {
       "layout": "IPY_MODEL_8c68e263070647da859ff9ff123f3f7f",
       "toolbar": "IPY_MODEL_3bbe4d0ddd4841e2b73c64f1d0e64987",
       "toolbar_position": "left"
      }
     },
     "167980776d994b04848d46d04f3de43d": {
      "model_module": "jupyter-matplotlib",
      "model_module_version": "^0.8.3",
      "model_name": "MPLCanvasModel",
      "state": {
       "_cursor": "default",
       "_figure_label": "Figure 2",
       "_height": 360,
       "_image_mode": "diff",
       "_width": 720,
       "layout": "IPY_MODEL_5cdd40068895498287ab66f25e12c128",
       "toolbar": "IPY_MODEL_306682cc84c44ffdb8ab989dd9de8cc9",
       "toolbar_position": "left"
      }
     },
     "2738b86a754f4a208e2a7fadca65c588": {
      "model_module": "jupyter-matplotlib",
      "model_module_version": "^0.8.3",
      "model_name": "ToolbarModel",
      "state": {
       "layout": "IPY_MODEL_46c253a3dd004e5280ef52c5f03c3142",
       "toolitems": [
        [
         "Home",
         "Reset original view",
         "home",
         "home"
        ],
        [
         "Back",
         "Back to previous view",
         "arrow-left",
         "back"
        ],
        [
         "Forward",
         "Forward to next view",
         "arrow-right",
         "forward"
        ],
        [
         "Pan",
         "Left button pans, Right button zooms\nx/y fixes axis, CTRL fixes aspect",
         "arrows",
         "pan"
        ],
        [
         "Zoom",
         "Zoom to rectangle\nx/y fixes axis, CTRL fixes aspect",
         "square-o",
         "zoom"
        ],
        [
         "Download",
         "Download plot",
         "floppy-o",
         "save_figure"
        ]
       ]
      }
     },
     "2a00402bbbb54813b853f3cba6a6f51f": {
      "model_module": "jupyter-matplotlib",
      "model_module_version": "^0.8.3",
      "model_name": "MPLCanvasModel",
      "state": {
       "_cursor": "default",
       "_figure_label": "Figure 6",
       "_height": 720,
       "_image_mode": "diff",
       "_message": "x=2.80273e-07  y=5.545",
       "_width": 1200,
       "layout": "IPY_MODEL_fa808e9e525b42bebab6944ec203ab34",
       "toolbar": "IPY_MODEL_51ac556df6174e1cb86d93c4d462aea6",
       "toolbar_position": "left"
      }
     },
     "2c2fc2d17bb24ad78ff1559025ffa25d": {
      "model_module": "@jupyter-widgets/base",
      "model_module_version": "1.2.0",
      "model_name": "LayoutModel",
      "state": {}
     },
     "2fd7314b3d894ea8891a226906cf6a60": {
      "model_module": "jupyter-matplotlib",
      "model_module_version": "^0.8.3",
      "model_name": "ToolbarModel",
      "state": {
       "layout": "IPY_MODEL_802f39df7451488096e5071e18943962",
       "toolitems": [
        [
         "Home",
         "Reset original view",
         "home",
         "home"
        ],
        [
         "Back",
         "Back to previous view",
         "arrow-left",
         "back"
        ],
        [
         "Forward",
         "Forward to next view",
         "arrow-right",
         "forward"
        ],
        [
         "Pan",
         "Left button pans, Right button zooms\nx/y fixes axis, CTRL fixes aspect",
         "arrows",
         "pan"
        ],
        [
         "Zoom",
         "Zoom to rectangle\nx/y fixes axis, CTRL fixes aspect",
         "square-o",
         "zoom"
        ],
        [
         "Download",
         "Download plot",
         "floppy-o",
         "save_figure"
        ]
       ]
      }
     },
     "306682cc84c44ffdb8ab989dd9de8cc9": {
      "model_module": "jupyter-matplotlib",
      "model_module_version": "^0.8.3",
      "model_name": "ToolbarModel",
      "state": {
       "layout": "IPY_MODEL_50f03780973c4185a58e71bf0adb36d5",
       "toolitems": [
        [
         "Home",
         "Reset original view",
         "home",
         "home"
        ],
        [
         "Back",
         "Back to previous view",
         "arrow-left",
         "back"
        ],
        [
         "Forward",
         "Forward to next view",
         "arrow-right",
         "forward"
        ],
        [
         "Pan",
         "Left button pans, Right button zooms\nx/y fixes axis, CTRL fixes aspect",
         "arrows",
         "pan"
        ],
        [
         "Zoom",
         "Zoom to rectangle\nx/y fixes axis, CTRL fixes aspect",
         "square-o",
         "zoom"
        ],
        [
         "Download",
         "Download plot",
         "floppy-o",
         "save_figure"
        ]
       ]
      }
     },
     "346a5f51a04d428ea453ef6e442853b7": {
      "model_module": "@jupyter-widgets/base",
      "model_module_version": "1.2.0",
      "model_name": "LayoutModel",
      "state": {}
     },
     "3bbe4d0ddd4841e2b73c64f1d0e64987": {
      "model_module": "jupyter-matplotlib",
      "model_module_version": "^0.8.3",
      "model_name": "ToolbarModel",
      "state": {
       "layout": "IPY_MODEL_8c9c17b64240474e90885fdb2e2fcc7c",
       "toolitems": [
        [
         "Home",
         "Reset original view",
         "home",
         "home"
        ],
        [
         "Back",
         "Back to previous view",
         "arrow-left",
         "back"
        ],
        [
         "Forward",
         "Forward to next view",
         "arrow-right",
         "forward"
        ],
        [
         "Pan",
         "Left button pans, Right button zooms\nx/y fixes axis, CTRL fixes aspect",
         "arrows",
         "pan"
        ],
        [
         "Zoom",
         "Zoom to rectangle\nx/y fixes axis, CTRL fixes aspect",
         "square-o",
         "zoom"
        ],
        [
         "Download",
         "Download plot",
         "floppy-o",
         "save_figure"
        ]
       ]
      }
     },
     "41ad4e6cfb9944deb2c15dd14d3a2f92": {
      "model_module": "jupyter-matplotlib",
      "model_module_version": "^0.8.3",
      "model_name": "ToolbarModel",
      "state": {
       "layout": "IPY_MODEL_346a5f51a04d428ea453ef6e442853b7",
       "toolitems": [
        [
         "Home",
         "Reset original view",
         "home",
         "home"
        ],
        [
         "Back",
         "Back to previous view",
         "arrow-left",
         "back"
        ],
        [
         "Forward",
         "Forward to next view",
         "arrow-right",
         "forward"
        ],
        [
         "Pan",
         "Left button pans, Right button zooms\nx/y fixes axis, CTRL fixes aspect",
         "arrows",
         "pan"
        ],
        [
         "Zoom",
         "Zoom to rectangle\nx/y fixes axis, CTRL fixes aspect",
         "square-o",
         "zoom"
        ],
        [
         "Download",
         "Download plot",
         "floppy-o",
         "save_figure"
        ]
       ]
      }
     },
     "46c253a3dd004e5280ef52c5f03c3142": {
      "model_module": "@jupyter-widgets/base",
      "model_module_version": "1.2.0",
      "model_name": "LayoutModel",
      "state": {}
     },
     "4a17ca65511241ccb86f9a0851cc29d4": {
      "model_module": "jupyter-matplotlib",
      "model_module_version": "^0.8.3",
      "model_name": "MPLCanvasModel",
      "state": {
       "_cursor": "default",
       "_figure_label": "Figure 5",
       "_height": 720,
       "_image_mode": "diff",
       "_message": "x=0.0100129    y=4.891",
       "_width": 1200,
       "layout": "IPY_MODEL_2c2fc2d17bb24ad78ff1559025ffa25d",
       "toolbar": "IPY_MODEL_fb609c7ee58445f2b87506ade77600f4",
       "toolbar_position": "left"
      }
     },
     "4ee2a54222c445e5b09a0c183a9cd6d3": {
      "model_module": "@jupyter-widgets/base",
      "model_module_version": "1.2.0",
      "model_name": "LayoutModel",
      "state": {}
     },
     "50f03780973c4185a58e71bf0adb36d5": {
      "model_module": "@jupyter-widgets/base",
      "model_module_version": "1.2.0",
      "model_name": "LayoutModel",
      "state": {}
     },
     "51ac556df6174e1cb86d93c4d462aea6": {
      "model_module": "jupyter-matplotlib",
      "model_module_version": "^0.8.3",
      "model_name": "ToolbarModel",
      "state": {
       "layout": "IPY_MODEL_8c51389b571649008948579fe3a6a161",
       "toolitems": [
        [
         "Home",
         "Reset original view",
         "home",
         "home"
        ],
        [
         "Back",
         "Back to previous view",
         "arrow-left",
         "back"
        ],
        [
         "Forward",
         "Forward to next view",
         "arrow-right",
         "forward"
        ],
        [
         "Pan",
         "Left button pans, Right button zooms\nx/y fixes axis, CTRL fixes aspect",
         "arrows",
         "pan"
        ],
        [
         "Zoom",
         "Zoom to rectangle\nx/y fixes axis, CTRL fixes aspect",
         "square-o",
         "zoom"
        ],
        [
         "Download",
         "Download plot",
         "floppy-o",
         "save_figure"
        ]
       ]
      }
     },
     "5cdd40068895498287ab66f25e12c128": {
      "model_module": "@jupyter-widgets/base",
      "model_module_version": "1.2.0",
      "model_name": "LayoutModel",
      "state": {}
     },
     "64769e0260df49bd9195fc235daa8aaf": {
      "model_module": "jupyter-matplotlib",
      "model_module_version": "^0.8.3",
      "model_name": "MPLCanvasModel",
      "state": {
       "_cursor": "default",
       "_figure_label": "Figure 7",
       "_height": 720,
       "_width": 1200,
       "layout": "IPY_MODEL_6d8e78b1d7234fe7b3423909f9b8a412",
       "toolbar": "IPY_MODEL_2738b86a754f4a208e2a7fadca65c588",
       "toolbar_position": "left"
      }
     },
     "6d8e78b1d7234fe7b3423909f9b8a412": {
      "model_module": "@jupyter-widgets/base",
      "model_module_version": "1.2.0",
      "model_name": "LayoutModel",
      "state": {}
     },
     "7115712ee3244149ba9311aad333b801": {
      "model_module": "jupyter-matplotlib",
      "model_module_version": "^0.8.3",
      "model_name": "ToolbarModel",
      "state": {
       "layout": "IPY_MODEL_c1dfede72c004c9dbe238309f5179de3",
       "toolitems": [
        [
         "Home",
         "Reset original view",
         "home",
         "home"
        ],
        [
         "Back",
         "Back to previous view",
         "arrow-left",
         "back"
        ],
        [
         "Forward",
         "Forward to next view",
         "arrow-right",
         "forward"
        ],
        [
         "Pan",
         "Left button pans, Right button zooms\nx/y fixes axis, CTRL fixes aspect",
         "arrows",
         "pan"
        ],
        [
         "Zoom",
         "Zoom to rectangle\nx/y fixes axis, CTRL fixes aspect",
         "square-o",
         "zoom"
        ],
        [
         "Download",
         "Download plot",
         "floppy-o",
         "save_figure"
        ]
       ]
      }
     },
     "7347e443478244fba0c7f5d686a49adc": {
      "model_module": "@jupyter-widgets/base",
      "model_module_version": "1.2.0",
      "model_name": "LayoutModel",
      "state": {}
     },
     "802f39df7451488096e5071e18943962": {
      "model_module": "@jupyter-widgets/base",
      "model_module_version": "1.2.0",
      "model_name": "LayoutModel",
      "state": {}
     },
     "89368d40408d43caa0b5602ec02f98c9": {
      "model_module": "jupyter-matplotlib",
      "model_module_version": "^0.8.3",
      "model_name": "MPLCanvasModel",
      "state": {
       "_cursor": "default",
       "_figure_label": "Figure 1",
       "_height": 360,
       "_image_mode": "diff",
       "_width": 720,
       "layout": "IPY_MODEL_c437d590adc44a558ca642fede07121b",
       "toolbar": "IPY_MODEL_7115712ee3244149ba9311aad333b801",
       "toolbar_position": "left"
      }
     },
     "8c51389b571649008948579fe3a6a161": {
      "model_module": "@jupyter-widgets/base",
      "model_module_version": "1.2.0",
      "model_name": "LayoutModel",
      "state": {}
     },
     "8c68e263070647da859ff9ff123f3f7f": {
      "model_module": "@jupyter-widgets/base",
      "model_module_version": "1.2.0",
      "model_name": "LayoutModel",
      "state": {}
     },
     "8c9c17b64240474e90885fdb2e2fcc7c": {
      "model_module": "@jupyter-widgets/base",
      "model_module_version": "1.2.0",
      "model_name": "LayoutModel",
      "state": {}
     },
     "8eb65bf60e8341719842524c815e5c64": {
      "model_module": "@jupyter-widgets/base",
      "model_module_version": "1.2.0",
      "model_name": "LayoutModel",
      "state": {}
     },
     "94c009d78aee488ea320bf621cb537a2": {
      "model_module": "jupyter-matplotlib",
      "model_module_version": "^0.8.3",
      "model_name": "ToolbarModel",
      "state": {
       "layout": "IPY_MODEL_8eb65bf60e8341719842524c815e5c64",
       "toolitems": [
        [
         "Home",
         "Reset original view",
         "home",
         "home"
        ],
        [
         "Back",
         "Back to previous view",
         "arrow-left",
         "back"
        ],
        [
         "Forward",
         "Forward to next view",
         "arrow-right",
         "forward"
        ],
        [
         "Pan",
         "Left button pans, Right button zooms\nx/y fixes axis, CTRL fixes aspect",
         "arrows",
         "pan"
        ],
        [
         "Zoom",
         "Zoom to rectangle\nx/y fixes axis, CTRL fixes aspect",
         "square-o",
         "zoom"
        ],
        [
         "Download",
         "Download plot",
         "floppy-o",
         "save_figure"
        ]
       ]
      }
     },
     "99ab8d0f92314650844a731a1f4583cf": {
      "model_module": "@jupyter-widgets/base",
      "model_module_version": "1.2.0",
      "model_name": "LayoutModel",
      "state": {}
     },
     "9f97e533a21f46988d2e13a4fabdd154": {
      "model_module": "jupyter-matplotlib",
      "model_module_version": "^0.8.3",
      "model_name": "MPLCanvasModel",
      "state": {
       "_cursor": "default",
       "_figure_label": "Figure 4",
       "_height": 1080,
       "_image_mode": "diff",
       "_width": 1080,
       "layout": "IPY_MODEL_4ee2a54222c445e5b09a0c183a9cd6d3",
       "toolbar": "IPY_MODEL_94c009d78aee488ea320bf621cb537a2",
       "toolbar_position": "left"
      }
     },
     "c1dfede72c004c9dbe238309f5179de3": {
      "model_module": "@jupyter-widgets/base",
      "model_module_version": "1.2.0",
      "model_name": "LayoutModel",
      "state": {}
     },
     "c437d590adc44a558ca642fede07121b": {
      "model_module": "@jupyter-widgets/base",
      "model_module_version": "1.2.0",
      "model_name": "LayoutModel",
      "state": {}
     },
     "dadec4ad2a784a5590afb96360ff9252": {
      "model_module": "jupyter-matplotlib",
      "model_module_version": "^0.8.3",
      "model_name": "MPLCanvasModel",
      "state": {
       "_cursor": "default",
       "_figure_label": "Figure 3",
       "_height": 360,
       "_image_mode": "diff",
       "_message": "x=Y y=16%",
       "_width": 720,
       "layout": "IPY_MODEL_eb0bdee1947044f29365e665aed7cc3b",
       "toolbar": "IPY_MODEL_2fd7314b3d894ea8891a226906cf6a60",
       "toolbar_position": "left"
      }
     },
     "eb0bdee1947044f29365e665aed7cc3b": {
      "model_module": "@jupyter-widgets/base",
      "model_module_version": "1.2.0",
      "model_name": "LayoutModel",
      "state": {}
     },
     "fa808e9e525b42bebab6944ec203ab34": {
      "model_module": "@jupyter-widgets/base",
      "model_module_version": "1.2.0",
      "model_name": "LayoutModel",
      "state": {}
     },
     "fb609c7ee58445f2b87506ade77600f4": {
      "model_module": "jupyter-matplotlib",
      "model_module_version": "^0.8.3",
      "model_name": "ToolbarModel",
      "state": {
       "layout": "IPY_MODEL_7347e443478244fba0c7f5d686a49adc",
       "toolitems": [
        [
         "Home",
         "Reset original view",
         "home",
         "home"
        ],
        [
         "Back",
         "Back to previous view",
         "arrow-left",
         "back"
        ],
        [
         "Forward",
         "Forward to next view",
         "arrow-right",
         "forward"
        ],
        [
         "Pan",
         "Left button pans, Right button zooms\nx/y fixes axis, CTRL fixes aspect",
         "arrows",
         "pan"
        ],
        [
         "Zoom",
         "Zoom to rectangle\nx/y fixes axis, CTRL fixes aspect",
         "square-o",
         "zoom"
        ],
        [
         "Download",
         "Download plot",
         "floppy-o",
         "save_figure"
        ]
       ]
      }
     }
    },
    "version_major": 2,
    "version_minor": 0
   }
  }
 },
 "nbformat": 4,
 "nbformat_minor": 4
}
